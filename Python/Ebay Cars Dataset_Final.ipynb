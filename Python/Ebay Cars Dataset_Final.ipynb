{
 "cells": [
  {
   "cell_type": "markdown",
   "metadata": {},
   "source": [
    "## 1. FRAMING THE PROBLEM\n",
    "\n",
    "__AKIV Cars Machine Learning Algorithm__\n",
    "\n",
    "AKIV Cars is a used-car dealership. Before buying any car to resell or selling to customers looking for used cars, AKIV wants to use their ML algorithm to predict the true value of a car (market price), as well as how long it will take to sell the car. AKIV will input the chosen explanatory variables (brand, type, gearbox, power, etc.) and extract from the algorithm the predicted market price and # of days to sell car."
   ]
  },
  {
   "cell_type": "markdown",
   "metadata": {},
   "source": [
    "## Initialization"
   ]
  },
  {
   "cell_type": "code",
   "execution_count": 277,
   "metadata": {},
   "outputs": [
    {
     "name": "stdout",
     "output_type": "stream",
     "text": [
      "2.1.0\n",
      "2.2.4-tf\n"
     ]
    }
   ],
   "source": [
    "# Python ≥3.5 is required\n",
    "import sys\n",
    "assert sys.version_info >= (3, 5)\n",
    "\n",
    "# Scikit-Learn ≥0.20 is required\n",
    "import sklearn\n",
    "assert sklearn.__version__ >= \"0.20\"\n",
    "\n",
    "# Tensorflow and Keras\n",
    "import tensorflow as tf\n",
    "from tensorflow import keras\n",
    "print(tf.__version__)\n",
    "print(keras.__version__)\n",
    "\n",
    "import pandas as pd\n",
    "import datetime as dt\n",
    "import matplotlib.pyplot as plt\n",
    "import numpy as np\n",
    "import seaborn as sns\n",
    "import os\n",
    "import statsmodels.api as sm\n",
    "from scipy import stats\n",
    "\n",
    "# Packages\n",
    "from datetime import datetime\n",
    "from pandas.plotting import scatter_matrix\n",
    "from matplotlib.cbook import boxplot_stats \n",
    "from sklearn.model_selection import StratifiedShuffleSplit\n",
    "from sklearn.model_selection import train_test_split\n",
    "from sklearn.base import BaseEstimator, TransformerMixin, RegressorMixin\n",
    "from sklearn.pipeline import Pipeline\n",
    "from sklearn.preprocessing import OneHotEncoder\n",
    "from sklearn.impute import SimpleImputer\n",
    "from sklearn.pipeline import FeatureUnion\n",
    "from sklearn.preprocessing import StandardScaler\n",
    "from sklearn.compose import ColumnTransformer\n",
    "from keras.layers.advanced_activations import LeakyReLU\n",
    "from scipy.stats import reciprocal\n",
    "\n",
    "\n",
    "# Models\n",
    "from sklearn.tree import DecisionTreeRegressor\n",
    "from sklearn.ensemble import RandomForestRegressor\n",
    "from sklearn.svm import LinearSVR\n",
    "from sklearn.svm import SVR\n",
    "from sklearn.linear_model import LinearRegression\n",
    "\n",
    "# Model evaluation und visualisation\n",
    "from sklearn.metrics import mean_squared_error\n",
    "from sklearn.model_selection import cross_val_score\n",
    "from sklearn.metrics import confusion_matrix\n",
    "from sklearn.metrics import roc_curve\n",
    "from sklearn.metrics import precision_recall_curve\n",
    "\n",
    "# Hyperparameter optimisation\n",
    "from sklearn.model_selection import GridSearchCV\n",
    "from sklearn.model_selection import RandomizedSearchCV\n",
    "\n",
    "# to make this notebook's output stable across runs\n",
    "np.random.seed(24)"
   ]
  },
  {
   "cell_type": "markdown",
   "metadata": {},
   "source": [
    "## 2. GETTING THE DATA"
   ]
  },
  {
   "cell_type": "code",
   "execution_count": 366,
   "metadata": {},
   "outputs": [],
   "source": [
    "#Loading autos.csv file\n",
    "autos = pd.read_csv(\"autos.csv\", encoding=\"ISO-8859–1\")"
   ]
  },
  {
   "cell_type": "code",
   "execution_count": 367,
   "metadata": {},
   "outputs": [],
   "source": [
    "pd.set_option('display.max_rows', 10)"
   ]
  },
  {
   "cell_type": "markdown",
   "metadata": {},
   "source": [
    "## 3. CLEANING & MANIPULATING THE DATA"
   ]
  },
  {
   "cell_type": "code",
   "execution_count": 368,
   "metadata": {},
   "outputs": [
    {
     "name": "stdout",
     "output_type": "stream",
     "text": [
      "<class 'pandas.core.frame.DataFrame'>\n",
      "RangeIndex: 371528 entries, 0 to 371527\n",
      "Data columns (total 20 columns):\n",
      " #   Column               Non-Null Count   Dtype \n",
      "---  ------               --------------   ----- \n",
      " 0   dateCrawled          371528 non-null  object\n",
      " 1   name                 371528 non-null  object\n",
      " 2   seller               371528 non-null  object\n",
      " 3   offerType            371528 non-null  object\n",
      " 4   price                371528 non-null  int64 \n",
      " 5   abtest               371528 non-null  object\n",
      " 6   vehicleType          333659 non-null  object\n",
      " 7   yearOfRegistration   371528 non-null  int64 \n",
      " 8   gearbox              351319 non-null  object\n",
      " 9   powerPS              371528 non-null  int64 \n",
      " 10  model                351044 non-null  object\n",
      " 11  kilometer            371528 non-null  int64 \n",
      " 12  monthOfRegistration  371528 non-null  int64 \n",
      " 13  fuelType             338142 non-null  object\n",
      " 14  brand                371528 non-null  object\n",
      " 15  notRepairedDamage    299468 non-null  object\n",
      " 16  dateCreated          371528 non-null  object\n",
      " 17  nrOfPictures         371528 non-null  int64 \n",
      " 18  postalCode           371528 non-null  int64 \n",
      " 19  lastSeen             371528 non-null  object\n",
      "dtypes: int64(7), object(13)\n",
      "memory usage: 56.7+ MB\n"
     ]
    }
   ],
   "source": [
    "autos.info()"
   ]
  },
  {
   "cell_type": "markdown",
   "metadata": {},
   "source": [
    "Some columns have missing values and since they have \"object\" as data type, they will have to be removed as we will not focus on estimating the missing categorical values to fill in the blanks."
   ]
  },
  {
   "cell_type": "code",
   "execution_count": 369,
   "metadata": {},
   "outputs": [
    {
     "name": "stdout",
     "output_type": "stream",
     "text": [
      "<class 'pandas.core.frame.DataFrame'>\n",
      "Int64Index: 260956 entries, 3 to 371527\n",
      "Data columns (total 20 columns):\n",
      " #   Column               Non-Null Count   Dtype \n",
      "---  ------               --------------   ----- \n",
      " 0   dateCrawled          260956 non-null  object\n",
      " 1   name                 260956 non-null  object\n",
      " 2   seller               260956 non-null  object\n",
      " 3   offerType            260956 non-null  object\n",
      " 4   price                260956 non-null  int64 \n",
      " 5   abtest               260956 non-null  object\n",
      " 6   vehicleType          260956 non-null  object\n",
      " 7   yearOfRegistration   260956 non-null  int64 \n",
      " 8   gearbox              260956 non-null  object\n",
      " 9   powerPS              260956 non-null  int64 \n",
      " 10  model                260956 non-null  object\n",
      " 11  kilometer            260956 non-null  int64 \n",
      " 12  monthOfRegistration  260956 non-null  int64 \n",
      " 13  fuelType             260956 non-null  object\n",
      " 14  brand                260956 non-null  object\n",
      " 15  notRepairedDamage    260956 non-null  object\n",
      " 16  dateCreated          260956 non-null  object\n",
      " 17  nrOfPictures         260956 non-null  int64 \n",
      " 18  postalCode           260956 non-null  int64 \n",
      " 19  lastSeen             260956 non-null  object\n",
      "dtypes: int64(7), object(13)\n",
      "memory usage: 41.8+ MB\n"
     ]
    }
   ],
   "source": [
    "autos = autos.dropna()\n",
    "autos.info()"
   ]
  },
  {
   "cell_type": "markdown",
   "metadata": {},
   "source": [
    "Some columns are not relevant such as: name, abtest, monthOfRegistration, nrOfPictures, and postalCode, therefore we shall remove them."
   ]
  },
  {
   "cell_type": "code",
   "execution_count": 370,
   "metadata": {},
   "outputs": [
    {
     "data": {
      "text/html": [
       "<div>\n",
       "<style scoped>\n",
       "    .dataframe tbody tr th:only-of-type {\n",
       "        vertical-align: middle;\n",
       "    }\n",
       "\n",
       "    .dataframe tbody tr th {\n",
       "        vertical-align: top;\n",
       "    }\n",
       "\n",
       "    .dataframe thead th {\n",
       "        text-align: right;\n",
       "    }\n",
       "</style>\n",
       "<table border=\"1\" class=\"dataframe\">\n",
       "  <thead>\n",
       "    <tr style=\"text-align: right;\">\n",
       "      <th></th>\n",
       "      <th>dateCrawled</th>\n",
       "      <th>seller</th>\n",
       "      <th>offerType</th>\n",
       "      <th>price</th>\n",
       "      <th>vehicleType</th>\n",
       "      <th>yearOfRegistration</th>\n",
       "      <th>gearbox</th>\n",
       "      <th>powerPS</th>\n",
       "      <th>model</th>\n",
       "      <th>kilometer</th>\n",
       "      <th>fuelType</th>\n",
       "      <th>brand</th>\n",
       "      <th>notRepairedDamage</th>\n",
       "      <th>dateCreated</th>\n",
       "      <th>lastSeen</th>\n",
       "    </tr>\n",
       "  </thead>\n",
       "  <tbody>\n",
       "    <tr>\n",
       "      <th>3</th>\n",
       "      <td>2016-03-17 16:54:04</td>\n",
       "      <td>privat</td>\n",
       "      <td>Angebot</td>\n",
       "      <td>1500</td>\n",
       "      <td>kleinwagen</td>\n",
       "      <td>2001</td>\n",
       "      <td>manuell</td>\n",
       "      <td>75</td>\n",
       "      <td>golf</td>\n",
       "      <td>150000</td>\n",
       "      <td>benzin</td>\n",
       "      <td>volkswagen</td>\n",
       "      <td>nein</td>\n",
       "      <td>2016-03-17 00:00:00</td>\n",
       "      <td>2016-03-17 17:40:17</td>\n",
       "    </tr>\n",
       "    <tr>\n",
       "      <th>4</th>\n",
       "      <td>2016-03-31 17:25:20</td>\n",
       "      <td>privat</td>\n",
       "      <td>Angebot</td>\n",
       "      <td>3600</td>\n",
       "      <td>kleinwagen</td>\n",
       "      <td>2008</td>\n",
       "      <td>manuell</td>\n",
       "      <td>69</td>\n",
       "      <td>fabia</td>\n",
       "      <td>90000</td>\n",
       "      <td>diesel</td>\n",
       "      <td>skoda</td>\n",
       "      <td>nein</td>\n",
       "      <td>2016-03-31 00:00:00</td>\n",
       "      <td>2016-04-06 10:17:21</td>\n",
       "    </tr>\n",
       "    <tr>\n",
       "      <th>5</th>\n",
       "      <td>2016-04-04 17:36:23</td>\n",
       "      <td>privat</td>\n",
       "      <td>Angebot</td>\n",
       "      <td>650</td>\n",
       "      <td>limousine</td>\n",
       "      <td>1995</td>\n",
       "      <td>manuell</td>\n",
       "      <td>102</td>\n",
       "      <td>3er</td>\n",
       "      <td>150000</td>\n",
       "      <td>benzin</td>\n",
       "      <td>bmw</td>\n",
       "      <td>ja</td>\n",
       "      <td>2016-04-04 00:00:00</td>\n",
       "      <td>2016-04-06 19:17:07</td>\n",
       "    </tr>\n",
       "    <tr>\n",
       "      <th>6</th>\n",
       "      <td>2016-04-01 20:48:51</td>\n",
       "      <td>privat</td>\n",
       "      <td>Angebot</td>\n",
       "      <td>2200</td>\n",
       "      <td>cabrio</td>\n",
       "      <td>2004</td>\n",
       "      <td>manuell</td>\n",
       "      <td>109</td>\n",
       "      <td>2_reihe</td>\n",
       "      <td>150000</td>\n",
       "      <td>benzin</td>\n",
       "      <td>peugeot</td>\n",
       "      <td>nein</td>\n",
       "      <td>2016-04-01 00:00:00</td>\n",
       "      <td>2016-04-05 18:18:39</td>\n",
       "    </tr>\n",
       "    <tr>\n",
       "      <th>7</th>\n",
       "      <td>2016-03-21 18:54:38</td>\n",
       "      <td>privat</td>\n",
       "      <td>Angebot</td>\n",
       "      <td>0</td>\n",
       "      <td>limousine</td>\n",
       "      <td>1980</td>\n",
       "      <td>manuell</td>\n",
       "      <td>50</td>\n",
       "      <td>andere</td>\n",
       "      <td>40000</td>\n",
       "      <td>benzin</td>\n",
       "      <td>volkswagen</td>\n",
       "      <td>nein</td>\n",
       "      <td>2016-03-21 00:00:00</td>\n",
       "      <td>2016-03-25 16:47:58</td>\n",
       "    </tr>\n",
       "  </tbody>\n",
       "</table>\n",
       "</div>"
      ],
      "text/plain": [
       "           dateCrawled  seller offerType  price vehicleType  \\\n",
       "3  2016-03-17 16:54:04  privat   Angebot   1500  kleinwagen   \n",
       "4  2016-03-31 17:25:20  privat   Angebot   3600  kleinwagen   \n",
       "5  2016-04-04 17:36:23  privat   Angebot    650   limousine   \n",
       "6  2016-04-01 20:48:51  privat   Angebot   2200      cabrio   \n",
       "7  2016-03-21 18:54:38  privat   Angebot      0   limousine   \n",
       "\n",
       "   yearOfRegistration  gearbox  powerPS    model  kilometer fuelType  \\\n",
       "3                2001  manuell       75     golf     150000   benzin   \n",
       "4                2008  manuell       69    fabia      90000   diesel   \n",
       "5                1995  manuell      102      3er     150000   benzin   \n",
       "6                2004  manuell      109  2_reihe     150000   benzin   \n",
       "7                1980  manuell       50   andere      40000   benzin   \n",
       "\n",
       "        brand notRepairedDamage          dateCreated             lastSeen  \n",
       "3  volkswagen              nein  2016-03-17 00:00:00  2016-03-17 17:40:17  \n",
       "4       skoda              nein  2016-03-31 00:00:00  2016-04-06 10:17:21  \n",
       "5         bmw                ja  2016-04-04 00:00:00  2016-04-06 19:17:07  \n",
       "6     peugeot              nein  2016-04-01 00:00:00  2016-04-05 18:18:39  \n",
       "7  volkswagen              nein  2016-03-21 00:00:00  2016-03-25 16:47:58  "
      ]
     },
     "execution_count": 370,
     "metadata": {},
     "output_type": "execute_result"
    }
   ],
   "source": [
    "autos = autos.drop([\"name\", \"abtest\", \"monthOfRegistration\", \"nrOfPictures\", \"postalCode\"], axis=1)\n",
    "autos.head()"
   ]
  },
  {
   "cell_type": "code",
   "execution_count": 371,
   "metadata": {},
   "outputs": [
    {
     "name": "stdout",
     "output_type": "stream",
     "text": [
      "Duplicate Rows except first occurrence based on all columns are :\n",
      "                dateCrawled  seller offerType  price vehicleType  \\\n",
      "156458  2016-03-07 12:00:46  privat   Angebot  10000       kombi   \n",
      "179448  2016-03-08 18:42:48  privat   Angebot   1799       coupe   \n",
      "242556  2016-03-28 00:56:10  privat   Angebot   1000  kleinwagen   \n",
      "270719  2016-04-03 09:01:15  privat   Angebot   4699       coupe   \n",
      "341474  2016-03-18 18:46:15  privat   Angebot   1999       kombi   \n",
      "\n",
      "        yearOfRegistration    gearbox  powerPS   model  kilometer fuelType  \\\n",
      "156458                2013    manuell      184    golf      60000   diesel   \n",
      "179448                1999  automatik      193     clk      20000   benzin   \n",
      "242556                2002    manuell       83  andere     150000   benzin   \n",
      "270719                2003  automatik      218     clk     125000   benzin   \n",
      "341474                2001    manuell      131  passat     150000   diesel   \n",
      "\n",
      "                brand notRepairedDamage          dateCreated  \\\n",
      "156458     volkswagen              nein  2016-03-07 00:00:00   \n",
      "179448  mercedes_benz              nein  2016-03-08 00:00:00   \n",
      "242556         suzuki              nein  2016-03-28 00:00:00   \n",
      "270719  mercedes_benz                ja  2016-04-03 00:00:00   \n",
      "341474     volkswagen              nein  2016-03-18 00:00:00   \n",
      "\n",
      "                   lastSeen  \n",
      "156458  2016-03-20 12:49:27  \n",
      "179448  2016-03-09 09:46:57  \n",
      "242556  2016-03-28 08:46:21  \n",
      "270719  2016-04-07 09:44:54  \n",
      "341474  2016-03-18 18:46:15  \n"
     ]
    }
   ],
   "source": [
    "# Select duplicate rows except first occurrence based on all columns\n",
    "duplicateRowsAutos = autos[autos.duplicated()]\n",
    " \n",
    "print(\"Duplicate Rows except first occurrence based on all columns are :\")\n",
    "print(duplicateRowsAutos)"
   ]
  },
  {
   "cell_type": "code",
   "execution_count": 372,
   "metadata": {},
   "outputs": [],
   "source": [
    "autos = autos.drop_duplicates(keep='last')"
   ]
  },
  {
   "cell_type": "code",
   "execution_count": 373,
   "metadata": {},
   "outputs": [
    {
     "name": "stdout",
     "output_type": "stream",
     "text": [
      "<class 'pandas.core.frame.DataFrame'>\n",
      "Int64Index: 260951 entries, 3 to 371527\n",
      "Data columns (total 15 columns):\n",
      " #   Column              Non-Null Count   Dtype \n",
      "---  ------              --------------   ----- \n",
      " 0   dateCrawled         260951 non-null  object\n",
      " 1   seller              260951 non-null  object\n",
      " 2   offerType           260951 non-null  object\n",
      " 3   price               260951 non-null  int64 \n",
      " 4   vehicleType         260951 non-null  object\n",
      " 5   yearOfRegistration  260951 non-null  int64 \n",
      " 6   gearbox             260951 non-null  object\n",
      " 7   powerPS             260951 non-null  int64 \n",
      " 8   model               260951 non-null  object\n",
      " 9   kilometer           260951 non-null  int64 \n",
      " 10  fuelType            260951 non-null  object\n",
      " 11  brand               260951 non-null  object\n",
      " 12  notRepairedDamage   260951 non-null  object\n",
      " 13  dateCreated         260951 non-null  object\n",
      " 14  lastSeen            260951 non-null  object\n",
      "dtypes: int64(4), object(11)\n",
      "memory usage: 31.9+ MB\n"
     ]
    }
   ],
   "source": [
    "autos.info() #new variable after duplicate rows were deleted"
   ]
  },
  {
   "cell_type": "markdown",
   "metadata": {},
   "source": [
    "Categorical variables:\n",
    ">seller, offerType, vehicleType, gearbox, model, fuelType, brand, notRepairedDamage, \n",
    "\n",
    "Ordinal variables:\n",
    ">dateCrawled, dateCreated, lastSeen\n",
    "\n",
    "Numerical variables:\n",
    ">price, yearOfRegistration, powerPS, kilometer\n",
    "\n",
    "Let's create a list with all the categories names, for further exploration of the categorial values."
   ]
  },
  {
   "cell_type": "code",
   "execution_count": 374,
   "metadata": {},
   "outputs": [
    {
     "name": "stdout",
     "output_type": "stream",
     "text": [
      "seller :\n",
      "privat        260949\n",
      "gewerblich         2\n",
      "Name: seller, dtype: int64\n",
      "offerType :\n",
      "Angebot    260947\n",
      "Gesuch          4\n",
      "Name: offerType, dtype: int64\n",
      "vehicleType :\n",
      "limousine     76394\n",
      "kleinwagen    59102\n",
      "kombi         53440\n",
      "bus           24963\n",
      "cabrio        18549\n",
      "coupe         14649\n",
      "suv           12082\n",
      "andere         1772\n",
      "Name: vehicleType, dtype: int64\n",
      "gearbox :\n",
      "manuell      200056\n",
      "automatik     60895\n",
      "Name: gearbox, dtype: int64\n",
      "model :\n",
      "golf               20957\n",
      "andere             20293\n",
      "3er                15645\n",
      "polo                8828\n",
      "corsa               8267\n",
      "                   ...  \n",
      "i3                     5\n",
      "rangerover             4\n",
      "samara                 3\n",
      "serie_3                3\n",
      "discovery_sport        1\n",
      "Name: model, Length: 250, dtype: int64\n",
      "fuelType :\n",
      "benzin     169239\n",
      "diesel      86972\n",
      "lpg          3937\n",
      "cng           460\n",
      "hybrid        213\n",
      "andere         73\n",
      "elektro        57\n",
      "Name: fuelType, dtype: int64\n",
      "brand :\n",
      "volkswagen       54192\n",
      "bmw              30331\n",
      "mercedes_benz    26904\n",
      "opel             26390\n",
      "audi             24772\n",
      "                 ...  \n",
      "daewoo             337\n",
      "lancia             320\n",
      "rover              262\n",
      "trabant            211\n",
      "lada               146\n",
      "Name: brand, Length: 39, dtype: int64\n",
      "notRepairedDamage :\n",
      "nein    232942\n",
      "ja       28009\n",
      "Name: notRepairedDamage, dtype: int64\n"
     ]
    }
   ],
   "source": [
    "autos_cat = ['seller', 'offerType', 'vehicleType', 'gearbox', 'model', 'fuelType', 'brand', 'notRepairedDamage']\n",
    "for c in autos_cat:\n",
    "    print(c, \":\")\n",
    "    print(autos[c].value_counts())"
   ]
  },
  {
   "cell_type": "markdown",
   "metadata": {},
   "source": [
    "From the list above, we can see that the features \"seller\" and \"offerType\" are also not relevant as 99.99% of the data have the same input, thus it won't have any effect in the model. Hence, these two features will be removed. However, before dropping the whole column, we need to remove the rows corresponding to 'gewerblich' and 'Gesuch'."
   ]
  },
  {
   "cell_type": "code",
   "execution_count": 375,
   "metadata": {},
   "outputs": [],
   "source": [
    "indexList = autos[autos['seller'] == 'gewerblich'].index\n",
    "indexList\n",
    "\n",
    "indexList1 = autos[autos['offerType'] == 'Gesuch'].index\n",
    "indexList1\n",
    "\n",
    "autos.drop(indexList , inplace=True)\n",
    "autos.drop(indexList1 , inplace=True)"
   ]
  },
  {
   "cell_type": "markdown",
   "metadata": {},
   "source": [
    "Now we drop both columns:"
   ]
  },
  {
   "cell_type": "code",
   "execution_count": 376,
   "metadata": {},
   "outputs": [
    {
     "data": {
      "text/html": [
       "<div>\n",
       "<style scoped>\n",
       "    .dataframe tbody tr th:only-of-type {\n",
       "        vertical-align: middle;\n",
       "    }\n",
       "\n",
       "    .dataframe tbody tr th {\n",
       "        vertical-align: top;\n",
       "    }\n",
       "\n",
       "    .dataframe thead th {\n",
       "        text-align: right;\n",
       "    }\n",
       "</style>\n",
       "<table border=\"1\" class=\"dataframe\">\n",
       "  <thead>\n",
       "    <tr style=\"text-align: right;\">\n",
       "      <th></th>\n",
       "      <th>dateCrawled</th>\n",
       "      <th>price</th>\n",
       "      <th>vehicleType</th>\n",
       "      <th>yearOfRegistration</th>\n",
       "      <th>gearbox</th>\n",
       "      <th>powerPS</th>\n",
       "      <th>model</th>\n",
       "      <th>kilometer</th>\n",
       "      <th>fuelType</th>\n",
       "      <th>brand</th>\n",
       "      <th>notRepairedDamage</th>\n",
       "      <th>dateCreated</th>\n",
       "      <th>lastSeen</th>\n",
       "    </tr>\n",
       "  </thead>\n",
       "  <tbody>\n",
       "    <tr>\n",
       "      <th>3</th>\n",
       "      <td>2016-03-17 16:54:04</td>\n",
       "      <td>1500</td>\n",
       "      <td>kleinwagen</td>\n",
       "      <td>2001</td>\n",
       "      <td>manuell</td>\n",
       "      <td>75</td>\n",
       "      <td>golf</td>\n",
       "      <td>150000</td>\n",
       "      <td>benzin</td>\n",
       "      <td>volkswagen</td>\n",
       "      <td>nein</td>\n",
       "      <td>2016-03-17 00:00:00</td>\n",
       "      <td>2016-03-17 17:40:17</td>\n",
       "    </tr>\n",
       "    <tr>\n",
       "      <th>4</th>\n",
       "      <td>2016-03-31 17:25:20</td>\n",
       "      <td>3600</td>\n",
       "      <td>kleinwagen</td>\n",
       "      <td>2008</td>\n",
       "      <td>manuell</td>\n",
       "      <td>69</td>\n",
       "      <td>fabia</td>\n",
       "      <td>90000</td>\n",
       "      <td>diesel</td>\n",
       "      <td>skoda</td>\n",
       "      <td>nein</td>\n",
       "      <td>2016-03-31 00:00:00</td>\n",
       "      <td>2016-04-06 10:17:21</td>\n",
       "    </tr>\n",
       "    <tr>\n",
       "      <th>5</th>\n",
       "      <td>2016-04-04 17:36:23</td>\n",
       "      <td>650</td>\n",
       "      <td>limousine</td>\n",
       "      <td>1995</td>\n",
       "      <td>manuell</td>\n",
       "      <td>102</td>\n",
       "      <td>3er</td>\n",
       "      <td>150000</td>\n",
       "      <td>benzin</td>\n",
       "      <td>bmw</td>\n",
       "      <td>ja</td>\n",
       "      <td>2016-04-04 00:00:00</td>\n",
       "      <td>2016-04-06 19:17:07</td>\n",
       "    </tr>\n",
       "    <tr>\n",
       "      <th>6</th>\n",
       "      <td>2016-04-01 20:48:51</td>\n",
       "      <td>2200</td>\n",
       "      <td>cabrio</td>\n",
       "      <td>2004</td>\n",
       "      <td>manuell</td>\n",
       "      <td>109</td>\n",
       "      <td>2_reihe</td>\n",
       "      <td>150000</td>\n",
       "      <td>benzin</td>\n",
       "      <td>peugeot</td>\n",
       "      <td>nein</td>\n",
       "      <td>2016-04-01 00:00:00</td>\n",
       "      <td>2016-04-05 18:18:39</td>\n",
       "    </tr>\n",
       "    <tr>\n",
       "      <th>7</th>\n",
       "      <td>2016-03-21 18:54:38</td>\n",
       "      <td>0</td>\n",
       "      <td>limousine</td>\n",
       "      <td>1980</td>\n",
       "      <td>manuell</td>\n",
       "      <td>50</td>\n",
       "      <td>andere</td>\n",
       "      <td>40000</td>\n",
       "      <td>benzin</td>\n",
       "      <td>volkswagen</td>\n",
       "      <td>nein</td>\n",
       "      <td>2016-03-21 00:00:00</td>\n",
       "      <td>2016-03-25 16:47:58</td>\n",
       "    </tr>\n",
       "  </tbody>\n",
       "</table>\n",
       "</div>"
      ],
      "text/plain": [
       "           dateCrawled  price vehicleType  yearOfRegistration  gearbox  \\\n",
       "3  2016-03-17 16:54:04   1500  kleinwagen                2001  manuell   \n",
       "4  2016-03-31 17:25:20   3600  kleinwagen                2008  manuell   \n",
       "5  2016-04-04 17:36:23    650   limousine                1995  manuell   \n",
       "6  2016-04-01 20:48:51   2200      cabrio                2004  manuell   \n",
       "7  2016-03-21 18:54:38      0   limousine                1980  manuell   \n",
       "\n",
       "   powerPS    model  kilometer fuelType       brand notRepairedDamage  \\\n",
       "3       75     golf     150000   benzin  volkswagen              nein   \n",
       "4       69    fabia      90000   diesel       skoda              nein   \n",
       "5      102      3er     150000   benzin         bmw                ja   \n",
       "6      109  2_reihe     150000   benzin     peugeot              nein   \n",
       "7       50   andere      40000   benzin  volkswagen              nein   \n",
       "\n",
       "           dateCreated             lastSeen  \n",
       "3  2016-03-17 00:00:00  2016-03-17 17:40:17  \n",
       "4  2016-03-31 00:00:00  2016-04-06 10:17:21  \n",
       "5  2016-04-04 00:00:00  2016-04-06 19:17:07  \n",
       "6  2016-04-01 00:00:00  2016-04-05 18:18:39  \n",
       "7  2016-03-21 00:00:00  2016-03-25 16:47:58  "
      ]
     },
     "execution_count": 376,
     "metadata": {},
     "output_type": "execute_result"
    }
   ],
   "source": [
    "autos = autos.drop([\"seller\", \"offerType\"], axis=1)\n",
    "autos_cat = ['vehicleType', 'gearbox', 'model', 'fuelType', 'brand', 'notRepairedDamage']\n",
    "autos.head()"
   ]
  },
  {
   "cell_type": "code",
   "execution_count": 377,
   "metadata": {},
   "outputs": [
    {
     "name": "stdout",
     "output_type": "stream",
     "text": [
      "<class 'pandas.core.frame.DataFrame'>\n",
      "Int64Index: 260945 entries, 3 to 371527\n",
      "Data columns (total 13 columns):\n",
      " #   Column              Non-Null Count   Dtype \n",
      "---  ------              --------------   ----- \n",
      " 0   dateCrawled         260945 non-null  object\n",
      " 1   price               260945 non-null  int64 \n",
      " 2   vehicleType         260945 non-null  object\n",
      " 3   yearOfRegistration  260945 non-null  int64 \n",
      " 4   gearbox             260945 non-null  object\n",
      " 5   powerPS             260945 non-null  int64 \n",
      " 6   model               260945 non-null  object\n",
      " 7   kilometer           260945 non-null  int64 \n",
      " 8   fuelType            260945 non-null  object\n",
      " 9   brand               260945 non-null  object\n",
      " 10  notRepairedDamage   260945 non-null  object\n",
      " 11  dateCreated         260945 non-null  object\n",
      " 12  lastSeen            260945 non-null  object\n",
      "dtypes: int64(4), object(9)\n",
      "memory usage: 27.9+ MB\n"
     ]
    }
   ],
   "source": [
    "autos.info()"
   ]
  },
  {
   "cell_type": "markdown",
   "metadata": {},
   "source": [
    "We wish to add an extra variable to our dataset, which is __\"number of days it took to sell the car\"__, as we believe it could pontentially have an effect in our future models. In order to do so, we will first convert __lastSeen__ and __dataCreated__ to datetime format, then we will subtract one from another to get number of days."
   ]
  },
  {
   "cell_type": "code",
   "execution_count": 378,
   "metadata": {
    "scrolled": true
   },
   "outputs": [],
   "source": [
    "autos.loc[:,\"lastSeen\"] = pd.to_datetime(autos.loc[:,\"lastSeen\"])\n",
    "autos.loc[:,\"dateCreated\"] = pd.to_datetime(autos.loc[:,\"dateCreated\"])"
   ]
  },
  {
   "cell_type": "code",
   "execution_count": 379,
   "metadata": {},
   "outputs": [
    {
     "name": "stdout",
     "output_type": "stream",
     "text": [
      "<class 'pandas.core.frame.DataFrame'>\n",
      "Int64Index: 260945 entries, 3 to 371527\n",
      "Data columns (total 14 columns):\n",
      " #   Column              Non-Null Count   Dtype          \n",
      "---  ------              --------------   -----          \n",
      " 0   dateCrawled         260945 non-null  object         \n",
      " 1   price               260945 non-null  int64          \n",
      " 2   vehicleType         260945 non-null  object         \n",
      " 3   yearOfRegistration  260945 non-null  int64          \n",
      " 4   gearbox             260945 non-null  object         \n",
      " 5   powerPS             260945 non-null  int64          \n",
      " 6   model               260945 non-null  object         \n",
      " 7   kilometer           260945 non-null  int64          \n",
      " 8   fuelType            260945 non-null  object         \n",
      " 9   brand               260945 non-null  object         \n",
      " 10  notRepairedDamage   260945 non-null  object         \n",
      " 11  dateCreated         260945 non-null  datetime64[ns] \n",
      " 12  lastSeen            260945 non-null  datetime64[ns] \n",
      " 13  numberOfDaysToSell  260945 non-null  timedelta64[ns]\n",
      "dtypes: datetime64[ns](2), int64(4), object(7), timedelta64[ns](1)\n",
      "memory usage: 29.9+ MB\n"
     ]
    }
   ],
   "source": [
    "autos.loc[:,\"numberOfDaysToSell\"]=autos.loc[:,\"lastSeen\"]-autos.loc[:,\"dateCreated\"]\n",
    "autos.info()"
   ]
  },
  {
   "cell_type": "code",
   "execution_count": 380,
   "metadata": {},
   "outputs": [
    {
     "data": {
      "text/html": [
       "<div>\n",
       "<style scoped>\n",
       "    .dataframe tbody tr th:only-of-type {\n",
       "        vertical-align: middle;\n",
       "    }\n",
       "\n",
       "    .dataframe tbody tr th {\n",
       "        vertical-align: top;\n",
       "    }\n",
       "\n",
       "    .dataframe thead th {\n",
       "        text-align: right;\n",
       "    }\n",
       "</style>\n",
       "<table border=\"1\" class=\"dataframe\">\n",
       "  <thead>\n",
       "    <tr style=\"text-align: right;\">\n",
       "      <th></th>\n",
       "      <th>dateCrawled</th>\n",
       "      <th>price</th>\n",
       "      <th>vehicleType</th>\n",
       "      <th>yearOfRegistration</th>\n",
       "      <th>gearbox</th>\n",
       "      <th>powerPS</th>\n",
       "      <th>model</th>\n",
       "      <th>kilometer</th>\n",
       "      <th>fuelType</th>\n",
       "      <th>brand</th>\n",
       "      <th>notRepairedDamage</th>\n",
       "      <th>dateCreated</th>\n",
       "      <th>lastSeen</th>\n",
       "      <th>numberOfDaysToSell</th>\n",
       "    </tr>\n",
       "  </thead>\n",
       "  <tbody>\n",
       "    <tr>\n",
       "      <th>3</th>\n",
       "      <td>2016-03-17 16:54:04</td>\n",
       "      <td>1500</td>\n",
       "      <td>kleinwagen</td>\n",
       "      <td>2001</td>\n",
       "      <td>manuell</td>\n",
       "      <td>75</td>\n",
       "      <td>golf</td>\n",
       "      <td>150000</td>\n",
       "      <td>benzin</td>\n",
       "      <td>volkswagen</td>\n",
       "      <td>nein</td>\n",
       "      <td>2016-03-17</td>\n",
       "      <td>2016-03-17 17:40:17</td>\n",
       "      <td>0 days 17:40:17</td>\n",
       "    </tr>\n",
       "    <tr>\n",
       "      <th>4</th>\n",
       "      <td>2016-03-31 17:25:20</td>\n",
       "      <td>3600</td>\n",
       "      <td>kleinwagen</td>\n",
       "      <td>2008</td>\n",
       "      <td>manuell</td>\n",
       "      <td>69</td>\n",
       "      <td>fabia</td>\n",
       "      <td>90000</td>\n",
       "      <td>diesel</td>\n",
       "      <td>skoda</td>\n",
       "      <td>nein</td>\n",
       "      <td>2016-03-31</td>\n",
       "      <td>2016-04-06 10:17:21</td>\n",
       "      <td>6 days 10:17:21</td>\n",
       "    </tr>\n",
       "    <tr>\n",
       "      <th>5</th>\n",
       "      <td>2016-04-04 17:36:23</td>\n",
       "      <td>650</td>\n",
       "      <td>limousine</td>\n",
       "      <td>1995</td>\n",
       "      <td>manuell</td>\n",
       "      <td>102</td>\n",
       "      <td>3er</td>\n",
       "      <td>150000</td>\n",
       "      <td>benzin</td>\n",
       "      <td>bmw</td>\n",
       "      <td>ja</td>\n",
       "      <td>2016-04-04</td>\n",
       "      <td>2016-04-06 19:17:07</td>\n",
       "      <td>2 days 19:17:07</td>\n",
       "    </tr>\n",
       "    <tr>\n",
       "      <th>6</th>\n",
       "      <td>2016-04-01 20:48:51</td>\n",
       "      <td>2200</td>\n",
       "      <td>cabrio</td>\n",
       "      <td>2004</td>\n",
       "      <td>manuell</td>\n",
       "      <td>109</td>\n",
       "      <td>2_reihe</td>\n",
       "      <td>150000</td>\n",
       "      <td>benzin</td>\n",
       "      <td>peugeot</td>\n",
       "      <td>nein</td>\n",
       "      <td>2016-04-01</td>\n",
       "      <td>2016-04-05 18:18:39</td>\n",
       "      <td>4 days 18:18:39</td>\n",
       "    </tr>\n",
       "    <tr>\n",
       "      <th>7</th>\n",
       "      <td>2016-03-21 18:54:38</td>\n",
       "      <td>0</td>\n",
       "      <td>limousine</td>\n",
       "      <td>1980</td>\n",
       "      <td>manuell</td>\n",
       "      <td>50</td>\n",
       "      <td>andere</td>\n",
       "      <td>40000</td>\n",
       "      <td>benzin</td>\n",
       "      <td>volkswagen</td>\n",
       "      <td>nein</td>\n",
       "      <td>2016-03-21</td>\n",
       "      <td>2016-03-25 16:47:58</td>\n",
       "      <td>4 days 16:47:58</td>\n",
       "    </tr>\n",
       "  </tbody>\n",
       "</table>\n",
       "</div>"
      ],
      "text/plain": [
       "           dateCrawled  price vehicleType  yearOfRegistration  gearbox  \\\n",
       "3  2016-03-17 16:54:04   1500  kleinwagen                2001  manuell   \n",
       "4  2016-03-31 17:25:20   3600  kleinwagen                2008  manuell   \n",
       "5  2016-04-04 17:36:23    650   limousine                1995  manuell   \n",
       "6  2016-04-01 20:48:51   2200      cabrio                2004  manuell   \n",
       "7  2016-03-21 18:54:38      0   limousine                1980  manuell   \n",
       "\n",
       "   powerPS    model  kilometer fuelType       brand notRepairedDamage  \\\n",
       "3       75     golf     150000   benzin  volkswagen              nein   \n",
       "4       69    fabia      90000   diesel       skoda              nein   \n",
       "5      102      3er     150000   benzin         bmw                ja   \n",
       "6      109  2_reihe     150000   benzin     peugeot              nein   \n",
       "7       50   andere      40000   benzin  volkswagen              nein   \n",
       "\n",
       "  dateCreated            lastSeen numberOfDaysToSell  \n",
       "3  2016-03-17 2016-03-17 17:40:17    0 days 17:40:17  \n",
       "4  2016-03-31 2016-04-06 10:17:21    6 days 10:17:21  \n",
       "5  2016-04-04 2016-04-06 19:17:07    2 days 19:17:07  \n",
       "6  2016-04-01 2016-04-05 18:18:39    4 days 18:18:39  \n",
       "7  2016-03-21 2016-03-25 16:47:58    4 days 16:47:58  "
      ]
     },
     "execution_count": 380,
     "metadata": {},
     "output_type": "execute_result"
    }
   ],
   "source": [
    "autos.head()"
   ]
  },
  {
   "cell_type": "markdown",
   "metadata": {},
   "source": [
    "The column \"numberOfDaysToSell\" was created, however the variable is in a timedelta format. We wish to convert the values in it into a _float type,_ representing the number of days in a numerical form."
   ]
  },
  {
   "cell_type": "code",
   "execution_count": 381,
   "metadata": {},
   "outputs": [],
   "source": [
    "autos['numberOfDaysToSell'] = (autos['numberOfDaysToSell'].dt.total_seconds())/86400"
   ]
  },
  {
   "cell_type": "code",
   "execution_count": 382,
   "metadata": {},
   "outputs": [
    {
     "data": {
      "text/html": [
       "<div>\n",
       "<style scoped>\n",
       "    .dataframe tbody tr th:only-of-type {\n",
       "        vertical-align: middle;\n",
       "    }\n",
       "\n",
       "    .dataframe tbody tr th {\n",
       "        vertical-align: top;\n",
       "    }\n",
       "\n",
       "    .dataframe thead th {\n",
       "        text-align: right;\n",
       "    }\n",
       "</style>\n",
       "<table border=\"1\" class=\"dataframe\">\n",
       "  <thead>\n",
       "    <tr style=\"text-align: right;\">\n",
       "      <th></th>\n",
       "      <th>dateCrawled</th>\n",
       "      <th>price</th>\n",
       "      <th>vehicleType</th>\n",
       "      <th>yearOfRegistration</th>\n",
       "      <th>gearbox</th>\n",
       "      <th>powerPS</th>\n",
       "      <th>model</th>\n",
       "      <th>kilometer</th>\n",
       "      <th>fuelType</th>\n",
       "      <th>brand</th>\n",
       "      <th>notRepairedDamage</th>\n",
       "      <th>dateCreated</th>\n",
       "      <th>lastSeen</th>\n",
       "      <th>numberOfDaysToSell</th>\n",
       "    </tr>\n",
       "  </thead>\n",
       "  <tbody>\n",
       "    <tr>\n",
       "      <th>3</th>\n",
       "      <td>2016-03-17 16:54:04</td>\n",
       "      <td>1500</td>\n",
       "      <td>kleinwagen</td>\n",
       "      <td>2001</td>\n",
       "      <td>manuell</td>\n",
       "      <td>75</td>\n",
       "      <td>golf</td>\n",
       "      <td>150000</td>\n",
       "      <td>benzin</td>\n",
       "      <td>volkswagen</td>\n",
       "      <td>nein</td>\n",
       "      <td>2016-03-17</td>\n",
       "      <td>2016-03-17 17:40:17</td>\n",
       "      <td>0.736308</td>\n",
       "    </tr>\n",
       "    <tr>\n",
       "      <th>4</th>\n",
       "      <td>2016-03-31 17:25:20</td>\n",
       "      <td>3600</td>\n",
       "      <td>kleinwagen</td>\n",
       "      <td>2008</td>\n",
       "      <td>manuell</td>\n",
       "      <td>69</td>\n",
       "      <td>fabia</td>\n",
       "      <td>90000</td>\n",
       "      <td>diesel</td>\n",
       "      <td>skoda</td>\n",
       "      <td>nein</td>\n",
       "      <td>2016-03-31</td>\n",
       "      <td>2016-04-06 10:17:21</td>\n",
       "      <td>6.428715</td>\n",
       "    </tr>\n",
       "    <tr>\n",
       "      <th>5</th>\n",
       "      <td>2016-04-04 17:36:23</td>\n",
       "      <td>650</td>\n",
       "      <td>limousine</td>\n",
       "      <td>1995</td>\n",
       "      <td>manuell</td>\n",
       "      <td>102</td>\n",
       "      <td>3er</td>\n",
       "      <td>150000</td>\n",
       "      <td>benzin</td>\n",
       "      <td>bmw</td>\n",
       "      <td>ja</td>\n",
       "      <td>2016-04-04</td>\n",
       "      <td>2016-04-06 19:17:07</td>\n",
       "      <td>2.803553</td>\n",
       "    </tr>\n",
       "    <tr>\n",
       "      <th>6</th>\n",
       "      <td>2016-04-01 20:48:51</td>\n",
       "      <td>2200</td>\n",
       "      <td>cabrio</td>\n",
       "      <td>2004</td>\n",
       "      <td>manuell</td>\n",
       "      <td>109</td>\n",
       "      <td>2_reihe</td>\n",
       "      <td>150000</td>\n",
       "      <td>benzin</td>\n",
       "      <td>peugeot</td>\n",
       "      <td>nein</td>\n",
       "      <td>2016-04-01</td>\n",
       "      <td>2016-04-05 18:18:39</td>\n",
       "      <td>4.762951</td>\n",
       "    </tr>\n",
       "    <tr>\n",
       "      <th>7</th>\n",
       "      <td>2016-03-21 18:54:38</td>\n",
       "      <td>0</td>\n",
       "      <td>limousine</td>\n",
       "      <td>1980</td>\n",
       "      <td>manuell</td>\n",
       "      <td>50</td>\n",
       "      <td>andere</td>\n",
       "      <td>40000</td>\n",
       "      <td>benzin</td>\n",
       "      <td>volkswagen</td>\n",
       "      <td>nein</td>\n",
       "      <td>2016-03-21</td>\n",
       "      <td>2016-03-25 16:47:58</td>\n",
       "      <td>4.699977</td>\n",
       "    </tr>\n",
       "  </tbody>\n",
       "</table>\n",
       "</div>"
      ],
      "text/plain": [
       "           dateCrawled  price vehicleType  yearOfRegistration  gearbox  \\\n",
       "3  2016-03-17 16:54:04   1500  kleinwagen                2001  manuell   \n",
       "4  2016-03-31 17:25:20   3600  kleinwagen                2008  manuell   \n",
       "5  2016-04-04 17:36:23    650   limousine                1995  manuell   \n",
       "6  2016-04-01 20:48:51   2200      cabrio                2004  manuell   \n",
       "7  2016-03-21 18:54:38      0   limousine                1980  manuell   \n",
       "\n",
       "   powerPS    model  kilometer fuelType       brand notRepairedDamage  \\\n",
       "3       75     golf     150000   benzin  volkswagen              nein   \n",
       "4       69    fabia      90000   diesel       skoda              nein   \n",
       "5      102      3er     150000   benzin         bmw                ja   \n",
       "6      109  2_reihe     150000   benzin     peugeot              nein   \n",
       "7       50   andere      40000   benzin  volkswagen              nein   \n",
       "\n",
       "  dateCreated            lastSeen  numberOfDaysToSell  \n",
       "3  2016-03-17 2016-03-17 17:40:17            0.736308  \n",
       "4  2016-03-31 2016-04-06 10:17:21            6.428715  \n",
       "5  2016-04-04 2016-04-06 19:17:07            2.803553  \n",
       "6  2016-04-01 2016-04-05 18:18:39            4.762951  \n",
       "7  2016-03-21 2016-03-25 16:47:58            4.699977  "
      ]
     },
     "execution_count": 382,
     "metadata": {},
     "output_type": "execute_result"
    }
   ],
   "source": [
    "autos.head()"
   ]
  },
  {
   "cell_type": "code",
   "execution_count": 383,
   "metadata": {},
   "outputs": [
    {
     "data": {
      "text/html": [
       "<div>\n",
       "<style scoped>\n",
       "    .dataframe tbody tr th:only-of-type {\n",
       "        vertical-align: middle;\n",
       "    }\n",
       "\n",
       "    .dataframe tbody tr th {\n",
       "        vertical-align: top;\n",
       "    }\n",
       "\n",
       "    .dataframe thead th {\n",
       "        text-align: right;\n",
       "    }\n",
       "</style>\n",
       "<table border=\"1\" class=\"dataframe\">\n",
       "  <thead>\n",
       "    <tr style=\"text-align: right;\">\n",
       "      <th></th>\n",
       "      <th>price</th>\n",
       "      <th>yearOfRegistration</th>\n",
       "      <th>powerPS</th>\n",
       "      <th>kilometer</th>\n",
       "      <th>numberOfDaysToSell</th>\n",
       "    </tr>\n",
       "  </thead>\n",
       "  <tbody>\n",
       "    <tr>\n",
       "      <th>count</th>\n",
       "      <td>260945.00</td>\n",
       "      <td>260945.00</td>\n",
       "      <td>260945.00</td>\n",
       "      <td>260945.00</td>\n",
       "      <td>260945.00</td>\n",
       "    </tr>\n",
       "    <tr>\n",
       "      <th>mean</th>\n",
       "      <td>8208.86</td>\n",
       "      <td>2003.31</td>\n",
       "      <td>126.33</td>\n",
       "      <td>124058.82</td>\n",
       "      <td>9.69</td>\n",
       "    </tr>\n",
       "    <tr>\n",
       "      <th>std</th>\n",
       "      <td>343316.32</td>\n",
       "      <td>6.51</td>\n",
       "      <td>145.28</td>\n",
       "      <td>39847.93</td>\n",
       "      <td>8.66</td>\n",
       "    </tr>\n",
       "    <tr>\n",
       "      <th>min</th>\n",
       "      <td>0.00</td>\n",
       "      <td>1910.00</td>\n",
       "      <td>0.00</td>\n",
       "      <td>5000.00</td>\n",
       "      <td>0.03</td>\n",
       "    </tr>\n",
       "    <tr>\n",
       "      <th>25%</th>\n",
       "      <td>1500.00</td>\n",
       "      <td>1999.00</td>\n",
       "      <td>78.00</td>\n",
       "      <td>100000.00</td>\n",
       "      <td>2.70</td>\n",
       "    </tr>\n",
       "    <tr>\n",
       "      <th>50%</th>\n",
       "      <td>3850.00</td>\n",
       "      <td>2004.00</td>\n",
       "      <td>116.00</td>\n",
       "      <td>150000.00</td>\n",
       "      <td>6.97</td>\n",
       "    </tr>\n",
       "    <tr>\n",
       "      <th>75%</th>\n",
       "      <td>8600.00</td>\n",
       "      <td>2008.00</td>\n",
       "      <td>150.00</td>\n",
       "      <td>150000.00</td>\n",
       "      <td>14.62</td>\n",
       "    </tr>\n",
       "    <tr>\n",
       "      <th>max</th>\n",
       "      <td>99999999.00</td>\n",
       "      <td>2018.00</td>\n",
       "      <td>20000.00</td>\n",
       "      <td>150000.00</td>\n",
       "      <td>384.16</td>\n",
       "    </tr>\n",
       "  </tbody>\n",
       "</table>\n",
       "</div>"
      ],
      "text/plain": [
       "             price  yearOfRegistration    powerPS  kilometer  \\\n",
       "count    260945.00           260945.00  260945.00  260945.00   \n",
       "mean       8208.86             2003.31     126.33  124058.82   \n",
       "std      343316.32                6.51     145.28   39847.93   \n",
       "min           0.00             1910.00       0.00    5000.00   \n",
       "25%        1500.00             1999.00      78.00  100000.00   \n",
       "50%        3850.00             2004.00     116.00  150000.00   \n",
       "75%        8600.00             2008.00     150.00  150000.00   \n",
       "max    99999999.00             2018.00   20000.00  150000.00   \n",
       "\n",
       "       numberOfDaysToSell  \n",
       "count           260945.00  \n",
       "mean                 9.69  \n",
       "std                  8.66  \n",
       "min                  0.03  \n",
       "25%                  2.70  \n",
       "50%                  6.97  \n",
       "75%                 14.62  \n",
       "max                384.16  "
      ]
     },
     "execution_count": 383,
     "metadata": {},
     "output_type": "execute_result"
    }
   ],
   "source": [
    "#The describe() method shows a summary of the numerical attributes\n",
    "autos.describe().round(2)"
   ]
  },
  {
   "cell_type": "markdown",
   "metadata": {},
   "source": [
    "Now that the variable __\"numberOfDaysToSell\"__ has been created, we can delete the columns dateCrawled, dataCreated, lastSeen, as they are no longer needed."
   ]
  },
  {
   "cell_type": "code",
   "execution_count": 384,
   "metadata": {},
   "outputs": [],
   "source": [
    "autos = autos.drop([\"dateCrawled\", \"dateCreated\", \"lastSeen\"], axis=1)"
   ]
  },
  {
   "cell_type": "code",
   "execution_count": 385,
   "metadata": {},
   "outputs": [
    {
     "name": "stdout",
     "output_type": "stream",
     "text": [
      "<class 'pandas.core.frame.DataFrame'>\n",
      "Int64Index: 260945 entries, 3 to 371527\n",
      "Data columns (total 11 columns):\n",
      " #   Column              Non-Null Count   Dtype  \n",
      "---  ------              --------------   -----  \n",
      " 0   price               260945 non-null  int64  \n",
      " 1   vehicleType         260945 non-null  object \n",
      " 2   yearOfRegistration  260945 non-null  int64  \n",
      " 3   gearbox             260945 non-null  object \n",
      " 4   powerPS             260945 non-null  int64  \n",
      " 5   model               260945 non-null  object \n",
      " 6   kilometer           260945 non-null  int64  \n",
      " 7   fuelType            260945 non-null  object \n",
      " 8   brand               260945 non-null  object \n",
      " 9   notRepairedDamage   260945 non-null  object \n",
      " 10  numberOfDaysToSell  260945 non-null  float64\n",
      "dtypes: float64(1), int64(4), object(6)\n",
      "memory usage: 23.9+ MB\n"
     ]
    }
   ],
   "source": [
    "autos.info()"
   ]
  },
  {
   "cell_type": "code",
   "execution_count": 386,
   "metadata": {},
   "outputs": [
    {
     "data": {
      "text/html": [
       "<div>\n",
       "<style scoped>\n",
       "    .dataframe tbody tr th:only-of-type {\n",
       "        vertical-align: middle;\n",
       "    }\n",
       "\n",
       "    .dataframe tbody tr th {\n",
       "        vertical-align: top;\n",
       "    }\n",
       "\n",
       "    .dataframe thead th {\n",
       "        text-align: right;\n",
       "    }\n",
       "</style>\n",
       "<table border=\"1\" class=\"dataframe\">\n",
       "  <thead>\n",
       "    <tr style=\"text-align: right;\">\n",
       "      <th></th>\n",
       "      <th>price</th>\n",
       "      <th>vehicleType</th>\n",
       "      <th>yearOfRegistration</th>\n",
       "      <th>gearbox</th>\n",
       "      <th>powerPS</th>\n",
       "      <th>model</th>\n",
       "      <th>kilometer</th>\n",
       "      <th>fuelType</th>\n",
       "      <th>brand</th>\n",
       "      <th>notRepairedDamage</th>\n",
       "      <th>numberOfDaysToSell</th>\n",
       "    </tr>\n",
       "  </thead>\n",
       "  <tbody>\n",
       "    <tr>\n",
       "      <th>3</th>\n",
       "      <td>1500</td>\n",
       "      <td>kleinwagen</td>\n",
       "      <td>2001</td>\n",
       "      <td>manuell</td>\n",
       "      <td>75</td>\n",
       "      <td>golf</td>\n",
       "      <td>150000</td>\n",
       "      <td>benzin</td>\n",
       "      <td>volkswagen</td>\n",
       "      <td>nein</td>\n",
       "      <td>0.736308</td>\n",
       "    </tr>\n",
       "    <tr>\n",
       "      <th>4</th>\n",
       "      <td>3600</td>\n",
       "      <td>kleinwagen</td>\n",
       "      <td>2008</td>\n",
       "      <td>manuell</td>\n",
       "      <td>69</td>\n",
       "      <td>fabia</td>\n",
       "      <td>90000</td>\n",
       "      <td>diesel</td>\n",
       "      <td>skoda</td>\n",
       "      <td>nein</td>\n",
       "      <td>6.428715</td>\n",
       "    </tr>\n",
       "    <tr>\n",
       "      <th>5</th>\n",
       "      <td>650</td>\n",
       "      <td>limousine</td>\n",
       "      <td>1995</td>\n",
       "      <td>manuell</td>\n",
       "      <td>102</td>\n",
       "      <td>3er</td>\n",
       "      <td>150000</td>\n",
       "      <td>benzin</td>\n",
       "      <td>bmw</td>\n",
       "      <td>ja</td>\n",
       "      <td>2.803553</td>\n",
       "    </tr>\n",
       "    <tr>\n",
       "      <th>6</th>\n",
       "      <td>2200</td>\n",
       "      <td>cabrio</td>\n",
       "      <td>2004</td>\n",
       "      <td>manuell</td>\n",
       "      <td>109</td>\n",
       "      <td>2_reihe</td>\n",
       "      <td>150000</td>\n",
       "      <td>benzin</td>\n",
       "      <td>peugeot</td>\n",
       "      <td>nein</td>\n",
       "      <td>4.762951</td>\n",
       "    </tr>\n",
       "    <tr>\n",
       "      <th>7</th>\n",
       "      <td>0</td>\n",
       "      <td>limousine</td>\n",
       "      <td>1980</td>\n",
       "      <td>manuell</td>\n",
       "      <td>50</td>\n",
       "      <td>andere</td>\n",
       "      <td>40000</td>\n",
       "      <td>benzin</td>\n",
       "      <td>volkswagen</td>\n",
       "      <td>nein</td>\n",
       "      <td>4.699977</td>\n",
       "    </tr>\n",
       "  </tbody>\n",
       "</table>\n",
       "</div>"
      ],
      "text/plain": [
       "   price vehicleType  yearOfRegistration  gearbox  powerPS    model  \\\n",
       "3   1500  kleinwagen                2001  manuell       75     golf   \n",
       "4   3600  kleinwagen                2008  manuell       69    fabia   \n",
       "5    650   limousine                1995  manuell      102      3er   \n",
       "6   2200      cabrio                2004  manuell      109  2_reihe   \n",
       "7      0   limousine                1980  manuell       50   andere   \n",
       "\n",
       "   kilometer fuelType       brand notRepairedDamage  numberOfDaysToSell  \n",
       "3     150000   benzin  volkswagen              nein            0.736308  \n",
       "4      90000   diesel       skoda              nein            6.428715  \n",
       "5     150000   benzin         bmw                ja            2.803553  \n",
       "6     150000   benzin     peugeot              nein            4.762951  \n",
       "7      40000   benzin  volkswagen              nein            4.699977  "
      ]
     },
     "execution_count": 386,
     "metadata": {},
     "output_type": "execute_result"
    }
   ],
   "source": [
    "autos.head()"
   ]
  },
  {
   "cell_type": "markdown",
   "metadata": {},
   "source": [
    "## 4. EXPLORING THE DATASET\n",
    "\n",
    "A quick way to get a feel of the data type is to plot a histogram for each numerical attribute."
   ]
  },
  {
   "cell_type": "code",
   "execution_count": 387,
   "metadata": {},
   "outputs": [
    {
     "data": {
      "image/png": "[encoded data removed]",
      "text/plain": [
       "<Figure size 1440x1080 with 6 Axes>"
      ]
     },
     "metadata": {},
     "output_type": "display_data"
    }
   ],
   "source": [
    "autos.hist(bins=50,  figsize=(20,15))\n",
    "plt.show()"
   ]
  },
  {
   "cell_type": "markdown",
   "metadata": {},
   "source": [
    "From the initial analysis above we can notice the following:\n",
    "\n",
    "* Number of days to sell is extremely skewed to the right\n",
    "* Power PS is extremely skewed to the right\n",
    "* Price is extremely skewed to the right\n",
    "* Year of registration has a clear normal distribution, although it is extremely skewed to the left due to some possible outliers\n",
    "\n",
    "Hence further investigations are necessary, as the skewness might be due to user typos. A boxplot chart might be helpful.\n"
   ]
  },
  {
   "cell_type": "code",
   "execution_count": 388,
   "metadata": {
    "scrolled": true
   },
   "outputs": [
    {
     "data": {
      "text/plain": [
       "[Text(0, 0.5, 'Number 0f Days To Sell')]"
      ]
     },
     "execution_count": 388,
     "metadata": {},
     "output_type": "execute_result"
    },
    {
     "data": {
      "image/png": "[encoded data removed]",
      "text/plain": [
       "<Figure size 432x288 with 1 Axes>"
      ]
     },
     "metadata": {},
     "output_type": "display_data"
    }
   ],
   "source": [
    "sns.set(style=\"whitegrid\")\n",
    "tips = sns.load_dataset(\"tips\")\n",
    "ax = sns.boxplot(y=autos['numberOfDaysToSell'])\n",
    "ax.set(ylabel = \"Number 0f Days To Sell\")"
   ]
  },
  {
   "cell_type": "code",
   "execution_count": 389,
   "metadata": {},
   "outputs": [
    {
     "data": {
      "text/plain": [
       "[Text(0, 0.5, 'Power PS')]"
      ]
     },
     "execution_count": 389,
     "metadata": {},
     "output_type": "execute_result"
    },
    {
     "data": {
      "image/png": "[encoded data removed]",
      "text/plain": [
       "<Figure size 432x288 with 1 Axes>"
      ]
     },
     "metadata": {},
     "output_type": "display_data"
    }
   ],
   "source": [
    "sns.set(style=\"whitegrid\")\n",
    "tips = sns.load_dataset(\"tips\")\n",
    "ax = sns.boxplot(y=autos['powerPS'])\n",
    "ax.set(ylabel = \"Power PS\")"
   ]
  },
  {
   "cell_type": "code",
   "execution_count": 390,
   "metadata": {},
   "outputs": [
    {
     "data": {
      "text/plain": [
       "[Text(0, 0.5, 'Price')]"
      ]
     },
     "execution_count": 390,
     "metadata": {},
     "output_type": "execute_result"
    },
    {
     "data": {
      "image/png": "[encoded data removed]",
      "text/plain": [
       "<Figure size 432x288 with 1 Axes>"
      ]
     },
     "metadata": {},
     "output_type": "display_data"
    }
   ],
   "source": [
    "sns.set(style=\"whitegrid\")\n",
    "tips = sns.load_dataset(\"tips\")\n",
    "ax = sns.boxplot(y=autos['price'])\n",
    "ax.set(ylabel = \"Price\")"
   ]
  },
  {
   "cell_type": "markdown",
   "metadata": {},
   "source": [
    "We can notice outliers in all of them, reason for skewness. They are influencing the slope considerably. We will remove them for now."
   ]
  },
  {
   "cell_type": "code",
   "execution_count": 391,
   "metadata": {},
   "outputs": [
    {
     "name": "stdout",
     "output_type": "stream",
     "text": [
      "False    260837\n",
      "True        108\n",
      "Name: numberOfDaysToSell, dtype: int64\n",
      "False    260816\n",
      "True        129\n",
      "Name: powerPS, dtype: int64\n",
      "False    250434\n",
      "True      10511\n",
      "Name: powerPS, dtype: int64\n",
      "False    260598\n",
      "True        347\n",
      "Name: price, dtype: int64\n",
      "False    256926\n",
      "True       4019\n",
      "Name: price, dtype: int64\n",
      "False    255239\n",
      "True       5706\n",
      "Name: yearOfRegistration, dtype: int64\n"
     ]
    }
   ],
   "source": [
    "print((autos['numberOfDaysToSell']>50).value_counts())\n",
    "print((autos['powerPS']>1000).value_counts())\n",
    "print((autos['powerPS']<40).value_counts())\n",
    "print((autos['price']>80000).value_counts())\n",
    "print((autos['price']<100).value_counts())\n",
    "print((autos['yearOfRegistration']<1990).value_counts())"
   ]
  },
  {
   "cell_type": "code",
   "execution_count": 392,
   "metadata": {},
   "outputs": [],
   "source": [
    "# Get list of indexes for which column numberOfDaysToSell has value >= 50\n",
    "indexList = autos[autos['numberOfDaysToSell'] >= 50].index\n",
    "\n",
    "# Delete these row indexes from dataFrame\n",
    "autos.drop(indexList , inplace=True)"
   ]
  },
  {
   "cell_type": "code",
   "execution_count": 393,
   "metadata": {},
   "outputs": [],
   "source": [
    "# Get list of indexes for which column powerPS has value >= 1000\n",
    "indexList = autos[autos['powerPS'] >= 1000].index\n",
    "\n",
    "# Delete these row indexes from dataFrame\n",
    "autos.drop(indexList , inplace=True)\n",
    "\n",
    "# Get list of indexes for which column powerPS has value <= 40\n",
    "indexList = autos[autos['powerPS'] <= 40].index\n",
    "\n",
    "# Delete these row indexes from dataFrame\n",
    "autos.drop(indexList , inplace=True)"
   ]
  },
  {
   "cell_type": "code",
   "execution_count": 394,
   "metadata": {},
   "outputs": [],
   "source": [
    "# Get list of indexes for which column price has value >= 80000\n",
    "indexList = autos[autos['price'] >= 80000].index\n",
    "\n",
    "# Delete these row indexes from dataFrame\n",
    "autos.drop(indexList , inplace=True)\n",
    "\n",
    "# Get list of indexes for which column price has value <= 100\n",
    "indexList = autos[autos['price'] < 100].index\n",
    "\n",
    "# Delete these row indexes from dataFrame\n",
    "autos.drop(indexList , inplace=True)"
   ]
  },
  {
   "cell_type": "code",
   "execution_count": 395,
   "metadata": {},
   "outputs": [],
   "source": [
    "# We do not work with collections or old cars, thus any car older than 1990 will not be considered\n",
    "# Get list of indexes for which column price has value >= 80000\n",
    "indexList = autos[autos['yearOfRegistration'] <= 1990].index\n",
    "\n",
    "# Delete these row indexes from dataFrame\n",
    "autos.drop(indexList , inplace=True)"
   ]
  },
  {
   "cell_type": "code",
   "execution_count": 396,
   "metadata": {},
   "outputs": [
    {
     "data": {
      "text/plain": [
       "[Text(0, 0.5, 'Numbers of Days To Sell')]"
      ]
     },
     "execution_count": 396,
     "metadata": {},
     "output_type": "execute_result"
    },
    {
     "data": {
      "image/png": "[encoded data removed]",
      "text/plain": [
       "<Figure size 432x288 with 1 Axes>"
      ]
     },
     "metadata": {},
     "output_type": "display_data"
    }
   ],
   "source": [
    "sns.set(style=\"whitegrid\")\n",
    "tips = sns.load_dataset(\"tips\")\n",
    "ax = sns.boxplot(y=autos['numberOfDaysToSell'])\n",
    "ax.set(ylabel = \"Numbers of Days To Sell\")"
   ]
  },
  {
   "cell_type": "code",
   "execution_count": 397,
   "metadata": {},
   "outputs": [
    {
     "data": {
      "text/plain": [
       "[Text(0, 0.5, 'Power PS')]"
      ]
     },
     "execution_count": 397,
     "metadata": {},
     "output_type": "execute_result"
    },
    {
     "data": {
      "image/png": "[encoded data removed]",
      "text/plain": [
       "<Figure size 432x288 with 1 Axes>"
      ]
     },
     "metadata": {},
     "output_type": "display_data"
    }
   ],
   "source": [
    "sns.set(style=\"whitegrid\")\n",
    "tips = sns.load_dataset(\"tips\")\n",
    "ax = sns.boxplot(y=autos['powerPS'])\n",
    "ax.set(ylabel = \"Power PS\")"
   ]
  },
  {
   "cell_type": "code",
   "execution_count": 398,
   "metadata": {},
   "outputs": [
    {
     "data": {
      "text/plain": [
       "[Text(0, 0.5, 'Price')]"
      ]
     },
     "execution_count": 398,
     "metadata": {},
     "output_type": "execute_result"
    },
    {
     "data": {
      "image/png": "[encoded data removed]",
      "text/plain": [
       "<Figure size 432x288 with 1 Axes>"
      ]
     },
     "metadata": {},
     "output_type": "display_data"
    }
   ],
   "source": [
    "sns.set(style=\"whitegrid\")\n",
    "tips = sns.load_dataset(\"tips\")\n",
    "ax = sns.boxplot(y=autos['price'])\n",
    "ax.set(ylabel = \"Price\")"
   ]
  },
  {
   "cell_type": "code",
   "execution_count": 399,
   "metadata": {},
   "outputs": [
    {
     "data": {
      "text/plain": [
       "[Text(0, 0.5, 'Price'), Text(0.5, 0, 'Repaired Damage (No/Yes)')]"
      ]
     },
     "execution_count": 399,
     "metadata": {},
     "output_type": "execute_result"
    },
    {
     "data": {
      "image/png": "[encoded data removed]",
      "text/plain": [
       "<Figure size 432x288 with 1 Axes>"
      ]
     },
     "metadata": {},
     "output_type": "display_data"
    }
   ],
   "source": [
    "sns.set(style=\"whitegrid\")\n",
    "tips = sns.load_dataset(\"tips\")\n",
    "ax = sns.boxplot(y=autos['price'], x=autos['notRepairedDamage'])\n",
    "ax.set(ylabel = \"Price\", xlabel = \"Repaired Damage (No/Yes)\")"
   ]
  },
  {
   "cell_type": "code",
   "execution_count": 400,
   "metadata": {},
   "outputs": [
    {
     "data": {
      "image/png": "[encoded data removed]",
      "text/plain": [
       "<Figure size 1440x1080 with 6 Axes>"
      ]
     },
     "metadata": {},
     "output_type": "display_data"
    }
   ],
   "source": [
    "autos.hist(bins=50,  figsize=(20,15))\n",
    "plt.show()"
   ]
  },
  {
   "cell_type": "markdown",
   "metadata": {},
   "source": [
    "We wish to analyze the relationship between \"Year of Registration\" and \"Prices\". We can see from the scatter plot below that indeed price increases for some older cars, that could be due to collection models."
   ]
  },
  {
   "cell_type": "code",
   "execution_count": 312,
   "metadata": {},
   "outputs": [
    {
     "data": {
      "text/plain": [
       "<matplotlib.axes._subplots.AxesSubplot at 0x1ba827e8688>"
      ]
     },
     "execution_count": 312,
     "metadata": {},
     "output_type": "execute_result"
    },
    {
     "data": {
      "image/png": "[encoded data removed]",
      "text/plain": [
       "<Figure size 432x288 with 1 Axes>"
      ]
     },
     "metadata": {},
     "output_type": "display_data"
    }
   ],
   "source": [
    "sns.scatterplot(\n",
    "    x='yearOfRegistration',\n",
    "    y='price',\n",
    "    data=autos)"
   ]
  },
  {
   "cell_type": "markdown",
   "metadata": {},
   "source": [
    "We decided to apply the log function to the feature price see if we get a more normal distribution."
   ]
  },
  {
   "cell_type": "code",
   "execution_count": 313,
   "metadata": {},
   "outputs": [
    {
     "data": {
      "text/plain": [
       "<matplotlib.axes._subplots.AxesSubplot at 0x1ba832c13c8>"
      ]
     },
     "execution_count": 313,
     "metadata": {},
     "output_type": "execute_result"
    },
    {
     "data": {
      "image/png": "[encoded data removed]",
      "text/plain": [
       "<Figure size 432x288 with 1 Axes>"
      ]
     },
     "metadata": {},
     "output_type": "display_data"
    }
   ],
   "source": [
    "log_price = np.log(autos['price'])\n",
    "sns.set_style(\"dark\")\n",
    "sns.distplot(log_price,label=\"Logarithmic price\")"
   ]
  },
  {
   "cell_type": "code",
   "execution_count": 314,
   "metadata": {},
   "outputs": [
    {
     "data": {
      "text/html": [
       "<div>\n",
       "<style scoped>\n",
       "    .dataframe tbody tr th:only-of-type {\n",
       "        vertical-align: middle;\n",
       "    }\n",
       "\n",
       "    .dataframe tbody tr th {\n",
       "        vertical-align: top;\n",
       "    }\n",
       "\n",
       "    .dataframe thead th {\n",
       "        text-align: right;\n",
       "    }\n",
       "</style>\n",
       "<table border=\"1\" class=\"dataframe\">\n",
       "  <thead>\n",
       "    <tr style=\"text-align: right;\">\n",
       "      <th></th>\n",
       "      <th>price</th>\n",
       "      <th>yearOfRegistration</th>\n",
       "      <th>powerPS</th>\n",
       "      <th>kilometer</th>\n",
       "      <th>numberOfDaysToSell</th>\n",
       "    </tr>\n",
       "  </thead>\n",
       "  <tbody>\n",
       "    <tr>\n",
       "      <th>count</th>\n",
       "      <td>240592.00</td>\n",
       "      <td>240592.00</td>\n",
       "      <td>240592.00</td>\n",
       "      <td>240592.00</td>\n",
       "      <td>240592.00</td>\n",
       "    </tr>\n",
       "    <tr>\n",
       "      <th>mean</th>\n",
       "      <td>6745.49</td>\n",
       "      <td>2004.04</td>\n",
       "      <td>129.82</td>\n",
       "      <td>123909.19</td>\n",
       "      <td>9.71</td>\n",
       "    </tr>\n",
       "    <tr>\n",
       "      <th>std</th>\n",
       "      <td>7738.57</td>\n",
       "      <td>5.36</td>\n",
       "      <td>61.58</td>\n",
       "      <td>39668.83</td>\n",
       "      <td>8.47</td>\n",
       "    </tr>\n",
       "    <tr>\n",
       "      <th>min</th>\n",
       "      <td>100.00</td>\n",
       "      <td>1991.00</td>\n",
       "      <td>41.00</td>\n",
       "      <td>5000.00</td>\n",
       "      <td>0.03</td>\n",
       "    </tr>\n",
       "    <tr>\n",
       "      <th>25%</th>\n",
       "      <td>1699.00</td>\n",
       "      <td>2000.00</td>\n",
       "      <td>86.00</td>\n",
       "      <td>100000.00</td>\n",
       "      <td>2.72</td>\n",
       "    </tr>\n",
       "    <tr>\n",
       "      <th>50%</th>\n",
       "      <td>3999.00</td>\n",
       "      <td>2004.00</td>\n",
       "      <td>116.00</td>\n",
       "      <td>150000.00</td>\n",
       "      <td>7.03</td>\n",
       "    </tr>\n",
       "    <tr>\n",
       "      <th>75%</th>\n",
       "      <td>8900.00</td>\n",
       "      <td>2008.00</td>\n",
       "      <td>160.00</td>\n",
       "      <td>150000.00</td>\n",
       "      <td>14.68</td>\n",
       "    </tr>\n",
       "    <tr>\n",
       "      <th>max</th>\n",
       "      <td>79980.00</td>\n",
       "      <td>2018.00</td>\n",
       "      <td>999.00</td>\n",
       "      <td>150000.00</td>\n",
       "      <td>49.62</td>\n",
       "    </tr>\n",
       "  </tbody>\n",
       "</table>\n",
       "</div>"
      ],
      "text/plain": [
       "           price  yearOfRegistration    powerPS  kilometer  numberOfDaysToSell\n",
       "count  240592.00           240592.00  240592.00  240592.00           240592.00\n",
       "mean     6745.49             2004.04     129.82  123909.19                9.71\n",
       "std      7738.57                5.36      61.58   39668.83                8.47\n",
       "min       100.00             1991.00      41.00    5000.00                0.03\n",
       "25%      1699.00             2000.00      86.00  100000.00                2.72\n",
       "50%      3999.00             2004.00     116.00  150000.00                7.03\n",
       "75%      8900.00             2008.00     160.00  150000.00               14.68\n",
       "max     79980.00             2018.00     999.00  150000.00               49.62"
      ]
     },
     "execution_count": 314,
     "metadata": {},
     "output_type": "execute_result"
    }
   ],
   "source": [
    "autos.describe().round(2)"
   ]
  },
  {
   "cell_type": "code",
   "execution_count": 315,
   "metadata": {},
   "outputs": [
    {
     "name": "stdout",
     "output_type": "stream",
     "text": [
      "<class 'pandas.core.frame.DataFrame'>\n",
      "Int64Index: 240592 entries, 3 to 371527\n",
      "Data columns (total 11 columns):\n",
      " #   Column              Non-Null Count   Dtype  \n",
      "---  ------              --------------   -----  \n",
      " 0   price               240592 non-null  int64  \n",
      " 1   vehicleType         240592 non-null  object \n",
      " 2   yearOfRegistration  240592 non-null  int64  \n",
      " 3   gearbox             240592 non-null  object \n",
      " 4   powerPS             240592 non-null  int64  \n",
      " 5   model               240592 non-null  object \n",
      " 6   kilometer           240592 non-null  int64  \n",
      " 7   fuelType            240592 non-null  object \n",
      " 8   brand               240592 non-null  object \n",
      " 9   notRepairedDamage   240592 non-null  object \n",
      " 10  numberOfDaysToSell  240592 non-null  float64\n",
      "dtypes: float64(1), int64(4), object(6)\n",
      "memory usage: 32.0+ MB\n"
     ]
    }
   ],
   "source": [
    "autos.info()"
   ]
  },
  {
   "cell_type": "markdown",
   "metadata": {},
   "source": [
    "We can also use the pandas scatter_matrix() function to check correlation. This function plots every numerical attribute against other numerical attribute. To reduce the amount of plots, let's focus on some few attributes that seem most correlated with median housing value:"
   ]
  },
  {
   "cell_type": "code",
   "execution_count": 401,
   "metadata": {},
   "outputs": [
    {
     "data": {
      "text/html": [
       "<div>\n",
       "<style scoped>\n",
       "    .dataframe tbody tr th:only-of-type {\n",
       "        vertical-align: middle;\n",
       "    }\n",
       "\n",
       "    .dataframe tbody tr th {\n",
       "        vertical-align: top;\n",
       "    }\n",
       "\n",
       "    .dataframe thead th {\n",
       "        text-align: right;\n",
       "    }\n",
       "</style>\n",
       "<table border=\"1\" class=\"dataframe\">\n",
       "  <thead>\n",
       "    <tr style=\"text-align: right;\">\n",
       "      <th></th>\n",
       "      <th>price</th>\n",
       "      <th>yearOfRegistration</th>\n",
       "      <th>powerPS</th>\n",
       "      <th>kilometer</th>\n",
       "      <th>numberOfDaysToSell</th>\n",
       "    </tr>\n",
       "  </thead>\n",
       "  <tbody>\n",
       "    <tr>\n",
       "      <th>price</th>\n",
       "      <td>1.000000</td>\n",
       "      <td>0.629137</td>\n",
       "      <td>0.600101</td>\n",
       "      <td>-0.483680</td>\n",
       "      <td>0.135361</td>\n",
       "    </tr>\n",
       "    <tr>\n",
       "      <th>yearOfRegistration</th>\n",
       "      <td>0.629137</td>\n",
       "      <td>1.000000</td>\n",
       "      <td>0.225181</td>\n",
       "      <td>-0.545447</td>\n",
       "      <td>0.096220</td>\n",
       "    </tr>\n",
       "    <tr>\n",
       "      <th>powerPS</th>\n",
       "      <td>0.600101</td>\n",
       "      <td>0.225181</td>\n",
       "      <td>1.000000</td>\n",
       "      <td>-0.017946</td>\n",
       "      <td>0.070457</td>\n",
       "    </tr>\n",
       "    <tr>\n",
       "      <th>kilometer</th>\n",
       "      <td>-0.483680</td>\n",
       "      <td>-0.545447</td>\n",
       "      <td>-0.017946</td>\n",
       "      <td>1.000000</td>\n",
       "      <td>-0.087551</td>\n",
       "    </tr>\n",
       "    <tr>\n",
       "      <th>numberOfDaysToSell</th>\n",
       "      <td>0.135361</td>\n",
       "      <td>0.096220</td>\n",
       "      <td>0.070457</td>\n",
       "      <td>-0.087551</td>\n",
       "      <td>1.000000</td>\n",
       "    </tr>\n",
       "  </tbody>\n",
       "</table>\n",
       "</div>"
      ],
      "text/plain": [
       "                       price  yearOfRegistration   powerPS  kilometer  \\\n",
       "price               1.000000            0.629137  0.600101  -0.483680   \n",
       "yearOfRegistration  0.629137            1.000000  0.225181  -0.545447   \n",
       "powerPS             0.600101            0.225181  1.000000  -0.017946   \n",
       "kilometer          -0.483680           -0.545447 -0.017946   1.000000   \n",
       "numberOfDaysToSell  0.135361            0.096220  0.070457  -0.087551   \n",
       "\n",
       "                    numberOfDaysToSell  \n",
       "price                         0.135361  \n",
       "yearOfRegistration            0.096220  \n",
       "powerPS                       0.070457  \n",
       "kilometer                    -0.087551  \n",
       "numberOfDaysToSell            1.000000  "
      ]
     },
     "execution_count": 401,
     "metadata": {},
     "output_type": "execute_result"
    }
   ],
   "source": [
    "corr_matrix = autos.corr()\n",
    "corr_matrix"
   ]
  },
  {
   "cell_type": "code",
   "execution_count": 402,
   "metadata": {},
   "outputs": [
    {
     "data": {
      "text/plain": [
       "<matplotlib.axes._subplots.AxesSubplot at 0x1bace1da3c8>"
      ]
     },
     "execution_count": 402,
     "metadata": {},
     "output_type": "execute_result"
    },
    {
     "data": {
      "image/png": "[encoded data removed]",
      "text/plain": [
       "<Figure size 432x288 with 2 Axes>"
      ]
     },
     "metadata": {},
     "output_type": "display_data"
    }
   ],
   "source": [
    "autos_num_corr = autos.copy()\n",
    "autos_num_corr = autos_num_corr.drop(autos_cat, axis=1)\n",
    "correlation_matrix = autos_num_corr.corr()\n",
    "mask = np.triu(np.ones_like(correlation_matrix, dtype=np.bool))\n",
    "cmap = sns.diverging_palette(220, 10, as_cmap=True)\n",
    "sns.heatmap(correlation_matrix, mask=mask, cmap=cmap, vmax=.6, center=0,\n",
    "            xticklabels=('Price','Registration Year','Power','Kilometer', 'Days To Sell'),\n",
    "            yticklabels=('Price','Registration Year','Power','Kilometer', 'Days To Sell'),\n",
    "            square=True, linewidths=.5, cbar_kws={\"shrink\": .5})"
   ]
  },
  {
   "cell_type": "code",
   "execution_count": 403,
   "metadata": {},
   "outputs": [
    {
     "data": {
      "text/plain": [
       "price                 1.000000\n",
       "yearOfRegistration    0.629137\n",
       "powerPS               0.600101\n",
       "numberOfDaysToSell    0.135361\n",
       "kilometer            -0.483680\n",
       "Name: price, dtype: float64"
      ]
     },
     "execution_count": 403,
     "metadata": {},
     "output_type": "execute_result"
    }
   ],
   "source": [
    "corr_matrix['price'].sort_values(ascending=False)"
   ]
  },
  {
   "cell_type": "code",
   "execution_count": 404,
   "metadata": {
    "scrolled": true
   },
   "outputs": [],
   "source": [
    "#attributes = [\"price\", \"yearOfRegistration\", \"powerPS\", \"kilometer\", \"numberOfDaysToSell\"]\n",
    "#scatter_matrix(autos[attributes], figsize=(12,8))"
   ]
  },
  {
   "cell_type": "code",
   "execution_count": 405,
   "metadata": {},
   "outputs": [],
   "source": [
    "# get top 10 most frequent names\n",
    "n = 10\n",
    "top10 = autos['brand'].value_counts()[:n]"
   ]
  },
  {
   "cell_type": "code",
   "execution_count": 406,
   "metadata": {},
   "outputs": [
    {
     "data": {
      "text/plain": [
       "[Text(0, 0.5, 'Frequency'), Text(0.5, 0, 'Brand')]"
      ]
     },
     "execution_count": 406,
     "metadata": {},
     "output_type": "execute_result"
    },
    {
     "data": {
      "image/png": "[encoded data removed]",
      "text/plain": [
       "<Figure size 432x288 with 1 Axes>"
      ]
     },
     "metadata": {},
     "output_type": "display_data"
    }
   ],
   "source": [
    "top10brand=sns.countplot(y=\"brand\", data=autos, palette=sns.cubehelix_palette(10),\n",
    "              order=autos.brand.value_counts().iloc[:10].index)\n",
    "top10brand.set(xlabel=\"Brand\", ylabel = \"Frequency\")"
   ]
  },
  {
   "cell_type": "code",
   "execution_count": 407,
   "metadata": {},
   "outputs": [],
   "source": [
    "price = autos['price'].values\n",
    "brand = autos['brand'].values\n",
    "\n",
    "price_tr=[None]*256016\n",
    "brand_tr=[None]*256016\n",
    "\n",
    "for i in range(len(autos)):\n",
    "    if brand[i] in top10.index:\n",
    "        price_tr[i] = price[i]\n",
    "        brand_tr[i] = brand[i]"
   ]
  },
  {
   "cell_type": "code",
   "execution_count": 408,
   "metadata": {},
   "outputs": [
    {
     "data": {
      "text/plain": [
       "[Text(0, 0.5, 'Price'), Text(0.5, 0, 'Top 10 Brands')]"
      ]
     },
     "execution_count": 408,
     "metadata": {},
     "output_type": "execute_result"
    },
    {
     "data": {
      "image/png": "[encoded data removed]",
      "text/plain": [
       "<Figure size 1440x720 with 1 Axes>"
      ]
     },
     "metadata": {},
     "output_type": "display_data"
    }
   ],
   "source": [
    "plt.figure(figsize=(20,10))\n",
    "sns.set(style=\"whitegrid\")\n",
    "tips = sns.load_dataset(\"tips\")\n",
    "bxp = sns.boxplot(y=price_tr, x=brand_tr)\n",
    "bxp.set(ylabel = \"Price\", xlabel = \"Top 10 Brands\")"
   ]
  },
  {
   "cell_type": "code",
   "execution_count": 409,
   "metadata": {},
   "outputs": [
    {
     "data": {
      "text/plain": [
       "<matplotlib.axes._subplots.AxesSubplot at 0x1ba869a0a48>"
      ]
     },
     "execution_count": 409,
     "metadata": {},
     "output_type": "execute_result"
    },
    {
     "data": {
      "image/png": "[encoded data removed]",
      "text/plain": [
       "<Figure size 2520x720 with 1 Axes>"
      ]
     },
     "metadata": {},
     "output_type": "display_data"
    }
   ],
   "source": [
    "plt.figure(figsize=(35,10))\n",
    "sns.set(style=\"whitegrid\")\n",
    "tips = sns.load_dataset(\"tips\")\n",
    "sns.boxplot(y=autos['price'], x=autos['brand'])"
   ]
  },
  {
   "cell_type": "code",
   "execution_count": 411,
   "metadata": {},
   "outputs": [
    {
     "name": "stdout",
     "output_type": "stream",
     "text": [
      "<class 'pandas.core.frame.DataFrame'>\n",
      "Int64Index: 240592 entries, 3 to 371527\n",
      "Data columns (total 11 columns):\n",
      " #   Column              Non-Null Count   Dtype  \n",
      "---  ------              --------------   -----  \n",
      " 0   price               240592 non-null  int64  \n",
      " 1   vehicleType         240592 non-null  object \n",
      " 2   yearOfRegistration  240592 non-null  int64  \n",
      " 3   gearbox             240592 non-null  object \n",
      " 4   powerPS             240592 non-null  int64  \n",
      " 5   model               240592 non-null  object \n",
      " 6   kilometer           240592 non-null  int64  \n",
      " 7   fuelType            240592 non-null  object \n",
      " 8   brand               240592 non-null  object \n",
      " 9   notRepairedDamage   240592 non-null  object \n",
      " 10  numberOfDaysToSell  240592 non-null  float64\n",
      "dtypes: float64(1), int64(4), object(6)\n",
      "memory usage: 32.0+ MB\n"
     ]
    }
   ],
   "source": [
    "autos.info()"
   ]
  },
  {
   "cell_type": "markdown",
   "metadata": {},
   "source": [
    "## 5. TEST-TRAIN SPLIT"
   ]
  },
  {
   "cell_type": "markdown",
   "metadata": {},
   "source": [
    "__MODEL 1:__ Considers the __car features__ (model, year, power, fuel type, brand, etc.) as explanatory/independent variables and has __price__ as response/dependent variable."
   ]
  },
  {
   "cell_type": "code",
   "execution_count": 412,
   "metadata": {},
   "outputs": [],
   "source": [
    "autos_label_m1 = autos['price'].copy()\n",
    "autos_features_m1 = autos.drop(['numberOfDaysToSell','price'], axis=1)\n",
    "\n",
    "autos_features_m1_tr, autos_features_m1_test, autos_label_m1_tr, autos_label_m1_test \\\n",
    "    = train_test_split(autos_features_m1, autos_label_m1, test_size = 0.2, random_state=24)"
   ]
  },
  {
   "cell_type": "code",
   "execution_count": 413,
   "metadata": {},
   "outputs": [
    {
     "name": "stdout",
     "output_type": "stream",
     "text": [
      "(192473,)\n",
      "(48119,)\n",
      "(192473, 9)\n",
      "(48119, 9)\n"
     ]
    }
   ],
   "source": [
    "print(autos_label_m1_tr.shape)\n",
    "print(autos_label_m1_test.shape)\n",
    "print(autos_features_m1_tr.shape)\n",
    "print(autos_features_m1_test.shape)"
   ]
  },
  {
   "cell_type": "code",
   "execution_count": 414,
   "metadata": {},
   "outputs": [
    {
     "data": {
      "text/html": [
       "<div>\n",
       "<style scoped>\n",
       "    .dataframe tbody tr th:only-of-type {\n",
       "        vertical-align: middle;\n",
       "    }\n",
       "\n",
       "    .dataframe tbody tr th {\n",
       "        vertical-align: top;\n",
       "    }\n",
       "\n",
       "    .dataframe thead th {\n",
       "        text-align: right;\n",
       "    }\n",
       "</style>\n",
       "<table border=\"1\" class=\"dataframe\">\n",
       "  <thead>\n",
       "    <tr style=\"text-align: right;\">\n",
       "      <th></th>\n",
       "      <th>vehicleType</th>\n",
       "      <th>yearOfRegistration</th>\n",
       "      <th>gearbox</th>\n",
       "      <th>powerPS</th>\n",
       "      <th>model</th>\n",
       "      <th>kilometer</th>\n",
       "      <th>fuelType</th>\n",
       "      <th>brand</th>\n",
       "      <th>notRepairedDamage</th>\n",
       "    </tr>\n",
       "  </thead>\n",
       "  <tbody>\n",
       "    <tr>\n",
       "      <th>363641</th>\n",
       "      <td>limousine</td>\n",
       "      <td>2004</td>\n",
       "      <td>manuell</td>\n",
       "      <td>131</td>\n",
       "      <td>passat</td>\n",
       "      <td>150000</td>\n",
       "      <td>diesel</td>\n",
       "      <td>volkswagen</td>\n",
       "      <td>nein</td>\n",
       "    </tr>\n",
       "    <tr>\n",
       "      <th>270905</th>\n",
       "      <td>limousine</td>\n",
       "      <td>1998</td>\n",
       "      <td>manuell</td>\n",
       "      <td>101</td>\n",
       "      <td>a3</td>\n",
       "      <td>150000</td>\n",
       "      <td>benzin</td>\n",
       "      <td>audi</td>\n",
       "      <td>nein</td>\n",
       "    </tr>\n",
       "    <tr>\n",
       "      <th>68641</th>\n",
       "      <td>limousine</td>\n",
       "      <td>2000</td>\n",
       "      <td>manuell</td>\n",
       "      <td>163</td>\n",
       "      <td>a6</td>\n",
       "      <td>150000</td>\n",
       "      <td>benzin</td>\n",
       "      <td>audi</td>\n",
       "      <td>nein</td>\n",
       "    </tr>\n",
       "    <tr>\n",
       "      <th>70934</th>\n",
       "      <td>limousine</td>\n",
       "      <td>2013</td>\n",
       "      <td>automatik</td>\n",
       "      <td>184</td>\n",
       "      <td>3er</td>\n",
       "      <td>90000</td>\n",
       "      <td>diesel</td>\n",
       "      <td>bmw</td>\n",
       "      <td>nein</td>\n",
       "    </tr>\n",
       "    <tr>\n",
       "      <th>60102</th>\n",
       "      <td>limousine</td>\n",
       "      <td>2014</td>\n",
       "      <td>manuell</td>\n",
       "      <td>140</td>\n",
       "      <td>golf</td>\n",
       "      <td>40000</td>\n",
       "      <td>benzin</td>\n",
       "      <td>volkswagen</td>\n",
       "      <td>nein</td>\n",
       "    </tr>\n",
       "  </tbody>\n",
       "</table>\n",
       "</div>"
      ],
      "text/plain": [
       "       vehicleType  yearOfRegistration    gearbox  powerPS   model  kilometer  \\\n",
       "363641   limousine                2004    manuell      131  passat     150000   \n",
       "270905   limousine                1998    manuell      101      a3     150000   \n",
       "68641    limousine                2000    manuell      163      a6     150000   \n",
       "70934    limousine                2013  automatik      184     3er      90000   \n",
       "60102    limousine                2014    manuell      140    golf      40000   \n",
       "\n",
       "       fuelType       brand notRepairedDamage  \n",
       "363641   diesel  volkswagen              nein  \n",
       "270905   benzin        audi              nein  \n",
       "68641    benzin        audi              nein  \n",
       "70934    diesel         bmw              nein  \n",
       "60102    benzin  volkswagen              nein  "
      ]
     },
     "execution_count": 414,
     "metadata": {},
     "output_type": "execute_result"
    }
   ],
   "source": [
    "autos_features_m1_tr.head()"
   ]
  },
  {
   "cell_type": "code",
   "execution_count": 415,
   "metadata": {},
   "outputs": [
    {
     "data": {
      "text/plain": [
       "363641     4999\n",
       "270905     1500\n",
       "68641      2399\n",
       "70934     24500\n",
       "60102     14999\n",
       "Name: price, dtype: int64"
      ]
     },
     "execution_count": 415,
     "metadata": {},
     "output_type": "execute_result"
    }
   ],
   "source": [
    "autos_label_m1_tr.head()"
   ]
  },
  {
   "cell_type": "code",
   "execution_count": 416,
   "metadata": {},
   "outputs": [
    {
     "name": "stdout",
     "output_type": "stream",
     "text": [
      "vehicleType 0\n",
      "yearOfRegistration 0\n",
      "gearbox 0\n",
      "powerPS 0\n",
      "model 0\n",
      "kilometer 0\n",
      "fuelType 0\n",
      "brand 0\n",
      "notRepairedDamage 0\n",
      "vehicleType 0\n",
      "yearOfRegistration 0\n",
      "gearbox 0\n",
      "powerPS 0\n",
      "model 0\n",
      "kilometer 0\n",
      "fuelType 0\n",
      "brand 0\n",
      "notRepairedDamage 0\n"
     ]
    }
   ],
   "source": [
    "#final check for missing values:\n",
    "for i in autos_features_m1_tr:\n",
    "    print(i, autos[i].isnull().sum() )\n",
    "for i in autos_features_m1_test:\n",
    "    print(i, autos[i].isnull().sum() )"
   ]
  },
  {
   "cell_type": "markdown",
   "metadata": {},
   "source": [
    "__MODEL 2:__ Considers the __car features__ (model, year, power, fuel type, brand, etc.) + __price__ as explanatory/independent variables and has __numberOfDaysToSell__ as response/dependent variable."
   ]
  },
  {
   "cell_type": "code",
   "execution_count": 417,
   "metadata": {},
   "outputs": [],
   "source": [
    "autos_label_m2 = autos['numberOfDaysToSell'].copy()\n",
    "autos_features_m2 = autos.drop('numberOfDaysToSell', axis=1)\n",
    "\n",
    "autos_features_m2_tr, autos_features_m2_test, autos_label_m2_tr, autos_label_m2_test \\\n",
    "    = train_test_split(autos_features_m2, autos_label_m2, test_size = 0.2, random_state=24)"
   ]
  },
  {
   "cell_type": "code",
   "execution_count": 418,
   "metadata": {},
   "outputs": [
    {
     "name": "stdout",
     "output_type": "stream",
     "text": [
      "(192473,)\n",
      "(48119,)\n",
      "(192473, 10)\n",
      "(48119, 10)\n"
     ]
    }
   ],
   "source": [
    "print(autos_label_m2_tr.shape)\n",
    "print(autos_label_m2_test.shape)\n",
    "print(autos_features_m2_tr.shape)\n",
    "print(autos_features_m2_test.shape)"
   ]
  },
  {
   "cell_type": "code",
   "execution_count": 419,
   "metadata": {},
   "outputs": [
    {
     "data": {
      "text/html": [
       "<div>\n",
       "<style scoped>\n",
       "    .dataframe tbody tr th:only-of-type {\n",
       "        vertical-align: middle;\n",
       "    }\n",
       "\n",
       "    .dataframe tbody tr th {\n",
       "        vertical-align: top;\n",
       "    }\n",
       "\n",
       "    .dataframe thead th {\n",
       "        text-align: right;\n",
       "    }\n",
       "</style>\n",
       "<table border=\"1\" class=\"dataframe\">\n",
       "  <thead>\n",
       "    <tr style=\"text-align: right;\">\n",
       "      <th></th>\n",
       "      <th>price</th>\n",
       "      <th>vehicleType</th>\n",
       "      <th>yearOfRegistration</th>\n",
       "      <th>gearbox</th>\n",
       "      <th>powerPS</th>\n",
       "      <th>model</th>\n",
       "      <th>kilometer</th>\n",
       "      <th>fuelType</th>\n",
       "      <th>brand</th>\n",
       "      <th>notRepairedDamage</th>\n",
       "    </tr>\n",
       "  </thead>\n",
       "  <tbody>\n",
       "    <tr>\n",
       "      <th>363641</th>\n",
       "      <td>4999</td>\n",
       "      <td>limousine</td>\n",
       "      <td>2004</td>\n",
       "      <td>manuell</td>\n",
       "      <td>131</td>\n",
       "      <td>passat</td>\n",
       "      <td>150000</td>\n",
       "      <td>diesel</td>\n",
       "      <td>volkswagen</td>\n",
       "      <td>nein</td>\n",
       "    </tr>\n",
       "    <tr>\n",
       "      <th>270905</th>\n",
       "      <td>1500</td>\n",
       "      <td>limousine</td>\n",
       "      <td>1998</td>\n",
       "      <td>manuell</td>\n",
       "      <td>101</td>\n",
       "      <td>a3</td>\n",
       "      <td>150000</td>\n",
       "      <td>benzin</td>\n",
       "      <td>audi</td>\n",
       "      <td>nein</td>\n",
       "    </tr>\n",
       "    <tr>\n",
       "      <th>68641</th>\n",
       "      <td>2399</td>\n",
       "      <td>limousine</td>\n",
       "      <td>2000</td>\n",
       "      <td>manuell</td>\n",
       "      <td>163</td>\n",
       "      <td>a6</td>\n",
       "      <td>150000</td>\n",
       "      <td>benzin</td>\n",
       "      <td>audi</td>\n",
       "      <td>nein</td>\n",
       "    </tr>\n",
       "    <tr>\n",
       "      <th>70934</th>\n",
       "      <td>24500</td>\n",
       "      <td>limousine</td>\n",
       "      <td>2013</td>\n",
       "      <td>automatik</td>\n",
       "      <td>184</td>\n",
       "      <td>3er</td>\n",
       "      <td>90000</td>\n",
       "      <td>diesel</td>\n",
       "      <td>bmw</td>\n",
       "      <td>nein</td>\n",
       "    </tr>\n",
       "    <tr>\n",
       "      <th>60102</th>\n",
       "      <td>14999</td>\n",
       "      <td>limousine</td>\n",
       "      <td>2014</td>\n",
       "      <td>manuell</td>\n",
       "      <td>140</td>\n",
       "      <td>golf</td>\n",
       "      <td>40000</td>\n",
       "      <td>benzin</td>\n",
       "      <td>volkswagen</td>\n",
       "      <td>nein</td>\n",
       "    </tr>\n",
       "  </tbody>\n",
       "</table>\n",
       "</div>"
      ],
      "text/plain": [
       "        price vehicleType  yearOfRegistration    gearbox  powerPS   model  \\\n",
       "363641   4999   limousine                2004    manuell      131  passat   \n",
       "270905   1500   limousine                1998    manuell      101      a3   \n",
       "68641    2399   limousine                2000    manuell      163      a6   \n",
       "70934   24500   limousine                2013  automatik      184     3er   \n",
       "60102   14999   limousine                2014    manuell      140    golf   \n",
       "\n",
       "        kilometer fuelType       brand notRepairedDamage  \n",
       "363641     150000   diesel  volkswagen              nein  \n",
       "270905     150000   benzin        audi              nein  \n",
       "68641      150000   benzin        audi              nein  \n",
       "70934       90000   diesel         bmw              nein  \n",
       "60102       40000   benzin  volkswagen              nein  "
      ]
     },
     "execution_count": 419,
     "metadata": {},
     "output_type": "execute_result"
    }
   ],
   "source": [
    "autos_features_m2_tr.head()"
   ]
  },
  {
   "cell_type": "code",
   "execution_count": 420,
   "metadata": {},
   "outputs": [
    {
     "data": {
      "text/plain": [
       "363641     4.720833\n",
       "270905     2.947569\n",
       "68641      2.970799\n",
       "70934     11.386956\n",
       "60102      9.949120\n",
       "Name: numberOfDaysToSell, dtype: float64"
      ]
     },
     "execution_count": 420,
     "metadata": {},
     "output_type": "execute_result"
    }
   ],
   "source": [
    "autos_label_m2_tr.head()"
   ]
  },
  {
   "cell_type": "code",
   "execution_count": 421,
   "metadata": {},
   "outputs": [
    {
     "name": "stdout",
     "output_type": "stream",
     "text": [
      "price 0\n",
      "vehicleType 0\n",
      "yearOfRegistration 0\n",
      "gearbox 0\n",
      "powerPS 0\n",
      "model 0\n",
      "kilometer 0\n",
      "fuelType 0\n",
      "brand 0\n",
      "notRepairedDamage 0\n",
      "price 0\n",
      "vehicleType 0\n",
      "yearOfRegistration 0\n",
      "gearbox 0\n",
      "powerPS 0\n",
      "model 0\n",
      "kilometer 0\n",
      "fuelType 0\n",
      "brand 0\n",
      "notRepairedDamage 0\n"
     ]
    }
   ],
   "source": [
    "#final check for missing values:\n",
    "for i in autos_features_m2_tr:\n",
    "    print(i, autos[i].isnull().sum() )\n",
    "for i in autos_features_m2_test:\n",
    "    print(i, autos[i].isnull().sum() )"
   ]
  },
  {
   "cell_type": "markdown",
   "metadata": {},
   "source": [
    "## 6. PREPARE THE DATA FOR MACHINE LEARNING ALGORITHMS"
   ]
  },
  {
   "cell_type": "markdown",
   "metadata": {},
   "source": [
    "### Model 1"
   ]
  },
  {
   "cell_type": "markdown",
   "metadata": {},
   "source": [
    "Numerical and categorical values are treated differently. Thus, let us split the dataset into two subsets: numerical and categorical."
   ]
  },
  {
   "cell_type": "code",
   "execution_count": 422,
   "metadata": {},
   "outputs": [
    {
     "name": "stdout",
     "output_type": "stream",
     "text": [
      "<class 'pandas.core.frame.DataFrame'>\n",
      "Int64Index: 192473 entries, 363641 to 1408\n",
      "Data columns (total 9 columns):\n",
      " #   Column              Non-Null Count   Dtype \n",
      "---  ------              --------------   ----- \n",
      " 0   vehicleType         192473 non-null  object\n",
      " 1   yearOfRegistration  192473 non-null  int64 \n",
      " 2   gearbox             192473 non-null  object\n",
      " 3   powerPS             192473 non-null  int64 \n",
      " 4   model               192473 non-null  object\n",
      " 5   kilometer           192473 non-null  int64 \n",
      " 6   fuelType            192473 non-null  object\n",
      " 7   brand               192473 non-null  object\n",
      " 8   notRepairedDamage   192473 non-null  object\n",
      "dtypes: int64(3), object(6)\n",
      "memory usage: 14.7+ MB\n"
     ]
    }
   ],
   "source": [
    "autos_features_m1_tr.info()"
   ]
  },
  {
   "cell_type": "code",
   "execution_count": 423,
   "metadata": {},
   "outputs": [
    {
     "data": {
      "text/html": [
       "<div>\n",
       "<style scoped>\n",
       "    .dataframe tbody tr th:only-of-type {\n",
       "        vertical-align: middle;\n",
       "    }\n",
       "\n",
       "    .dataframe tbody tr th {\n",
       "        vertical-align: top;\n",
       "    }\n",
       "\n",
       "    .dataframe thead th {\n",
       "        text-align: right;\n",
       "    }\n",
       "</style>\n",
       "<table border=\"1\" class=\"dataframe\">\n",
       "  <thead>\n",
       "    <tr style=\"text-align: right;\">\n",
       "      <th></th>\n",
       "      <th>yearOfRegistration</th>\n",
       "      <th>powerPS</th>\n",
       "      <th>kilometer</th>\n",
       "    </tr>\n",
       "  </thead>\n",
       "  <tbody>\n",
       "    <tr>\n",
       "      <th>363641</th>\n",
       "      <td>2004</td>\n",
       "      <td>131</td>\n",
       "      <td>150000</td>\n",
       "    </tr>\n",
       "    <tr>\n",
       "      <th>270905</th>\n",
       "      <td>1998</td>\n",
       "      <td>101</td>\n",
       "      <td>150000</td>\n",
       "    </tr>\n",
       "    <tr>\n",
       "      <th>68641</th>\n",
       "      <td>2000</td>\n",
       "      <td>163</td>\n",
       "      <td>150000</td>\n",
       "    </tr>\n",
       "    <tr>\n",
       "      <th>70934</th>\n",
       "      <td>2013</td>\n",
       "      <td>184</td>\n",
       "      <td>90000</td>\n",
       "    </tr>\n",
       "    <tr>\n",
       "      <th>60102</th>\n",
       "      <td>2014</td>\n",
       "      <td>140</td>\n",
       "      <td>40000</td>\n",
       "    </tr>\n",
       "  </tbody>\n",
       "</table>\n",
       "</div>"
      ],
      "text/plain": [
       "        yearOfRegistration  powerPS  kilometer\n",
       "363641                2004      131     150000\n",
       "270905                1998      101     150000\n",
       "68641                 2000      163     150000\n",
       "70934                 2013      184      90000\n",
       "60102                 2014      140      40000"
      ]
     },
     "execution_count": 423,
     "metadata": {},
     "output_type": "execute_result"
    }
   ],
   "source": [
    "autos_features_m1_tr_num = autos_features_m1_tr.drop(autos_cat, axis=1)\n",
    "autos_features_m1_tr_num.head()"
   ]
  },
  {
   "cell_type": "code",
   "execution_count": 424,
   "metadata": {},
   "outputs": [],
   "source": [
    "autos_num = ['yearOfRegistration', 'powerPS', 'kilometer']\n",
    "autos_features_m1_tr_cat = autos_features_m1_tr.drop(autos_num, axis=1)"
   ]
  },
  {
   "cell_type": "code",
   "execution_count": 425,
   "metadata": {},
   "outputs": [
    {
     "data": {
      "text/html": [
       "<div>\n",
       "<style scoped>\n",
       "    .dataframe tbody tr th:only-of-type {\n",
       "        vertical-align: middle;\n",
       "    }\n",
       "\n",
       "    .dataframe tbody tr th {\n",
       "        vertical-align: top;\n",
       "    }\n",
       "\n",
       "    .dataframe thead th {\n",
       "        text-align: right;\n",
       "    }\n",
       "</style>\n",
       "<table border=\"1\" class=\"dataframe\">\n",
       "  <thead>\n",
       "    <tr style=\"text-align: right;\">\n",
       "      <th></th>\n",
       "      <th>vehicleType</th>\n",
       "      <th>gearbox</th>\n",
       "      <th>model</th>\n",
       "      <th>fuelType</th>\n",
       "      <th>brand</th>\n",
       "      <th>notRepairedDamage</th>\n",
       "    </tr>\n",
       "  </thead>\n",
       "  <tbody>\n",
       "    <tr>\n",
       "      <th>363641</th>\n",
       "      <td>limousine</td>\n",
       "      <td>manuell</td>\n",
       "      <td>passat</td>\n",
       "      <td>diesel</td>\n",
       "      <td>volkswagen</td>\n",
       "      <td>nein</td>\n",
       "    </tr>\n",
       "    <tr>\n",
       "      <th>270905</th>\n",
       "      <td>limousine</td>\n",
       "      <td>manuell</td>\n",
       "      <td>a3</td>\n",
       "      <td>benzin</td>\n",
       "      <td>audi</td>\n",
       "      <td>nein</td>\n",
       "    </tr>\n",
       "    <tr>\n",
       "      <th>68641</th>\n",
       "      <td>limousine</td>\n",
       "      <td>manuell</td>\n",
       "      <td>a6</td>\n",
       "      <td>benzin</td>\n",
       "      <td>audi</td>\n",
       "      <td>nein</td>\n",
       "    </tr>\n",
       "    <tr>\n",
       "      <th>70934</th>\n",
       "      <td>limousine</td>\n",
       "      <td>automatik</td>\n",
       "      <td>3er</td>\n",
       "      <td>diesel</td>\n",
       "      <td>bmw</td>\n",
       "      <td>nein</td>\n",
       "    </tr>\n",
       "    <tr>\n",
       "      <th>60102</th>\n",
       "      <td>limousine</td>\n",
       "      <td>manuell</td>\n",
       "      <td>golf</td>\n",
       "      <td>benzin</td>\n",
       "      <td>volkswagen</td>\n",
       "      <td>nein</td>\n",
       "    </tr>\n",
       "  </tbody>\n",
       "</table>\n",
       "</div>"
      ],
      "text/plain": [
       "       vehicleType    gearbox   model fuelType       brand notRepairedDamage\n",
       "363641   limousine    manuell  passat   diesel  volkswagen              nein\n",
       "270905   limousine    manuell      a3   benzin        audi              nein\n",
       "68641    limousine    manuell      a6   benzin        audi              nein\n",
       "70934    limousine  automatik     3er   diesel         bmw              nein\n",
       "60102    limousine    manuell    golf   benzin  volkswagen              nein"
      ]
     },
     "execution_count": 425,
     "metadata": {},
     "output_type": "execute_result"
    }
   ],
   "source": [
    "autos_features_m1_tr_cat.head()"
   ]
  },
  {
   "cell_type": "markdown",
   "metadata": {},
   "source": [
    "Next, we create a class to select numerical or categorical columns since Scikit-Learn doesn't handle DataFrames."
   ]
  },
  {
   "cell_type": "code",
   "execution_count": 426,
   "metadata": {},
   "outputs": [],
   "source": [
    "class DataFrameSelector(BaseEstimator, TransformerMixin):\n",
    "    def __init__(self, feature_names):\n",
    "        self.attribute_names = feature_names\n",
    "    def fit(self, X, y=None):\n",
    "        return self\n",
    "    def transform(self, X):\n",
    "        return X[self.attribute_names].values"
   ]
  },
  {
   "cell_type": "markdown",
   "metadata": {},
   "source": [
    "Next, a few data transformations will be carried out. First, __Feature scaling__, which is used to prevent ML algorithms to create bias towards variables with bigger values. We will be using the Standard Scaler transform. The idea behind *StandardScaler()* is that it will transform your data such that its distribution will have a mean value 0 and standard deviation of 1. In case of multivariate data, this is done feature-wise (in other words independently for each column of the data). Given the distribution of the data, each value in the dataset will have the mean value subtracted, and then divided by the standard deviation of the whole dataset (or feature in the multivariate case)."
   ]
  },
  {
   "cell_type": "code",
   "execution_count": 427,
   "metadata": {},
   "outputs": [],
   "source": [
    "# The imputer is fittet on the training data. It can then also be applied to the test data (without a refit)\n",
    "num_pipeline = Pipeline([\n",
    "        ('selector', DataFrameSelector(autos_num)),\n",
    "        ('std_scaler', StandardScaler())\n",
    "    ])\n",
    "\n",
    "# We run the pipeline to check, whether it runs with no problems\n",
    "temp = num_pipeline.fit_transform(autos_features_m1_tr)"
   ]
  },
  {
   "cell_type": "code",
   "execution_count": 428,
   "metadata": {
    "scrolled": true
   },
   "outputs": [
    {
     "data": {
      "text/html": [
       "<div>\n",
       "<style scoped>\n",
       "    .dataframe tbody tr th:only-of-type {\n",
       "        vertical-align: middle;\n",
       "    }\n",
       "\n",
       "    .dataframe tbody tr th {\n",
       "        vertical-align: top;\n",
       "    }\n",
       "\n",
       "    .dataframe thead th {\n",
       "        text-align: right;\n",
       "    }\n",
       "</style>\n",
       "<table border=\"1\" class=\"dataframe\">\n",
       "  <thead>\n",
       "    <tr style=\"text-align: right;\">\n",
       "      <th></th>\n",
       "      <th>yearOfRegistration</th>\n",
       "      <th>powerPS</th>\n",
       "      <th>kilometer</th>\n",
       "    </tr>\n",
       "  </thead>\n",
       "  <tbody>\n",
       "    <tr>\n",
       "      <th>363641</th>\n",
       "      <td>-0.008535</td>\n",
       "      <td>0.019721</td>\n",
       "      <td>0.657790</td>\n",
       "    </tr>\n",
       "    <tr>\n",
       "      <th>270905</th>\n",
       "      <td>-1.127409</td>\n",
       "      <td>-0.467443</td>\n",
       "      <td>0.657790</td>\n",
       "    </tr>\n",
       "    <tr>\n",
       "      <th>68641</th>\n",
       "      <td>-0.754451</td>\n",
       "      <td>0.539361</td>\n",
       "      <td>0.657790</td>\n",
       "    </tr>\n",
       "    <tr>\n",
       "      <th>70934</th>\n",
       "      <td>1.669777</td>\n",
       "      <td>0.880376</td>\n",
       "      <td>-0.854135</td>\n",
       "    </tr>\n",
       "    <tr>\n",
       "      <th>60102</th>\n",
       "      <td>1.856256</td>\n",
       "      <td>0.165870</td>\n",
       "      <td>-2.114073</td>\n",
       "    </tr>\n",
       "  </tbody>\n",
       "</table>\n",
       "</div>"
      ],
      "text/plain": [
       "        yearOfRegistration   powerPS  kilometer\n",
       "363641           -0.008535  0.019721   0.657790\n",
       "270905           -1.127409 -0.467443   0.657790\n",
       "68641            -0.754451  0.539361   0.657790\n",
       "70934             1.669777  0.880376  -0.854135\n",
       "60102             1.856256  0.165870  -2.114073"
      ]
     },
     "execution_count": 428,
     "metadata": {},
     "output_type": "execute_result"
    }
   ],
   "source": [
    "autos_features_m1_tr_num_transf = pd.DataFrame(temp, columns=autos_features_m1_tr_num.columns, index=autos_features_m1_tr_num.index)\n",
    "autos_features_m1_tr_num_transf.head()"
   ]
  },
  {
   "cell_type": "markdown",
   "metadata": {},
   "source": [
    "Now we need to create one binary attribute per category. This is called **one-hot encoding**, because only one attribute will be equal to 1 (hot), while the other will be 0 (cold)."
   ]
  },
  {
   "cell_type": "code",
   "execution_count": 429,
   "metadata": {},
   "outputs": [],
   "source": [
    "# One-Hot-Encoder replaces categorical features by boolean features, stating wether a certain category is true or not\n",
    "cat_pipeline = Pipeline([\n",
    "        ('selector', DataFrameSelector(autos_cat)),\n",
    "        ('cat_encoder', OneHotEncoder(sparse=False)),\n",
    "    ])\n",
    "\n",
    "# We run the pipeline to check, whether it runs with no problems\n",
    "temp = cat_pipeline.fit_transform(autos_features_m1_tr)"
   ]
  },
  {
   "cell_type": "markdown",
   "metadata": {},
   "source": [
    "After one-hot encoding, we get a matrix with hundreds of columns, and the matrix is full of 0s except for a single 1 per row. The result is a SciPy sparse matrix that only stores the location of the nonzero element in order to reduce memory usage."
   ]
  },
  {
   "cell_type": "code",
   "execution_count": 430,
   "metadata": {},
   "outputs": [],
   "source": [
    "#Combine both imputers and get cleaned data\n",
    "full_pipeline = FeatureUnion(transformer_list=[\n",
    "        (\"num_pipeline\", num_pipeline),\n",
    "        (\"cat_pipeline\", cat_pipeline),\n",
    "    ])\n",
    "autos_features_prepared_m1_tr = full_pipeline.fit_transform(autos_features_m1_tr)"
   ]
  },
  {
   "cell_type": "code",
   "execution_count": 431,
   "metadata": {},
   "outputs": [
    {
     "data": {
      "text/plain": [
       "array([[-0.00853467,  0.01972061,  0.65779028, ...,  0.        ,\n",
       "         0.        ,  1.        ],\n",
       "       [-1.12740932, -0.46744271,  0.65779028, ...,  0.        ,\n",
       "         0.        ,  1.        ],\n",
       "       [-0.7544511 ,  0.53936147,  0.65779028, ...,  0.        ,\n",
       "         0.        ,  1.        ],\n",
       "       ...,\n",
       "       [ 2.04273551, -0.22386105, -2.61804809, ...,  0.        ,\n",
       "         0.        ,  1.        ],\n",
       "       [ 0.92386086, -0.88965091, -1.35811025, ...,  0.        ,\n",
       "         0.        ,  1.        ],\n",
       "       [-0.94093021,  1.02652479,  0.65779028, ...,  0.        ,\n",
       "         0.        ,  1.        ]])"
      ]
     },
     "execution_count": 431,
     "metadata": {},
     "output_type": "execute_result"
    }
   ],
   "source": [
    "autos_features_prepared_m1_tr"
   ]
  },
  {
   "cell_type": "code",
   "execution_count": 432,
   "metadata": {},
   "outputs": [
    {
     "name": "stdout",
     "output_type": "stream",
     "text": [
      "(192473, 308)\n",
      "(192473,)\n",
      "<class 'numpy.ndarray'>\n",
      "<class 'pandas.core.series.Series'>\n"
     ]
    }
   ],
   "source": [
    "print(autos_features_prepared_m1_tr.shape)\n",
    "print(autos_label_m1_tr.shape)\n",
    "print(type(autos_features_prepared_m1_tr))\n",
    "print(type(autos_label_m1_tr))"
   ]
  },
  {
   "cell_type": "code",
   "execution_count": 433,
   "metadata": {},
   "outputs": [],
   "source": [
    "#Converting autos_label_m1_tr and autos_label_m1_test to numpy array\n",
    "autos_label_m1_tr = autos_label_m1_tr.to_numpy()\n",
    "autos_label_m1_test = autos_label_m1_test.to_numpy()"
   ]
  },
  {
   "cell_type": "code",
   "execution_count": 434,
   "metadata": {},
   "outputs": [
    {
     "data": {
      "text/plain": [
       "numpy.ndarray"
      ]
     },
     "execution_count": 434,
     "metadata": {},
     "output_type": "execute_result"
    }
   ],
   "source": [
    "type(autos_label_m1_tr)"
   ]
  },
  {
   "cell_type": "markdown",
   "metadata": {},
   "source": [
    "### Model 2"
   ]
  },
  {
   "cell_type": "code",
   "execution_count": 435,
   "metadata": {},
   "outputs": [
    {
     "name": "stdout",
     "output_type": "stream",
     "text": [
      "<class 'pandas.core.frame.DataFrame'>\n",
      "Int64Index: 192473 entries, 363641 to 1408\n",
      "Data columns (total 10 columns):\n",
      " #   Column              Non-Null Count   Dtype \n",
      "---  ------              --------------   ----- \n",
      " 0   price               192473 non-null  int64 \n",
      " 1   vehicleType         192473 non-null  object\n",
      " 2   yearOfRegistration  192473 non-null  int64 \n",
      " 3   gearbox             192473 non-null  object\n",
      " 4   powerPS             192473 non-null  int64 \n",
      " 5   model               192473 non-null  object\n",
      " 6   kilometer           192473 non-null  int64 \n",
      " 7   fuelType            192473 non-null  object\n",
      " 8   brand               192473 non-null  object\n",
      " 9   notRepairedDamage   192473 non-null  object\n",
      "dtypes: int64(4), object(6)\n",
      "memory usage: 16.2+ MB\n"
     ]
    }
   ],
   "source": [
    "autos_features_m2_tr.info()"
   ]
  },
  {
   "cell_type": "code",
   "execution_count": 436,
   "metadata": {},
   "outputs": [
    {
     "data": {
      "text/html": [
       "<div>\n",
       "<style scoped>\n",
       "    .dataframe tbody tr th:only-of-type {\n",
       "        vertical-align: middle;\n",
       "    }\n",
       "\n",
       "    .dataframe tbody tr th {\n",
       "        vertical-align: top;\n",
       "    }\n",
       "\n",
       "    .dataframe thead th {\n",
       "        text-align: right;\n",
       "    }\n",
       "</style>\n",
       "<table border=\"1\" class=\"dataframe\">\n",
       "  <thead>\n",
       "    <tr style=\"text-align: right;\">\n",
       "      <th></th>\n",
       "      <th>price</th>\n",
       "      <th>yearOfRegistration</th>\n",
       "      <th>powerPS</th>\n",
       "      <th>kilometer</th>\n",
       "    </tr>\n",
       "  </thead>\n",
       "  <tbody>\n",
       "    <tr>\n",
       "      <th>363641</th>\n",
       "      <td>4999</td>\n",
       "      <td>2004</td>\n",
       "      <td>131</td>\n",
       "      <td>150000</td>\n",
       "    </tr>\n",
       "    <tr>\n",
       "      <th>270905</th>\n",
       "      <td>1500</td>\n",
       "      <td>1998</td>\n",
       "      <td>101</td>\n",
       "      <td>150000</td>\n",
       "    </tr>\n",
       "    <tr>\n",
       "      <th>68641</th>\n",
       "      <td>2399</td>\n",
       "      <td>2000</td>\n",
       "      <td>163</td>\n",
       "      <td>150000</td>\n",
       "    </tr>\n",
       "    <tr>\n",
       "      <th>70934</th>\n",
       "      <td>24500</td>\n",
       "      <td>2013</td>\n",
       "      <td>184</td>\n",
       "      <td>90000</td>\n",
       "    </tr>\n",
       "    <tr>\n",
       "      <th>60102</th>\n",
       "      <td>14999</td>\n",
       "      <td>2014</td>\n",
       "      <td>140</td>\n",
       "      <td>40000</td>\n",
       "    </tr>\n",
       "  </tbody>\n",
       "</table>\n",
       "</div>"
      ],
      "text/plain": [
       "        price  yearOfRegistration  powerPS  kilometer\n",
       "363641   4999                2004      131     150000\n",
       "270905   1500                1998      101     150000\n",
       "68641    2399                2000      163     150000\n",
       "70934   24500                2013      184      90000\n",
       "60102   14999                2014      140      40000"
      ]
     },
     "execution_count": 436,
     "metadata": {},
     "output_type": "execute_result"
    }
   ],
   "source": [
    "autos_features_m2_tr_num = autos_features_m2_tr.drop(autos_cat, axis=1)\n",
    "autos_features_m2_tr_num.head()"
   ]
  },
  {
   "cell_type": "code",
   "execution_count": 437,
   "metadata": {},
   "outputs": [
    {
     "data": {
      "text/html": [
       "<div>\n",
       "<style scoped>\n",
       "    .dataframe tbody tr th:only-of-type {\n",
       "        vertical-align: middle;\n",
       "    }\n",
       "\n",
       "    .dataframe tbody tr th {\n",
       "        vertical-align: top;\n",
       "    }\n",
       "\n",
       "    .dataframe thead th {\n",
       "        text-align: right;\n",
       "    }\n",
       "</style>\n",
       "<table border=\"1\" class=\"dataframe\">\n",
       "  <thead>\n",
       "    <tr style=\"text-align: right;\">\n",
       "      <th></th>\n",
       "      <th>vehicleType</th>\n",
       "      <th>gearbox</th>\n",
       "      <th>model</th>\n",
       "      <th>fuelType</th>\n",
       "      <th>brand</th>\n",
       "      <th>notRepairedDamage</th>\n",
       "    </tr>\n",
       "  </thead>\n",
       "  <tbody>\n",
       "    <tr>\n",
       "      <th>363641</th>\n",
       "      <td>limousine</td>\n",
       "      <td>manuell</td>\n",
       "      <td>passat</td>\n",
       "      <td>diesel</td>\n",
       "      <td>volkswagen</td>\n",
       "      <td>nein</td>\n",
       "    </tr>\n",
       "    <tr>\n",
       "      <th>270905</th>\n",
       "      <td>limousine</td>\n",
       "      <td>manuell</td>\n",
       "      <td>a3</td>\n",
       "      <td>benzin</td>\n",
       "      <td>audi</td>\n",
       "      <td>nein</td>\n",
       "    </tr>\n",
       "    <tr>\n",
       "      <th>68641</th>\n",
       "      <td>limousine</td>\n",
       "      <td>manuell</td>\n",
       "      <td>a6</td>\n",
       "      <td>benzin</td>\n",
       "      <td>audi</td>\n",
       "      <td>nein</td>\n",
       "    </tr>\n",
       "    <tr>\n",
       "      <th>70934</th>\n",
       "      <td>limousine</td>\n",
       "      <td>automatik</td>\n",
       "      <td>3er</td>\n",
       "      <td>diesel</td>\n",
       "      <td>bmw</td>\n",
       "      <td>nein</td>\n",
       "    </tr>\n",
       "    <tr>\n",
       "      <th>60102</th>\n",
       "      <td>limousine</td>\n",
       "      <td>manuell</td>\n",
       "      <td>golf</td>\n",
       "      <td>benzin</td>\n",
       "      <td>volkswagen</td>\n",
       "      <td>nein</td>\n",
       "    </tr>\n",
       "  </tbody>\n",
       "</table>\n",
       "</div>"
      ],
      "text/plain": [
       "       vehicleType    gearbox   model fuelType       brand notRepairedDamage\n",
       "363641   limousine    manuell  passat   diesel  volkswagen              nein\n",
       "270905   limousine    manuell      a3   benzin        audi              nein\n",
       "68641    limousine    manuell      a6   benzin        audi              nein\n",
       "70934    limousine  automatik     3er   diesel         bmw              nein\n",
       "60102    limousine    manuell    golf   benzin  volkswagen              nein"
      ]
     },
     "execution_count": 437,
     "metadata": {},
     "output_type": "execute_result"
    }
   ],
   "source": [
    "autos_num_2 = ['price','yearOfRegistration', 'powerPS', 'kilometer']\n",
    "autos_features_m2_tr_cat = autos_features_m2_tr.drop(autos_num_2, axis=1)\n",
    "autos_features_m2_tr_cat.head()"
   ]
  },
  {
   "cell_type": "code",
   "execution_count": 438,
   "metadata": {},
   "outputs": [],
   "source": [
    "# The imputer is fittet on the training data. It can then also be applied to the test data (without a refit)\n",
    "num_pipeline_2 = Pipeline([\n",
    "        ('selector', DataFrameSelector(autos_num_2)),\n",
    "        ('std_scaler', StandardScaler())\n",
    "    ])\n",
    "\n",
    "# We run the pipeline to check, whether it runs with no problems\n",
    "temp = num_pipeline_2.fit_transform(autos_features_m2_tr)"
   ]
  },
  {
   "cell_type": "code",
   "execution_count": 439,
   "metadata": {},
   "outputs": [
    {
     "data": {
      "text/html": [
       "<div>\n",
       "<style scoped>\n",
       "    .dataframe tbody tr th:only-of-type {\n",
       "        vertical-align: middle;\n",
       "    }\n",
       "\n",
       "    .dataframe tbody tr th {\n",
       "        vertical-align: top;\n",
       "    }\n",
       "\n",
       "    .dataframe thead th {\n",
       "        text-align: right;\n",
       "    }\n",
       "</style>\n",
       "<table border=\"1\" class=\"dataframe\">\n",
       "  <thead>\n",
       "    <tr style=\"text-align: right;\">\n",
       "      <th></th>\n",
       "      <th>price</th>\n",
       "      <th>yearOfRegistration</th>\n",
       "      <th>powerPS</th>\n",
       "      <th>kilometer</th>\n",
       "    </tr>\n",
       "  </thead>\n",
       "  <tbody>\n",
       "    <tr>\n",
       "      <th>363641</th>\n",
       "      <td>-0.225904</td>\n",
       "      <td>-0.008535</td>\n",
       "      <td>0.019721</td>\n",
       "      <td>0.657790</td>\n",
       "    </tr>\n",
       "    <tr>\n",
       "      <th>270905</th>\n",
       "      <td>-0.678864</td>\n",
       "      <td>-1.127409</td>\n",
       "      <td>-0.467443</td>\n",
       "      <td>0.657790</td>\n",
       "    </tr>\n",
       "    <tr>\n",
       "      <th>68641</th>\n",
       "      <td>-0.562485</td>\n",
       "      <td>-0.754451</td>\n",
       "      <td>0.539361</td>\n",
       "      <td>0.657790</td>\n",
       "    </tr>\n",
       "    <tr>\n",
       "      <th>70934</th>\n",
       "      <td>2.298582</td>\n",
       "      <td>1.669777</td>\n",
       "      <td>0.880376</td>\n",
       "      <td>-0.854135</td>\n",
       "    </tr>\n",
       "    <tr>\n",
       "      <th>60102</th>\n",
       "      <td>1.068638</td>\n",
       "      <td>1.856256</td>\n",
       "      <td>0.165870</td>\n",
       "      <td>-2.114073</td>\n",
       "    </tr>\n",
       "  </tbody>\n",
       "</table>\n",
       "</div>"
      ],
      "text/plain": [
       "           price  yearOfRegistration   powerPS  kilometer\n",
       "363641 -0.225904           -0.008535  0.019721   0.657790\n",
       "270905 -0.678864           -1.127409 -0.467443   0.657790\n",
       "68641  -0.562485           -0.754451  0.539361   0.657790\n",
       "70934   2.298582            1.669777  0.880376  -0.854135\n",
       "60102   1.068638            1.856256  0.165870  -2.114073"
      ]
     },
     "execution_count": 439,
     "metadata": {},
     "output_type": "execute_result"
    }
   ],
   "source": [
    "autos_features_m2_tr_num_transf = pd.DataFrame(temp, columns=autos_features_m2_tr_num.columns, index=autos_features_m2_tr_num.index)\n",
    "autos_features_m2_tr_num_transf.head()"
   ]
  },
  {
   "cell_type": "code",
   "execution_count": 440,
   "metadata": {},
   "outputs": [],
   "source": [
    "# One-Hot-Encoder replaces categorical features by boolean features, stating wether a certain category is true or not\n",
    "cat_pipeline_2 = Pipeline([\n",
    "        ('selector', DataFrameSelector(autos_cat)),\n",
    "        ('cat_encoder', OneHotEncoder(sparse=False)),\n",
    "    ])\n",
    "\n",
    "# We run the pipeline to check, whether it runs with no problems\n",
    "temp = cat_pipeline_2.fit_transform(autos_features_m2_tr)"
   ]
  },
  {
   "cell_type": "code",
   "execution_count": 441,
   "metadata": {},
   "outputs": [
    {
     "data": {
      "text/plain": [
       "array([[-0.2259037 , -0.00853467,  0.01972061, ...,  0.        ,\n",
       "         0.        ,  1.        ],\n",
       "       [-0.6788639 , -1.12740932, -0.46744271, ...,  0.        ,\n",
       "         0.        ,  1.        ],\n",
       "       [-0.56248459, -0.7544511 ,  0.53936147, ...,  0.        ,\n",
       "         0.        ,  1.        ],\n",
       "       ...,\n",
       "       [ 2.62221787,  2.04273551, -0.22386105, ...,  0.        ,\n",
       "         0.        ,  1.        ],\n",
       "       [-0.22577425,  0.92386086, -0.88965091, ...,  0.        ,\n",
       "         0.        ,  1.        ],\n",
       "       [-0.00570213, -0.94093021,  1.02652479, ...,  0.        ,\n",
       "         0.        ,  1.        ]])"
      ]
     },
     "execution_count": 441,
     "metadata": {},
     "output_type": "execute_result"
    }
   ],
   "source": [
    "#Combine both imputers and get cleaned data\n",
    "full_pipeline_2 = FeatureUnion(transformer_list=[\n",
    "        (\"num_pipeline\", num_pipeline_2),\n",
    "        (\"cat_pipeline\", cat_pipeline_2),\n",
    "    ])\n",
    "autos_features_prepared_m2_tr = full_pipeline_2.fit_transform(autos_features_m2_tr)\n",
    "autos_features_prepared_m2_tr"
   ]
  },
  {
   "cell_type": "code",
   "execution_count": 442,
   "metadata": {},
   "outputs": [
    {
     "name": "stdout",
     "output_type": "stream",
     "text": [
      "(192473, 309)\n",
      "(192473,)\n",
      "<class 'numpy.ndarray'>\n",
      "<class 'pandas.core.series.Series'>\n"
     ]
    }
   ],
   "source": [
    "print(autos_features_prepared_m2_tr.shape)\n",
    "print(autos_label_m2_tr.shape)\n",
    "print(type(autos_features_prepared_m2_tr))\n",
    "print(type(autos_label_m2_tr))"
   ]
  },
  {
   "cell_type": "code",
   "execution_count": 443,
   "metadata": {},
   "outputs": [],
   "source": [
    "#Converting autos_label_m2_tr and autos_label_m2_test to numpy array\n",
    "autos_label_m2_tr = autos_label_m2_tr.to_numpy()\n",
    "autos_label_m2_test = autos_label_m2_test.to_numpy()"
   ]
  },
  {
   "cell_type": "code",
   "execution_count": 444,
   "metadata": {},
   "outputs": [
    {
     "data": {
      "text/plain": [
       "numpy.ndarray"
      ]
     },
     "execution_count": 444,
     "metadata": {},
     "output_type": "execute_result"
    }
   ],
   "source": [
    "type(autos_label_m2_tr)"
   ]
  },
  {
   "cell_type": "markdown",
   "metadata": {},
   "source": [
    "## 6. MODELS EVALUATION"
   ]
  },
  {
   "cell_type": "code",
   "execution_count": 445,
   "metadata": {},
   "outputs": [],
   "source": [
    "def display_scores(scores):\n",
    "    print(\"Scores: \", scores.round(2))\n",
    "    print('Mean:%5.2f'%scores.mean().round(2))\n",
    "    print('Standard deviation:%5.2f'%scores.std().round(2))"
   ]
  },
  {
   "cell_type": "markdown",
   "metadata": {},
   "source": [
    "### Model 1"
   ]
  },
  {
   "cell_type": "markdown",
   "metadata": {},
   "source": [
    "### Linear Regression"
   ]
  },
  {
   "cell_type": "markdown",
   "metadata": {},
   "source": [
    "Since we have many columns after the data transformations, let's create a function for backward elimination. In this process, all independent variables are entered into the regression at first, then each one is deleted, one at a time, if they do not contribute to the performance of the model."
   ]
  },
  {
   "cell_type": "code",
   "execution_count": 191,
   "metadata": {},
   "outputs": [],
   "source": [
    "#Backward Elimination with p-values\n",
    "def backwardElimination_p(y, x, sl):\n",
    "    numVars = len(x[0])\n",
    "    for i in range(0, numVars):\n",
    "        regressor_OLS = sm.OLS(y, x).fit()\n",
    "        maxVar = max(regressor_OLS.pvalues).astype(float)\n",
    "        if maxVar > sl:\n",
    "            for j in range(0, numVars - i):\n",
    "                if (regressor_OLS.pvalues[j].astype(float) == maxVar):\n",
    "                    x = np.delete(x, j, 1)\n",
    "    regressor_OLS.summary()\n",
    "    return x"
   ]
  },
  {
   "cell_type": "code",
   "execution_count": 192,
   "metadata": {},
   "outputs": [],
   "source": [
    "#takes a long time to run\n",
    "SL = 0.05\n",
    "X_opt = autos_features_prepared_m1_tr\n",
    "autos_opt = backwardElimination_p(autos_label_m1_tr, X_opt, SL)"
   ]
  },
  {
   "cell_type": "markdown",
   "metadata": {},
   "source": [
    "The OLS model does not is not include an intercept by default, thus it should be added."
   ]
  },
  {
   "cell_type": "code",
   "execution_count": 193,
   "metadata": {},
   "outputs": [],
   "source": [
    "autos_opt = np.append(arr = np.ones((192473,1)).astype(int), values = autos_opt, axis=1)"
   ]
  },
  {
   "cell_type": "code",
   "execution_count": 194,
   "metadata": {},
   "outputs": [],
   "source": [
    "OLS_lin_reg = sm.OLS(autos_label_m1_tr, autos_opt).fit()"
   ]
  },
  {
   "cell_type": "code",
   "execution_count": 195,
   "metadata": {},
   "outputs": [
    {
     "name": "stdout",
     "output_type": "stream",
     "text": [
      "                            OLS Regression Results                            \n",
      "==============================================================================\n",
      "Dep. Variable:                      y   R-squared:                       0.779\n",
      "Model:                            OLS   Adj. R-squared:                  0.779\n",
      "Method:                 Least Squares   F-statistic:                     2952.\n",
      "Date:                Tue, 26 May 2020   Prob (F-statistic):               0.00\n",
      "Time:                        12:58:03   Log-Likelihood:            -1.8507e+06\n",
      "No. Observations:              192473   AIC:                         3.702e+06\n",
      "Df Residuals:                  192242   BIC:                         3.704e+06\n",
      "Df Model:                         230                                         \n",
      "Covariance Type:            nonrobust                                         \n",
      "==============================================================================\n",
      "                 coef    std err          t      P>|t|      [0.025      0.975]\n",
      "------------------------------------------------------------------------------\n",
      "const       2398.5100     58.947     40.690      0.000    2282.976    2514.044\n",
      "x1          2934.7603     12.559    233.682      0.000    2910.145    2959.375\n",
      "x2          2620.8051     14.506    180.666      0.000    2592.373    2649.237\n",
      "x3         -2024.8508     11.035   -183.490      0.000   -2046.480   -2003.222\n",
      "x4          1783.5913     42.513     41.954      0.000    1700.268    1866.915\n",
      "x5          1004.4649     45.908     21.880      0.000     914.486    1094.444\n",
      "x6           444.8952     35.784     12.433      0.000     374.760     515.030\n",
      "x7          -226.6454     25.753     -8.801      0.000    -277.121    -176.169\n",
      "x8          1351.0237     67.435     20.034      0.000    1218.852    1483.196\n",
      "x9          1689.5881     32.598     51.831      0.000    1625.697    1753.479\n",
      "x10          708.9220     31.269     22.671      0.000     647.635     770.209\n",
      "x11        -1703.6904    328.221     -5.191      0.000   -2346.996   -1060.385\n",
      "x12         1850.4714    887.549      2.085      0.037     110.896    3590.047\n",
      "x13         1532.0140    151.016     10.145      0.000    1236.026    1828.002\n",
      "x14        -8834.6943    203.154    -43.488      0.000   -9232.872   -8436.517\n",
      "x15         1744.8045    440.316      3.963      0.000     881.795    2607.814\n",
      "x16          887.6295    103.800      8.551      0.000     684.184    1091.075\n",
      "x17        -9052.4381    192.624    -46.995      0.000   -9429.976   -8674.900\n",
      "x18        -1488.0968    182.175     -8.168      0.000   -1845.156   -1131.038\n",
      "x19          866.2027    233.361      3.712      0.000     408.820    1323.585\n",
      "x20        -9209.4889    195.926    -47.005      0.000   -9593.499   -8825.479\n",
      "x21          596.0679    177.927      3.350      0.001     247.335     944.800\n",
      "x22        -2637.7314    356.758     -7.394      0.000   -3336.969   -1938.493\n",
      "x23        -9829.7357    237.069    -41.464      0.000   -1.03e+04   -9365.087\n",
      "x24        -1091.4126    196.876     -5.544      0.000   -1477.284    -705.541\n",
      "x25         1590.6797    350.821      4.534      0.000     903.080    2278.280\n",
      "x26         4819.5488    536.854      8.977      0.000    3767.327    5871.770\n",
      "x27         3948.9367    999.326      3.952      0.000    1990.281    5907.593\n",
      "x28         9450.1384    370.899     25.479      0.000    8723.184    1.02e+04\n",
      "x29        -3772.3128    214.976    -17.548      0.000   -4193.661   -3350.964\n",
      "x30        -2831.5774    273.821    -10.341      0.000   -3368.260   -2294.895\n",
      "x31        -3213.5049    136.928    -23.469      0.000   -3481.881   -2945.129\n",
      "x32        -3537.0081    131.380    -26.922      0.000   -3794.510   -3279.506\n",
      "x33         1518.1034    183.880      8.256      0.000    1157.702    1878.505\n",
      "x34        -4057.6950    136.093    -29.816      0.000   -4324.433   -3790.957\n",
      "x35        -5458.4066    224.530    -24.310      0.000   -5898.480   -5018.333\n",
      "x36        -3056.9966    134.707    -22.694      0.000   -3321.019   -2792.974\n",
      "x37         -581.1216    276.595     -2.101      0.036   -1123.240     -39.003\n",
      "x38        -2703.7757    269.451    -10.034      0.000   -3231.894   -2175.657\n",
      "x39         3779.4871    721.221      5.240      0.000    2365.912    5193.063\n",
      "x40          533.2724     50.091     10.646      0.000     435.096     631.449\n",
      "x41          825.9704     80.179     10.302      0.000     668.820     983.120\n",
      "x42        -3203.9888    339.373     -9.441      0.000   -3869.153   -2538.825\n",
      "x43        -2247.3235    254.128     -8.843      0.000   -2745.408   -1749.239\n",
      "x44        -2702.9822    462.650     -5.842      0.000   -3609.765   -1796.200\n",
      "x45        -5523.5964    284.778    -19.396      0.000   -6081.754   -4965.439\n",
      "x46        -2160.9771    186.656    -11.577      0.000   -2526.819   -1795.135\n",
      "x47        -2418.7539    196.367    -12.317      0.000   -2803.629   -2033.878\n",
      "x48        -2879.6010    200.840    -14.338      0.000   -3273.243   -2485.960\n",
      "x49        -1.058e+04    389.692    -27.161      0.000   -1.13e+04   -9820.740\n",
      "x50        -3256.1167    252.424    -12.899      0.000   -3750.861   -2761.372\n",
      "x51        -1315.9163    264.443     -4.976      0.000   -1834.217    -797.615\n",
      "x52        -1544.2688    229.090     -6.741      0.000   -1993.281   -1095.257\n",
      "x53        -1811.5939    240.848     -7.522      0.000   -2283.651   -1339.537\n",
      "x54        -1453.1502    238.448     -6.094      0.000   -1920.502    -985.799\n",
      "x55        -2383.3559    121.966    -19.541      0.000   -2622.407   -2144.305\n",
      "x56         -977.1498    320.256     -3.051      0.002   -1604.844    -349.456\n",
      "x57        -2288.2074    170.809    -13.396      0.000   -2622.988   -1953.426\n",
      "x58         3150.6341    401.489      7.847      0.000    2363.725    3937.543\n",
      "x59         1213.7291    286.518      4.236      0.000     652.161    1775.297\n",
      "x60        -1236.3480    331.161     -3.733      0.000   -1885.415    -587.281\n",
      "x61        -1.231e+04    394.524    -31.210      0.000   -1.31e+04   -1.15e+04\n",
      "x62        -4690.8292    460.097    -10.195      0.000   -5592.608   -3789.050\n",
      "x63          476.7536    169.220      2.817      0.005     145.087     808.420\n",
      "x64        -2473.8620    299.161     -8.269      0.000   -3060.211   -1887.513\n",
      "x65          609.1202    113.230      5.380      0.000     387.193     831.048\n",
      "x66        -4361.8616    157.108    -27.763      0.000   -4669.789   -4053.934\n",
      "x67        -4202.9267    616.376     -6.819      0.000   -5411.008   -2994.845\n",
      "x68        -4108.8546    546.010     -7.525      0.000   -5179.022   -3038.687\n",
      "x69        -1467.8359    250.780     -5.853      0.000   -1959.359    -976.312\n",
      "x70         1164.3336     84.060     13.851      0.000     999.579    1329.089\n",
      "x71          658.8644    276.739      2.381      0.017     116.462    1201.267\n",
      "x72        -1654.7381    763.537     -2.167      0.030   -3151.253    -158.223\n",
      "x73         4138.6237    427.806      9.674      0.000    3300.134    4977.113\n",
      "x74         1.527e+04    635.149     24.036      0.000     1.4e+04    1.65e+04\n",
      "x75         8320.6837    838.458      9.924      0.000    6677.326    9964.041\n",
      "x76         2443.1377    644.057      3.793      0.000    1180.801    3705.474\n",
      "x77         2.272e+04   3665.095      6.199      0.000    1.55e+04    2.99e+04\n",
      "x78         1396.3476    268.723      5.196      0.000     869.658    1923.037\n",
      "x79         1146.2281    402.222      2.850      0.004     357.883    1934.574\n",
      "x80        -2113.0705    124.365    -16.991      0.000   -2356.823   -1869.318\n",
      "x81        -3855.8294    221.485    -17.409      0.000   -4289.934   -3421.725\n",
      "x82         2356.3609    205.840     11.448      0.000    1952.920    2759.802\n",
      "x83        -1788.7109    474.243     -3.772      0.000   -2718.216    -859.205\n",
      "x84          181.3692     79.826      2.272      0.023      24.912     337.826\n",
      "x85        -1713.6832    261.856     -6.544      0.000   -2226.914   -1200.452\n",
      "x86        -3127.9471    128.667    -24.310      0.000   -3380.131   -2875.763\n",
      "x87        -5347.6073    216.643    -24.684      0.000   -5772.222   -4922.993\n",
      "x88        -2208.2895    596.503     -3.702      0.000   -3377.422   -1039.158\n",
      "x89         -796.2588    269.297     -2.957      0.003   -1324.074    -268.444\n",
      "x90         1.433e+04    438.477     32.687      0.000    1.35e+04    1.52e+04\n",
      "x91          957.4575    158.105      6.056      0.000     647.576    1267.339\n",
      "x92         1.356e+04    596.010     22.744      0.000    1.24e+04    1.47e+04\n",
      "x93         4736.5469    306.992     15.429      0.000    4134.850    5338.244\n",
      "x94        -1885.4423    122.880    -15.344      0.000   -2126.284   -1644.600\n",
      "x95         1216.3257    226.441      5.371      0.000     772.506    1660.145\n",
      "x96        -6401.5631   1825.473     -3.507      0.000   -9979.447   -2823.679\n",
      "x97        -2614.6807    154.026    -16.976      0.000   -2916.568   -2312.793\n",
      "x98         1125.6248    177.020      6.359      0.000     778.670    1472.580\n",
      "x99        -2182.4874    272.172     -8.019      0.000   -2715.938   -1649.037\n",
      "x100       -2391.0948    318.745     -7.502      0.000   -3015.827   -1766.363\n",
      "x101       -1725.6319    451.567     -3.821      0.000   -2610.693    -840.571\n",
      "x102       -1129.9554    457.809     -2.468      0.014   -2027.250    -232.661\n",
      "x103        -699.7652    115.576     -6.055      0.000    -926.292    -473.238\n",
      "x104        5203.9822    558.088      9.325      0.000    4110.144    6297.821\n",
      "x105        3129.5247    915.869      3.417      0.001    1334.443    4924.606\n",
      "x106       -2373.7819    475.464     -4.993      0.000   -3305.679   -1441.884\n",
      "x107        1228.1835    182.116      6.744      0.000     871.240    1585.127\n",
      "x108        2542.8681    228.553     11.126      0.000    2094.909    2990.827\n",
      "x109        1864.3572    352.470      5.289      0.000    1173.525    2555.189\n",
      "x110       -2159.9959    172.867    -12.495      0.000   -2498.811   -1821.180\n",
      "x111        1086.6388    350.075      3.104      0.002     400.499    1772.778\n",
      "x112       -1789.6719    159.490    -11.221      0.000   -2102.268   -1477.075\n",
      "x113       -2572.0603    692.807     -3.713      0.000   -3929.946   -1214.175\n",
      "x114       -1940.0185    185.117    -10.480      0.000   -2302.843   -1577.194\n",
      "x115       -2018.4391    267.570     -7.544      0.000   -2542.869   -1494.009\n",
      "x116        -760.6825    160.082     -4.752      0.000   -1074.440    -446.925\n",
      "x117       -6449.5097    489.123    -13.186      0.000   -7408.179   -5490.841\n",
      "x118        -951.8038    286.690     -3.320      0.001   -1513.710    -389.898\n",
      "x119        2184.7885    883.338      2.473      0.013     453.466    3916.111\n",
      "x120       -2044.4209    975.290     -2.096      0.036   -3955.966    -132.876\n",
      "x121        2925.6625    371.330      7.879      0.000    2197.865    3653.460\n",
      "x122        1220.0012    192.832      6.327      0.000     842.055    1597.948\n",
      "x123        2901.6905    428.497      6.772      0.000    2061.847    3741.534\n",
      "x124       -1815.3006    409.781     -4.430      0.000   -2618.461   -1012.141\n",
      "x125        1742.7527    133.815     13.024      0.000    1480.478    2005.028\n",
      "x126       -4667.3746    558.898     -8.351      0.000   -5762.801   -3571.948\n",
      "x127        1324.2841    416.154      3.182      0.001     508.633    2139.935\n",
      "x128        1877.2004    353.946      5.304      0.000    1183.474    2570.927\n",
      "x129       -1845.1515    213.165     -8.656      0.000   -2262.949   -1427.354\n",
      "x130       -2725.7276    129.653    -21.023      0.000   -2979.844   -2471.611\n",
      "x131       -5115.8197    317.952    -16.090      0.000   -5738.998   -4492.641\n",
      "x132        -691.7480    275.834     -2.508      0.012   -1232.376    -151.120\n",
      "x133       -2196.2813    130.186    -16.870      0.000   -2451.443   -1941.120\n",
      "x134        1240.6965    358.420      3.462      0.001     538.202    1943.191\n",
      "x135        1048.2193    134.727      7.780      0.000     784.158    1312.281\n",
      "x136        5714.0376    293.071     19.497      0.000    5139.625    6288.450\n",
      "x137        6294.0214    233.695     26.933      0.000    5835.986    6752.057\n",
      "x138        1698.6329    270.367      6.283      0.000    1168.721    2228.545\n",
      "x139        1625.0253    206.255      7.879      0.000    1220.771    2029.279\n",
      "x140        4002.0181    490.263      8.163      0.000    3041.113    4962.923\n",
      "x141         1.24e+04    709.763     17.471      0.000     1.1e+04    1.38e+04\n",
      "x142        5723.1645    657.843      8.700      0.000    4433.807    7012.522\n",
      "x143        8355.7582   2113.864      3.953      0.000    4212.635    1.25e+04\n",
      "x144       -1669.0963    301.744     -5.531      0.000   -2260.507   -1077.685\n",
      "x145       -1718.2599    371.369     -4.627      0.000   -2446.135    -990.385\n",
      "x146       -3856.4069    411.491     -9.372      0.000   -4662.919   -3049.894\n",
      "x147        -985.1525    370.826     -2.657      0.008   -1711.964    -258.341\n",
      "x148       -1752.0414    200.550     -8.736      0.000   -2145.115   -1358.967\n",
      "x149        1619.5081    210.869      7.680      0.000    1206.209    2032.807\n",
      "x150       -8008.5479    528.044    -15.166      0.000   -9043.502   -6973.594\n",
      "x151        8156.0917   2595.584      3.142      0.002    3068.809    1.32e+04\n",
      "x152         793.6145    270.325      2.936      0.003     263.785    1323.444\n",
      "x153         324.0322    148.819      2.177      0.029      32.351     615.714\n",
      "x154       -2704.6796    224.227    -12.062      0.000   -3144.159   -2265.200\n",
      "x155        1480.9650    243.768      6.075      0.000    1003.185    1958.745\n",
      "x156       -2116.6578    175.735    -12.045      0.000   -2461.094   -1772.221\n",
      "x157       -1523.8339    223.013     -6.833      0.000   -1960.934   -1086.733\n",
      "x158       -1243.7081    491.626     -2.530      0.011   -2207.283    -280.133\n",
      "x159        4823.4794    234.180     20.597      0.000    4364.493    5282.466\n",
      "x160       -2216.0202    168.166    -13.178      0.000   -2545.621   -1886.419\n",
      "x161         736.2799    291.467      2.526      0.012     165.012    1307.548\n",
      "x162       -4129.8959    420.373     -9.824      0.000   -4953.816   -3305.976\n",
      "x163        2060.2857    396.316      5.199      0.000    1283.515    2837.057\n",
      "x164        2939.3955    297.676      9.874      0.000    2355.957    3522.834\n",
      "x165       -1487.1361    219.259     -6.783      0.000   -1916.879   -1057.394\n",
      "x166        2737.7516    237.812     11.512      0.000    2271.646    3203.857\n",
      "x167        -584.9650    228.528     -2.560      0.010   -1032.875    -137.055\n",
      "x168        -682.6445    192.070     -3.554      0.000   -1059.097    -306.192\n",
      "x169       -1551.0695    313.282     -4.951      0.000   -2165.095    -937.044\n",
      "x170       -1260.1657    202.440     -6.225      0.000   -1656.943    -863.388\n",
      "x171       -2587.2599    144.275    -17.933      0.000   -2870.035   -2304.485\n",
      "x172         785.6023    194.077      4.048      0.000     405.215    1165.989\n",
      "x173        3924.0359    137.671     28.503      0.000    3654.203    4193.869\n",
      "x174       -2089.3615    173.080    -12.072      0.000   -2428.595   -1750.128\n",
      "x175        1067.5637    106.586     10.016      0.000     858.657    1276.470\n",
      "x176       -7522.3411    261.497    -28.766      0.000   -8034.869   -7009.813\n",
      "x177       -1115.2459    291.882     -3.821      0.000   -1687.328    -543.164\n",
      "x178        3583.3126    582.390      6.153      0.000    2441.842    4724.784\n",
      "x179        -407.8694    201.558     -2.024      0.043    -802.918     -12.820\n",
      "x180        1305.2696    403.042      3.239      0.001     515.317    2095.222\n",
      "x181         504.5360    103.165      4.891      0.000     302.336     706.736\n",
      "x182       -2377.2006    298.666     -7.959      0.000   -2962.579   -1791.823\n",
      "x183        4478.4801    245.595     18.235      0.000    3997.119    4959.841\n",
      "x184       -2084.8400    194.487    -10.720      0.000   -2466.029   -1703.650\n",
      "x185        1623.1426    261.838      6.199      0.000    1109.946    2136.340\n",
      "x186        1818.0641    361.963      5.023      0.000    1108.624    2527.504\n",
      "x187        9025.0061    431.229     20.929      0.000    8179.807    9870.206\n",
      "x188       -5215.1584    211.834    -24.619      0.000   -5630.347   -4799.970\n",
      "x189       -5023.7089    462.854    -10.854      0.000   -5930.891   -4116.527\n",
      "x190        2192.1198    251.918      8.702      0.000    1698.366    2685.873\n",
      "x191       -2884.7265    225.112    -12.815      0.000   -3325.941   -2443.512\n",
      "x192        1506.1834    307.227      4.903      0.000     904.026    2108.341\n",
      "x193       -6237.2456    238.274    -26.177      0.000   -6704.257   -5770.234\n",
      "x194         740.9871     68.582     10.804      0.000     606.567     875.407\n",
      "x195         856.0292    209.498      4.086      0.000     445.418    1266.641\n",
      "x196        1689.4197     69.657     24.253      0.000    1552.894    1825.945\n",
      "x197        1773.2952    312.285      5.678      0.000    1161.225    2385.365\n",
      "x198       -2408.1808    143.967    -16.727      0.000   -2690.353   -2126.008\n",
      "x199        4594.6740    149.573     30.719      0.000    4301.515    4887.833\n",
      "x200        9844.1115    211.853     46.467      0.000    9428.885    1.03e+04\n",
      "x201       -2178.7924    169.256    -12.873      0.000   -2510.531   -1847.054\n",
      "x202       -3368.2773    233.629    -14.417      0.000   -3826.185   -2910.370\n",
      "x203        -971.0166    138.582     -7.007      0.000   -1242.635    -699.399\n",
      "x204       -4391.9288    258.363    -16.999      0.000   -4898.314   -3885.544\n",
      "x205       -1155.0040    238.705     -4.839      0.000   -1622.860    -687.148\n",
      "x206       -1753.1209    132.136    -13.268      0.000   -2012.105   -1494.137\n",
      "x207       -1183.2172    106.401    -11.120      0.000   -1391.761    -974.673\n",
      "x208       -2813.5472    127.121    -22.133      0.000   -3062.702   -2564.392\n",
      "x209        3457.4523    300.227     11.516      0.000    2869.015    4045.889\n",
      "x210       -1129.4257    257.068     -4.393      0.000   -1633.273    -625.578\n",
      "x211       -2784.5944    170.303    -16.351      0.000   -3118.384   -2450.804\n",
      "x212       -5244.2769    391.857    -13.383      0.000   -6012.307   -4476.247\n",
      "x213        2442.8908    512.295      4.769      0.000    1438.806    3446.976\n",
      "x214       -1526.6429    148.539    -10.278      0.000   -1817.776   -1235.510\n",
      "x215        3090.7369    140.260     22.036      0.000    2815.831    3365.642\n",
      "x216        4514.4651    544.805      8.286      0.000    3446.659    5582.271\n",
      "x217       -1555.8801    146.974    -10.586      0.000   -1843.945   -1267.815\n",
      "x218        -693.5337    124.773     -5.558      0.000    -938.085    -448.982\n",
      "x219       -1239.3323    113.489    -10.920      0.000   -1461.769   -1016.896\n",
      "x220       -2150.5204    111.257    -19.329      0.000   -2368.581   -1932.460\n",
      "x221        1.926e+04    336.719     57.210      0.000    1.86e+04    1.99e+04\n",
      "x222       -1616.5378    115.324    -14.017      0.000   -1842.570   -1390.505\n",
      "x223        -839.9173    280.065     -2.999      0.003   -1388.837    -290.997\n",
      "x224       -2319.2895    252.513     -9.185      0.000   -2814.209   -1824.370\n",
      "x225        1274.5838    155.587      8.192      0.000     969.637    1579.531\n",
      "x226       -1416.2742    132.007    -10.729      0.000   -1675.005   -1157.544\n",
      "x227       -1654.3961    165.297    -10.009      0.000   -1978.374   -1330.418\n",
      "x228        1436.5642    191.245      7.512      0.000    1061.729    1811.400\n",
      "x229        7004.9348   2569.500      2.726      0.006    1968.776     1.2e+04\n",
      "x230        2987.4152    151.123     19.768      0.000    2691.217    3283.613\n",
      "x231         599.6690     33.823     17.729      0.000     533.376     665.962\n",
      "x232        1798.8410     31.557     57.004      0.000    1736.991    1860.691\n",
      "==============================================================================\n",
      "Omnibus:                    96936.588   Durbin-Watson:                   2.002\n",
      "Prob(Omnibus):                  0.000   Jarque-Bera (JB):          2980583.253\n",
      "Skew:                           1.834   Prob(JB):                         0.00\n",
      "Kurtosis:                      21.926   Cond. No.                     1.23e+16\n",
      "==============================================================================\n",
      "\n",
      "Warnings:\n",
      "[1] Standard Errors assume that the covariance matrix of the errors is correctly specified.\n",
      "[2] The smallest eigenvalue is 4.15e-27. This might indicate that there are\n",
      "strong multicollinearity problems or that the design matrix is singular.\n"
     ]
    }
   ],
   "source": [
    "print(OLS_lin_reg.summary())"
   ]
  },
  {
   "cell_type": "code",
   "execution_count": 471,
   "metadata": {},
   "outputs": [
    {
     "data": {
      "text/plain": [
       "3628.58"
      ]
     },
     "execution_count": 471,
     "metadata": {},
     "output_type": "execute_result"
    }
   ],
   "source": [
    "OLS_pred = OLS_lin_reg.predict(autos_opt)\n",
    "OLS_lin_mse = mean_squared_error(autos_label_m1_tr, OLS_pred)\n",
    "OLS_lin_rmse = np.sqrt(OLS_lin_mse)\n",
    "OLS_lin_rmse.round(2)"
   ]
  },
  {
   "cell_type": "markdown",
   "metadata": {},
   "source": [
    "We cannot use __cross_val_score__ directly on statsmodels objects, because of different interface. In statsmodels the training data is passed directly into the constructor and a separate object contains the result of model estimation. However, we can write a universal wrapper to make statsmodels objects look like sklearn estimators."
   ]
  },
  {
   "cell_type": "code",
   "execution_count": 99,
   "metadata": {},
   "outputs": [],
   "source": [
    "class SMWrapper(BaseEstimator, RegressorMixin):\n",
    "    \"\"\" A universal sklearn-style wrapper for statsmodels regressors \"\"\"\n",
    "    def __init__(self, model_class, fit_intercept=True):\n",
    "        self.model_class = model_class\n",
    "        self.fit_intercept = fit_intercept\n",
    "    def fit(self, X, y):\n",
    "        if self.fit_intercept:\n",
    "            X = sm.add_constant(X)\n",
    "        self.model_ = self.model_class(y, X)\n",
    "        self.results_ = self.model_.fit()\n",
    "    def predict(self, X):\n",
    "        if self.fit_intercept:\n",
    "            X = sm.add_constant(X)\n",
    "        return self.results_.predict(X)"
   ]
  },
  {
   "cell_type": "code",
   "execution_count": 410,
   "metadata": {},
   "outputs": [
    {
     "name": "stdout",
     "output_type": "stream",
     "text": [
      "Scores:  [3759.48 3653.29 3681.91 3620.79 3667.49 3654.4  3590.94 3555.26 3538.2\n",
      " 3631.85]\n",
      "Mean:3635.36\n",
      "Standard deviation:61.11\n"
     ]
    }
   ],
   "source": [
    "OLS_lin_reg_scores = cross_val_score(SMWrapper(sm.OLS), autos_opt, autos_label_m1_tr, \n",
    "                                 scoring=\"neg_mean_squared_error\", cv=10)\n",
    "OLS_lin_reg_rmse_scores = np.sqrt(-OLS_lin_reg_scores)\n",
    "display_scores(OLS_lin_reg_rmse_scores)"
   ]
  },
  {
   "cell_type": "markdown",
   "metadata": {},
   "source": [
    "### Decision Tree\n",
    "\n",
    "The CART algorithm works similar to a Decision Tree Classifiers, however, instead of trying to split the training set in a way that minimizes the impurity, it tries to split the training set in a way that minimizes the MSE.\n",
    "\n",
    "Usually, to avoid overfitting the training data, we need to restrict the Decision Tree's freedom, the so called regularization. Restricting the maximum depth of a Decision Tree is one way to regularize it."
   ]
  },
  {
   "cell_type": "code",
   "execution_count": 197,
   "metadata": {},
   "outputs": [
    {
     "data": {
      "text/plain": [
       "DecisionTreeRegressor(ccp_alpha=0.0, criterion='mse', max_depth=None,\n",
       "                      max_features=None, max_leaf_nodes=None,\n",
       "                      min_impurity_decrease=0.0, min_impurity_split=None,\n",
       "                      min_samples_leaf=1, min_samples_split=2,\n",
       "                      min_weight_fraction_leaf=0.0, presort='deprecated',\n",
       "                      random_state=24, splitter='best')"
      ]
     },
     "execution_count": 197,
     "metadata": {},
     "output_type": "execute_result"
    }
   ],
   "source": [
    "tree = DecisionTreeRegressor(random_state=24)\n",
    "tree.fit(autos_features_prepared_m1_tr, autos_label_m1_tr)"
   ]
  },
  {
   "cell_type": "code",
   "execution_count": 198,
   "metadata": {},
   "outputs": [
    {
     "name": "stdout",
     "output_type": "stream",
     "text": [
      "1101.2015\n"
     ]
    }
   ],
   "source": [
    "predictions = tree.predict(autos_features_prepared_m1_tr)\n",
    "tree_mse = mean_squared_error(autos_label_m1_tr, predictions)\n",
    "tree_rmse = np.sqrt(tree_mse)\n",
    "print('%5.4f'%tree_rmse)"
   ]
  },
  {
   "cell_type": "markdown",
   "metadata": {},
   "source": [
    "No error at all? No, it is much more likely that the model has badly overfit the data. Since we are still not confident about our model, we should not use the test set yet, so we use part of the training set for training and part of it for model validation, the so called cross-validation."
   ]
  },
  {
   "cell_type": "code",
   "execution_count": 199,
   "metadata": {},
   "outputs": [],
   "source": [
    "scores = cross_val_score(tree, autos_features_prepared_m1_tr, autos_label_m1_tr,\n",
    "                         scoring=\"neg_mean_squared_error\", cv=10)\n",
    "tree_rmse_scores = np.sqrt(-scores)"
   ]
  },
  {
   "cell_type": "code",
   "execution_count": 200,
   "metadata": {},
   "outputs": [
    {
     "name": "stdout",
     "output_type": "stream",
     "text": [
      "Scores:  [2645.26 2619.26 2680.74 2609.86 2642.96 2624.77 2522.31 2562.33 2463.46\n",
      " 2517.6 ]\n",
      "Mean:2588.86\n",
      "Standard deviation:65.68\n"
     ]
    }
   ],
   "source": [
    "display_scores(tree_rmse_scores)"
   ]
  },
  {
   "cell_type": "markdown",
   "metadata": {},
   "source": [
    "With the Decision Tree results, we can notice an interesting (and very typical) behaviour. The in-sample error (i.e. the error on the trainings data) is very low, while cross-validation shows significantly larger error.\n",
    "\n",
    "The reason is that the cross-validation score is computed with out-of-sample data (i.e. the error is computed on data points, which were not used within the traning). This is a typical behaviour of *overfitting*, where the decision tree simply *memorises* the data it is trained with, not yielding a better prediction."
   ]
  },
  {
   "cell_type": "markdown",
   "metadata": {},
   "source": [
    "### Random Forest\n",
    "\n",
    "If we aggregate predictions of a group of predictors (such as classifiers or regressors), we will often get a better prediction than with the best individual predictor. A group of predictors is called *ensemble*, thus, the so called *Ensemble Learning*.\n",
    "\n",
    "As an example of an Ensemble method, we can train a group of Decision Tree classifiers/regressors, each on a different random subset of the training set. To obtain predictions, we obtain the predictions of all the individual trees, then predict the class/regressor that gets the best results. Such an ensemble of Decision Trees is called a Random Forest.\n",
    "\n",
    "The most popular Ensemble methods are: *bagging, boosting, and stacking*. Here we use the same training algorithm (Random Forest in this case) for every predictor and train them on different subsets of the training set. When sampling is performed with replacement, this method is called bagging (or *bootstrap*). When sampling is performed without replacement, it is called pasting.\n",
    "\n",
    "In sum, a Random Forest is an ensemble of Decision Trees, generally trained via the bagging method. We will use in this model a RandomForestRegressor for our regression task. This is a regression task because the target value is continuous (price)."
   ]
  },
  {
   "cell_type": "code",
   "execution_count": 205,
   "metadata": {},
   "outputs": [
    {
     "data": {
      "text/plain": [
       "RandomForestRegressor(bootstrap=True, ccp_alpha=0.0, criterion='mse',\n",
       "                      max_depth=None, max_features='auto', max_leaf_nodes=None,\n",
       "                      max_samples=None, min_impurity_decrease=0.0,\n",
       "                      min_impurity_split=None, min_samples_leaf=1,\n",
       "                      min_samples_split=2, min_weight_fraction_leaf=0.0,\n",
       "                      n_estimators=10, n_jobs=None, oob_score=False,\n",
       "                      random_state=24, verbose=0, warm_start=False)"
      ]
     },
     "execution_count": 205,
     "metadata": {},
     "output_type": "execute_result"
    }
   ],
   "source": [
    "forest = RandomForestRegressor(random_state=24, n_estimators=10) #n_estimators = number of trees\n",
    "forest.fit(autos_features_prepared_m1_tr, autos_label_m1_tr)"
   ]
  },
  {
   "cell_type": "code",
   "execution_count": 206,
   "metadata": {},
   "outputs": [
    {
     "name": "stdout",
     "output_type": "stream",
     "text": [
      "rmse =  1329.0491\n",
      "Predictions:  [ 3474.53333532  1635.41873286  2299.2        28745.\n",
      " 15907.84583333]\n",
      "Labels:  [4999, 1500, 2399, 24500, 14999]\n"
     ]
    }
   ],
   "source": [
    "predictions = forest.predict(autos_features_prepared_m1_tr)\n",
    "forest_mse = mean_squared_error(autos_label_m1_tr, predictions)\n",
    "forest_rmse = np.sqrt(forest_mse)\n",
    "print(\"rmse = \", '%5.4f'%forest_rmse)\n",
    "\n",
    "some_data = autos_features_m1_tr.iloc[:5]\n",
    "some_labels = autos_label_m1_tr[:5]\n",
    "some_data_prepared = full_pipeline.transform(some_data)\n",
    "print(\"Predictions: \", forest.predict(some_data_prepared))\n",
    "print(\"Labels: \", list(some_labels))"
   ]
  },
  {
   "cell_type": "code",
   "execution_count": 207,
   "metadata": {},
   "outputs": [
    {
     "name": "stdout",
     "output_type": "stream",
     "text": [
      "Scores:  [2326.6  2241.15 2282.04 2224.19 2354.45 2313.82 2176.22 2186.58 2234.25\n",
      " 2235.36]\n",
      "Mean:2257.47\n",
      "Standard deviation:56.56\n"
     ]
    }
   ],
   "source": [
    "forest_scores = cross_val_score(forest, autos_features_prepared_m1_tr, autos_label_m1_tr,\n",
    "                                scoring=\"neg_mean_squared_error\", cv=10)\n",
    "forest_rmse_scores = np.sqrt(-forest_scores)\n",
    "display_scores(forest_rmse_scores)"
   ]
  },
  {
   "cell_type": "markdown",
   "metadata": {},
   "source": [
    "### Support Vector Machine"
   ]
  },
  {
   "cell_type": "markdown",
   "metadata": {},
   "source": [
    "SVM support both classification and regression tasks, hence we will also try out our model using SVM Regression. In this case, the SVM tries to fit as many instances as possible on the \"street\", while limiting margin violations (i.e., instances off the street). The width of the street is controlled by the hyperparameter __epsilon__."
   ]
  },
  {
   "cell_type": "code",
   "execution_count": 201,
   "metadata": {
    "scrolled": true
   },
   "outputs": [
    {
     "data": {
      "text/plain": [
       "LinearSVR(C=1.0, dual=True, epsilon=10, fit_intercept=True,\n",
       "          intercept_scaling=1.0, loss='epsilon_insensitive', max_iter=1000,\n",
       "          random_state=24, tol=0.0001, verbose=0)"
      ]
     },
     "execution_count": 201,
     "metadata": {},
     "output_type": "execute_result"
    }
   ],
   "source": [
    "svm_reg = LinearSVR(random_state=24, max_iter=1000, epsilon=10)\n",
    "svm_reg.fit(autos_features_prepared_m1_tr, autos_label_m1_tr)"
   ]
  },
  {
   "cell_type": "code",
   "execution_count": 202,
   "metadata": {},
   "outputs": [
    {
     "name": "stdout",
     "output_type": "stream",
     "text": [
      "4476.3532\n"
     ]
    }
   ],
   "source": [
    "predictions = svm_reg.predict(autos_features_prepared_m1_tr)\n",
    "svm_reg_mse = mean_squared_error(autos_label_m1_tr, predictions)\n",
    "svm_reg_rmse = np.sqrt(svm_reg_mse)\n",
    "print('%5.4f'%svm_reg_rmse)"
   ]
  },
  {
   "cell_type": "code",
   "execution_count": 203,
   "metadata": {},
   "outputs": [
    {
     "name": "stdout",
     "output_type": "stream",
     "text": [
      "Scores:  [4544.41 4466.98 4540.69 4556.88 4524.3  4603.39 4416.56 4394.44 4373.54\n",
      " 4498.42]\n",
      "Mean:4491.96\n",
      "Standard deviation:72.58\n"
     ]
    }
   ],
   "source": [
    "svm_reg_scores = cross_val_score(svm_reg, autos_features_prepared_m1_tr, autos_label_m1_tr, \n",
    "                                 scoring=\"neg_mean_squared_error\", cv=10)\n",
    "svm_reg_rmse_scores = np.sqrt(-svm_reg_scores)\n",
    "display_scores(svm_reg_rmse_scores)"
   ]
  },
  {
   "cell_type": "markdown",
   "metadata": {},
   "source": [
    "### Regression Deep Neural Network (MLP)"
   ]
  },
  {
   "cell_type": "code",
   "execution_count": 208,
   "metadata": {},
   "outputs": [],
   "source": [
    "X_train, X_valid, y_train, y_valid = train_test_split(autos_features_prepared_m1_tr, autos_label_m1_tr,\n",
    "                                                     test_size = 0.2, random_state=24)"
   ]
  },
  {
   "cell_type": "code",
   "execution_count": 209,
   "metadata": {},
   "outputs": [
    {
     "name": "stdout",
     "output_type": "stream",
     "text": [
      "(153978, 308)\n",
      "(38495, 308)\n",
      "(153978,)\n",
      "(38495,)\n"
     ]
    }
   ],
   "source": [
    "print(X_train.shape)\n",
    "print(X_valid.shape)\n",
    "print(y_train.shape)\n",
    "print(y_valid.shape)"
   ]
  },
  {
   "cell_type": "markdown",
   "metadata": {},
   "source": [
    "Creating the deep neural network using a __Sequential API__. Since the dataset is somewhat noisy, only two dense hiden layers are added; the first one with 30 neurons and the second one with 5 neurons. The output layer has a single neuron, since the goal is to predict only one variable."
   ]
  },
  {
   "cell_type": "code",
   "execution_count": 210,
   "metadata": {},
   "outputs": [],
   "source": [
    "dnn = keras.models.Sequential([\n",
    "    keras.layers.Dense(30, activation=\"relu\", input_shape=X_train.shape[1:]),\n",
    "    keras.layers.Dense(5, activation=\"relu\"),\n",
    "    keras.layers.Dense(1)\n",
    "])"
   ]
  },
  {
   "cell_type": "markdown",
   "metadata": {},
   "source": [
    "After a model is created, it must be compiled. The loss function selected for this regression DNN is the __mean squared error__ and the optimizer used is __Adam__. Adam was selected over SGD to avoid issues such as exploding gradients, to speed up training, and to reach better solution. Adam keeps track of an exponentially decaying average of past gradients and past squared gradients. The momentum decay hyperparameter beta_1 is usually initialized to 0.9, while the scaling decay hyperparameter beta_2 is often initialized to 0.999)."
   ]
  },
  {
   "cell_type": "code",
   "execution_count": 211,
   "metadata": {},
   "outputs": [],
   "source": [
    "#dnn_opt = keras.optimizers.SGD(clipvalue=1.0, lr=0.001)\n",
    "dnn_opt = keras.optimizers.Adam(lr=0.001, beta_1=0.9, beta_2=0.999)\n",
    "dnn.compile(loss=\"mean_squared_error\", \n",
    "            optimizer=dnn_opt)"
   ]
  },
  {
   "cell_type": "code",
   "execution_count": 481,
   "metadata": {},
   "outputs": [
    {
     "name": "stdout",
     "output_type": "stream",
     "text": [
      "Model: \"sequential\"\n",
      "_________________________________________________________________\n",
      "Layer (type)                 Output Shape              Param #   \n",
      "=================================================================\n",
      "dense (Dense)                (None, 30)                9270      \n",
      "_________________________________________________________________\n",
      "dense_1 (Dense)              (None, 5)                 155       \n",
      "_________________________________________________________________\n",
      "dense_2 (Dense)              (None, 1)                 6         \n",
      "=================================================================\n",
      "Total params: 9,431\n",
      "Trainable params: 9,431\n",
      "Non-trainable params: 0\n",
      "_________________________________________________________________\n"
     ]
    }
   ],
   "source": [
    "dnn.summary()"
   ]
  },
  {
   "cell_type": "markdown",
   "metadata": {},
   "source": [
    "__Callbacks__ arguments such as Model Checkpoint will save the model with the best performance. This way, there is no need to worry about training for too long and overfitting the training set as the last model saved after training will be restored and this will always be the best model on the validation set. Additionally, as EarlyStopping callback will interrupt training when it measures no progress on the validation set for a number of epochs (_patience argument_), and it will automatically roll back to the best model."
   ]
  },
  {
   "cell_type": "code",
   "execution_count": 213,
   "metadata": {},
   "outputs": [
    {
     "name": "stdout",
     "output_type": "stream",
     "text": [
      "Train on 153978 samples, validate on 38495 samples\n",
      "Epoch 1/40\n",
      "153856/153978 [============================>.] - ETA: 0s - loss: 49183760.9263WARNING:tensorflow:From C:\\Users\\igorm\\Anaconda3\\lib\\site-packages\\tensorflow_core\\python\\ops\\resource_variable_ops.py:1786: calling BaseResourceVariable.__init__ (from tensorflow.python.ops.resource_variable_ops) with constraint is deprecated and will be removed in a future version.\n",
      "Instructions for updating:\n",
      "If using Keras pass *_constraint arguments to layers.\n",
      "INFO:tensorflow:Assets written to: dnn_m1\\assets\n",
      "153978/153978 [==============================] - 15s 98us/sample - loss: 49154948.1083 - val_loss: 14668286.2292\n",
      "Epoch 2/40\n",
      "153504/153978 [============================>.] - ETA: 0s - loss: 13590021.9689INFO:tensorflow:Assets written to: dnn_m1\\assets\n",
      "153978/153978 [==============================] - 14s 91us/sample - loss: 13601202.1243 - val_loss: 12166530.5746\n",
      "Epoch 3/40\n",
      "153824/153978 [============================>.] - ETA: 0s - loss: 12388444.4831INFO:tensorflow:Assets written to: dnn_m1\\assets\n",
      "153978/153978 [==============================] - 14s 92us/sample - loss: 12385132.0616 - val_loss: 11678098.4655\n",
      "Epoch 4/40\n",
      "153792/153978 [============================>.] - ETA: 0s - loss: 11890710.0478INFO:tensorflow:Assets written to: dnn_m1\\assets\n",
      "153978/153978 [==============================] - 14s 90us/sample - loss: 11887975.3544 - val_loss: 11359226.8649\n",
      "Epoch 5/40\n",
      "153600/153978 [============================>.] - ETA: 0s - loss: 11545049.5256INFO:tensorflow:Assets written to: dnn_m1\\assets\n",
      "153978/153978 [==============================] - 14s 90us/sample - loss: 11538581.0289 - val_loss: 11121592.3023\n",
      "Epoch 6/40\n",
      "153888/153978 [============================>.] - ETA: 0s - loss: 11272630.5500INFO:tensorflow:Assets written to: dnn_m1\\assets\n",
      "153978/153978 [==============================] - 14s 92us/sample - loss: 11271634.1707 - val_loss: 10926835.5191\n",
      "Epoch 7/40\n",
      "153440/153978 [============================>.] - ETA: 0s - loss: 11062922.8608INFO:tensorflow:Assets written to: dnn_m1\\assets\n",
      "153978/153978 [==============================] - 14s 91us/sample - loss: 11065924.4240 - val_loss: 10791692.2253\n",
      "Epoch 8/40\n",
      "153952/153978 [============================>.] - ETA: 0s - loss: 10894019.9962INFO:tensorflow:Assets written to: dnn_m1\\assets\n",
      "153978/153978 [==============================] - 15s 94us/sample - loss: 10903659.9117 - val_loss: 10670094.7215\n",
      "Epoch 9/40\n",
      "153952/153978 [============================>.] - ETA: 0s - loss: 10772080.0529INFO:tensorflow:Assets written to: dnn_m1\\assets\n",
      "153978/153978 [==============================] - 15s 96us/sample - loss: 10774968.1362 - val_loss: 10566791.3302\n",
      "Epoch 10/40\n",
      "153824/153978 [============================>.] - ETA: 0s - loss: 10670067.4785INFO:tensorflow:Assets written to: dnn_m1\\assets\n",
      "153978/153978 [==============================] - 15s 97us/sample - loss: 10673839.5955 - val_loss: 10487733.8505\n",
      "Epoch 11/40\n",
      "153920/153978 [============================>.] - ETA: 0s - loss: 10590131.3711INFO:tensorflow:Assets written to: dnn_m1\\assets\n",
      "153978/153978 [==============================] - 15s 97us/sample - loss: 10590397.9635 - val_loss: 10446240.3340\n",
      "Epoch 12/40\n",
      "153632/153978 [============================>.] - ETA: 0s - loss: 10511145.0942INFO:tensorflow:Assets written to: dnn_m1\\assets\n",
      "153978/153978 [==============================] - 16s 104us/sample - loss: 10526684.3768 - val_loss: 10382196.2300\n",
      "Epoch 13/40\n",
      "153952/153978 [============================>.] - ETA: 0s - loss: 10474791.0175INFO:tensorflow:Assets written to: dnn_m1\\assets\n",
      "153978/153978 [==============================] - 17s 112us/sample - loss: 10473779.9605 - val_loss: 10329627.7301\n",
      "Epoch 14/40\n",
      "153408/153978 [============================>.] - ETA: 0s - loss: 10432942.7117INFO:tensorflow:Assets written to: dnn_m1\\assets\n",
      "153978/153978 [==============================] - 15s 95us/sample - loss: 10430620.1189 - val_loss: 10299644.9378\n",
      "Epoch 15/40\n",
      "153888/153978 [============================>.] - ETA: 0s - loss: 10395192.7519INFO:tensorflow:Assets written to: dnn_m1\\assets\n",
      "153978/153978 [==============================] - 15s 96us/sample - loss: 10394068.5436 - val_loss: 10262810.9160\n",
      "Epoch 16/40\n",
      "153664/153978 [============================>.] - ETA: 0s - loss: 10349439.7501INFO:tensorflow:Assets written to: dnn_m1\\assets\n",
      "153978/153978 [==============================] - 15s 97us/sample - loss: 10365828.4183 - val_loss: 10240087.5644\n",
      "Epoch 17/40\n",
      "153440/153978 [============================>.] - ETA: 0s - loss: 10347141.4147INFO:tensorflow:Assets written to: dnn_m1\\assets\n",
      "153978/153978 [==============================] - 15s 96us/sample - loss: 10340891.9230 - val_loss: 10222784.5990\n",
      "Epoch 18/40\n",
      "153440/153978 [============================>.] - ETA: 0s - loss: 10325247.6299INFO:tensorflow:Assets written to: dnn_m1\\assets\n",
      "153978/153978 [==============================] - 15s 96us/sample - loss: 10319555.2260 - val_loss: 10188617.9645\n",
      "Epoch 19/40\n",
      "153792/153978 [============================>.] - ETA: 0s - loss: 10305175.0546INFO:tensorflow:Assets written to: dnn_m1\\assets\n",
      "153978/153978 [==============================] - 15s 98us/sample - loss: 10300782.0054 - val_loss: 10183220.2938\n",
      "Epoch 20/40\n",
      "153696/153978 [============================>.] - ETA: 0s - loss: 10264620.0711INFO:tensorflow:Assets written to: dnn_m1\\assets\n",
      "153978/153978 [==============================] - 15s 96us/sample - loss: 10282587.4178 - val_loss: 10162772.9093\n",
      "Epoch 21/40\n",
      "153760/153978 [============================>.] - ETA: 0s - loss: 10255542.6771INFO:tensorflow:Assets written to: dnn_m1\\assets\n",
      "153978/153978 [==============================] - 15s 96us/sample - loss: 10267365.1545 - val_loss: 10142027.5234\n",
      "Epoch 22/40\n",
      "153504/153978 [============================>.] - ETA: 0s - loss: 10252654.3997INFO:tensorflow:Assets written to: dnn_m1\\assets\n",
      "153978/153978 [==============================] - 15s 96us/sample - loss: 10253510.8833 - val_loss: 10124776.2967\n",
      "Epoch 23/40\n",
      "153760/153978 [============================>.] - ETA: 0s - loss: 10241329.9440INFO:tensorflow:Assets written to: dnn_m1\\assets\n",
      "153978/153978 [==============================] - 15s 94us/sample - loss: 10240768.5891 - val_loss: 10119713.7555\n",
      "Epoch 24/40\n",
      "153504/153978 [============================>.] - ETA: 0s - loss: 10226902.6369INFO:tensorflow:Assets written to: dnn_m1\\assets\n",
      "153978/153978 [==============================] - 15s 97us/sample - loss: 10229240.9929 - val_loss: 10104082.6418\n",
      "Epoch 25/40\n",
      "153344/153978 [============================>.] - ETA: 0s - loss: 10228425.3514INFO:tensorflow:Assets written to: dnn_m1\\assets\n",
      "153978/153978 [==============================] - 14s 94us/sample - loss: 10221101.8639 - val_loss: 10098027.9008\n",
      "Epoch 26/40\n",
      "153408/153978 [============================>.] - ETA: 0s - loss: 10224722.1873INFO:tensorflow:Assets written to: dnn_m1\\assets\n",
      "153978/153978 [==============================] - 15s 96us/sample - loss: 10211148.6662 - val_loss: 10077788.0152\n",
      "Epoch 27/40\n",
      "153792/153978 [============================>.] - ETA: 0s - loss: 10200937.7937INFO:tensorflow:Assets written to: dnn_m1\\assets\n",
      "153978/153978 [==============================] - 15s 95us/sample - loss: 10203193.1996 - val_loss: 10069436.5268\n",
      "Epoch 28/40\n",
      "153696/153978 [============================>.] - ETA: 0s - loss: 10199077.4945INFO:tensorflow:Assets written to: dnn_m1\\assets\n",
      "153978/153978 [==============================] - 14s 89us/sample - loss: 10193593.2403 - val_loss: 10058732.0161\n",
      "Epoch 29/40\n",
      "153728/153978 [============================>.] - ETA: 0s - loss: 10186331.7023INFO:tensorflow:Assets written to: dnn_m1\\assets\n",
      "153978/153978 [==============================] - 14s 89us/sample - loss: 10185883.7013 - val_loss: 10054410.6084\n",
      "Epoch 30/40\n",
      "153632/153978 [============================>.] - ETA: 0s - loss: 10180572.8598INFO:tensorflow:Assets written to: dnn_m1\\assets\n",
      "153978/153978 [==============================] - 14s 91us/sample - loss: 10178881.0783 - val_loss: 10048865.6253\n",
      "Epoch 31/40\n",
      "153978/153978 [==============================] - 13s 85us/sample - loss: 10172662.2242 - val_loss: 10062555.0124\n",
      "Epoch 32/40\n",
      "153728/153978 [============================>.] - ETA: 0s - loss: 10166871.7944INFO:tensorflow:Assets written to: dnn_m1\\assets\n",
      "153978/153978 [==============================] - 14s 89us/sample - loss: 10164355.0898 - val_loss: 10025557.5565\n",
      "Epoch 33/40\n",
      "153824/153978 [============================>.] - ETA: 0s - loss: 10160518.8411INFO:tensorflow:Assets written to: dnn_m1\\assets\n",
      "153978/153978 [==============================] - 14s 91us/sample - loss: 10158044.9660 - val_loss: 10009723.6442\n",
      "Epoch 34/40\n",
      "153978/153978 [==============================] - 15s 98us/sample - loss: 10152951.9239 - val_loss: 10010378.0282\n",
      "Epoch 35/40\n",
      "153472/153978 [============================>.] - ETA: 0s - loss: 10150943.4660INFO:tensorflow:Assets written to: dnn_m1\\assets\n",
      "153978/153978 [==============================] - 16s 104us/sample - loss: 10147488.7745 - val_loss: 10004393.2588\n",
      "Epoch 36/40\n",
      "153856/153978 [============================>.] - ETA: 0s - loss: 10140082.6261INFO:tensorflow:Assets written to: dnn_m1\\assets\n",
      "153978/153978 [==============================] - 14s 94us/sample - loss: 10139723.1036 - val_loss: 9994161.7217\n",
      "Epoch 37/40\n",
      "153760/153978 [============================>.] - ETA: 0s - loss: 10138709.8024INFO:tensorflow:Assets written to: dnn_m1\\assets\n",
      "153978/153978 [==============================] - 15s 97us/sample - loss: 10134879.8795 - val_loss: 9987153.2931\n",
      "Epoch 38/40\n",
      "153978/153978 [==============================] - 14s 89us/sample - loss: 10128732.4301 - val_loss: 9994059.7708\n",
      "Epoch 39/40\n",
      "153920/153978 [============================>.] - ETA: 0s - loss: 10126726.1707INFO:tensorflow:Assets written to: dnn_m1\\assets\n",
      "153978/153978 [==============================] - 14s 92us/sample - loss: 10125070.7361 - val_loss: 9972372.1208\n",
      "Epoch 40/40\n",
      "153978/153978 [==============================] - 14s 91us/sample - loss: 10117181.3085 - val_loss: 9973649.3936\n"
     ]
    }
   ],
   "source": [
    "checkpoint_cb = keras.callbacks.ModelCheckpoint(\"dnn_m1\", save_best_only=True)\n",
    "early_stopping_cb = keras.callbacks.EarlyStopping(patience=10, restore_best_weights=True)\n",
    "history = dnn.fit(X_train, y_train, epochs=40,\n",
    "                 validation_data=(X_valid, y_valid),\n",
    "                 callbacks=[checkpoint_cb, early_stopping_cb])\n",
    "dnn = keras.models.load_model(\"dnn_m1\") #roll back to best model"
   ]
  },
  {
   "cell_type": "code",
   "execution_count": 214,
   "metadata": {},
   "outputs": [
    {
     "data": {
      "image/png": "[encoded data removed]",
      "text/plain": [
       "<Figure size 576x360 with 1 Axes>"
      ]
     },
     "metadata": {},
     "output_type": "display_data"
    }
   ],
   "source": [
    "dnn_1_df_hist = pd.DataFrame(history.history)\n",
    "dnn_1_df_hist = np.sqrt(dnn_1_df_hist)\n",
    "dnn_1_df_hist.plot(figsize=(8,5))\n",
    "plt.grid(True)\n",
    "plt.show()"
   ]
  },
  {
   "cell_type": "code",
   "execution_count": 500,
   "metadata": {},
   "outputs": [
    {
     "name": "stdout",
     "output_type": "stream",
     "text": [
      "192473/192473 [==============================] - 5s 24us/sample - loss: 10078994.3644\n",
      "3174.743196603621\n"
     ]
    }
   ],
   "source": [
    "mse_dnn = dnn.evaluate(autos_features_prepared_m1_tr, autos_label_m1_tr)\n",
    "rmse_dnn = np.sqrt(mse_dnn)\n",
    "print(rmse_dnn)"
   ]
  },
  {
   "cell_type": "code",
   "execution_count": 502,
   "metadata": {},
   "outputs": [
    {
     "name": "stdout",
     "output_type": "stream",
     "text": [
      "[[ 3996.4707 ]\n",
      " [  128.20117]\n",
      " [ 1265.4404 ]\n",
      " [21026.986  ]\n",
      " [18954.63   ]]\n",
      "[ 4999  1500  2399 24500 14999]\n"
     ]
    }
   ],
   "source": [
    "X_new = autos_features_prepared_m1_tr[:5]\n",
    "y_pred = dnn.predict(X_new)\n",
    "print(y_pred)\n",
    "print(autos_label_m1_tr[:5])"
   ]
  },
  {
   "cell_type": "markdown",
   "metadata": {},
   "source": [
    "Of all models tested herein, __Random Forest__ is the one yielding the smallest *rmse*. However, we can see that the score on the training set is still much lower than on the validation set, meaning that the model is overfitting the training set. In the next section we will aim to optimize our hyperparameters for better results. In addition, we will also attempt to improve the performance of our __Neural Network__."
   ]
  },
  {
   "cell_type": "markdown",
   "metadata": {},
   "source": [
    "### Model 2"
   ]
  },
  {
   "cell_type": "markdown",
   "metadata": {},
   "source": [
    "### Linear Regression"
   ]
  },
  {
   "cell_type": "code",
   "execution_count": 218,
   "metadata": {},
   "outputs": [],
   "source": [
    "SL = 0.05\n",
    "X_opt_2 = autos_features_prepared_m2_tr\n",
    "autos_opt_2 = backwardElimination_p(autos_label_m2_tr, X_opt_2, SL)"
   ]
  },
  {
   "cell_type": "code",
   "execution_count": 219,
   "metadata": {},
   "outputs": [],
   "source": [
    "autos_opt_2 = np.append(arr = np.ones((192473,1)).astype(int), values = autos_opt_2, axis=1)"
   ]
  },
  {
   "cell_type": "code",
   "execution_count": 220,
   "metadata": {},
   "outputs": [],
   "source": [
    "OLS_lin_reg_2 = sm.OLS(autos_label_m2_tr, autos_opt_2).fit()"
   ]
  },
  {
   "cell_type": "code",
   "execution_count": 221,
   "metadata": {},
   "outputs": [
    {
     "name": "stdout",
     "output_type": "stream",
     "text": [
      "                            OLS Regression Results                            \n",
      "==============================================================================\n",
      "Dep. Variable:                      y   R-squared:                       0.026\n",
      "Model:                            OLS   Adj. R-squared:                  0.026\n",
      "Method:                 Least Squares   F-statistic:                     41.79\n",
      "Date:                Tue, 26 May 2020   Prob (F-statistic):               0.00\n",
      "Time:                        14:32:03   Log-Likelihood:            -6.8199e+05\n",
      "No. Observations:              192473   AIC:                         1.364e+06\n",
      "Df Residuals:                  192348   BIC:                         1.366e+06\n",
      "Df Model:                         124                                         \n",
      "Covariance Type:            nonrobust                                         \n",
      "==============================================================================\n",
      "                 coef    std err          t      P>|t|      [0.025      0.975]\n",
      "------------------------------------------------------------------------------\n",
      "const       1.095e+12    3.8e+12      0.288      0.773   -6.35e+12    8.54e+12\n",
      "x1             1.4084      0.028     50.889      0.000       1.354       1.463\n",
      "x2            -0.1129      0.033     -3.426      0.001      -0.177      -0.048\n",
      "x3          4.214e+10   1.46e+11      0.288      0.773   -2.44e+11    3.29e+11\n",
      "x4          4.214e+10   1.46e+11      0.288      0.773   -2.44e+11    3.29e+11\n",
      "x5          4.214e+10   1.46e+11      0.288      0.773   -2.44e+11    3.29e+11\n",
      "x6          4.214e+10   1.46e+11      0.288      0.773   -2.44e+11    3.29e+11\n",
      "x7          4.214e+10   1.46e+11      0.288      0.773   -2.44e+11    3.29e+11\n",
      "x8          4.214e+10   1.46e+11      0.288      0.773   -2.44e+11    3.29e+11\n",
      "x9          4.214e+10   1.46e+11      0.288      0.773   -2.44e+11    3.29e+11\n",
      "x10         4.214e+10   1.46e+11      0.288      0.773   -2.44e+11    3.29e+11\n",
      "x11         4.721e+10   1.64e+11      0.288      0.773   -2.74e+11    3.68e+11\n",
      "x12         4.721e+10   1.64e+11      0.288      0.773   -2.74e+11    3.68e+11\n",
      "x13            2.4263      0.707      3.434      0.001       1.041       3.811\n",
      "x14           -0.9125      0.387     -2.361      0.018      -1.670      -0.155\n",
      "x15            0.7721      0.186      4.141      0.000       0.407       1.138\n",
      "x16           -1.1083      0.273     -4.065      0.000      -1.643      -0.574\n",
      "x17           -0.9436      0.251     -3.754      0.000      -1.436      -0.451\n",
      "x18            0.3829      0.118      3.250      0.001       0.152       0.614\n",
      "x19            0.3325      0.150      2.221      0.026       0.039       0.626\n",
      "x20            0.8477      0.348      2.435      0.015       0.165       1.530\n",
      "x21            1.5792      0.363      4.356      0.000       0.869       2.290\n",
      "x22            2.5857      1.225      2.110      0.035       0.184       4.987\n",
      "x23           -2.1259      0.847     -2.510      0.012      -3.786      -0.466\n",
      "x24            1.6657      0.410      4.067      0.000       0.863       2.468\n",
      "x25            0.5158      0.163      3.173      0.002       0.197       0.834\n",
      "x26            0.4046      0.142      2.845      0.004       0.126       0.683\n",
      "x27            0.6041      0.169      3.582      0.000       0.274       0.935\n",
      "x28            1.9633      0.563      3.487      0.000       0.860       3.067\n",
      "x29            3.5680      1.126      3.170      0.002       1.362       5.774\n",
      "x30            1.9208      0.693      2.771      0.006       0.562       3.280\n",
      "x31           -1.1730      0.443     -2.649      0.008      -2.041      -0.305\n",
      "x32            2.0493      0.892      2.298      0.022       0.302       3.797\n",
      "x33            1.5825      0.534      2.965      0.003       0.536       2.629\n",
      "x34           -0.6424      0.290     -2.215      0.027      -1.211      -0.074\n",
      "x35            1.8575      0.915      2.029      0.042       0.063       3.652\n",
      "x36            3.1215      0.898      3.477      0.001       1.362       4.881\n",
      "x37            2.0680      0.623      3.318      0.001       0.847       3.290\n",
      "x38           -0.6220      0.147     -4.233      0.000      -0.910      -0.334\n",
      "x39            3.0690      1.424      2.155      0.031       0.278       5.860\n",
      "x40            4.4305      1.449      3.058      0.002       1.591       7.270\n",
      "x41            0.5942      0.149      3.998      0.000       0.303       0.885\n",
      "x42            1.4488      0.432      3.357      0.001       0.603       2.295\n",
      "x43            1.1689      0.480      2.436      0.015       0.228       2.109\n",
      "x44            2.4889      1.059      2.350      0.019       0.413       4.565\n",
      "x45           -1.3387      0.377     -3.547      0.000      -2.078      -0.599\n",
      "x46           -0.7847      0.213     -3.679      0.000      -1.203      -0.367\n",
      "x47           -0.5905      0.199     -2.964      0.003      -0.981      -0.200\n",
      "x48            1.2725      0.210      6.046      0.000       0.860       1.685\n",
      "x49            4.9050      1.335      3.675      0.000       2.289       7.521\n",
      "x50           -2.7758      0.975     -2.848      0.004      -4.686      -0.865\n",
      "x51           -1.3079      0.376     -3.481      0.001      -2.044      -0.571\n",
      "x52           -2.8152      1.348     -2.089      0.037      -5.457      -0.174\n",
      "x53            0.7352      0.236      3.118      0.002       0.273       1.197\n",
      "x54            1.7991      0.727      2.476      0.013       0.375       3.223\n",
      "x55           -2.1205      0.632     -3.356      0.001      -3.359      -0.882\n",
      "x56            4.8988      1.035      4.733      0.000       2.870       6.928\n",
      "x57           -1.0881      0.282     -3.863      0.000      -1.640      -0.536\n",
      "x58            9.5768      4.224      2.267      0.023       1.297      17.857\n",
      "x59            2.5644      0.924      2.774      0.006       0.753       4.376\n",
      "x60            0.7350      0.293      2.507      0.012       0.160       1.310\n",
      "x61           -3.8536      1.843     -2.091      0.037      -7.466      -0.241\n",
      "x62           -1.7405      0.745     -2.337      0.019      -3.200      -0.281\n",
      "x63           -2.5255      0.568     -4.450      0.000      -3.638      -1.413\n",
      "x64           -4.2319      2.024     -2.091      0.037      -8.199      -0.265\n",
      "x65           -2.0292      0.857     -2.367      0.018      -3.709      -0.349\n",
      "x66           -0.9209      0.376     -2.451      0.014      -1.657      -0.185\n",
      "x67            1.1904      0.334      3.564      0.000       0.536       1.845\n",
      "x68           -0.2913      0.129     -2.260      0.024      -0.544      -0.039\n",
      "x69           -1.1279      0.263     -4.287      0.000      -1.644      -0.612\n",
      "x70           -1.0601      0.464     -2.283      0.022      -1.970      -0.150\n",
      "x71           -2.8249      0.561     -5.033      0.000      -3.925      -1.725\n",
      "x72            1.6182      0.443      3.650      0.000       0.749       2.487\n",
      "x73            3.4113      1.123      3.037      0.002       1.210       5.613\n",
      "x74            6.6476      1.637      4.062      0.000       3.440       9.855\n",
      "x75            4.6298      1.479      3.130      0.002       1.731       7.529\n",
      "x76            1.0682      0.392      2.727      0.006       0.300       1.836\n",
      "x77           11.7826      5.920      1.990      0.047       0.179      23.386\n",
      "x78            1.4936      0.442      3.380      0.001       0.627       2.360\n",
      "x79            1.4937      0.499      2.990      0.003       0.515       2.473\n",
      "x80           -2.7126      0.478     -5.680      0.000      -3.649      -1.777\n",
      "x81            1.6954      0.671      2.527      0.012       0.380       3.010\n",
      "x82           -0.6791      0.208     -3.268      0.001      -1.086      -0.272\n",
      "x83           -0.9819      0.456     -2.154      0.031      -1.875      -0.089\n",
      "x84           -0.7178      0.182     -3.953      0.000      -1.074      -0.362\n",
      "x85            1.8928      0.535      3.537      0.000       0.844       2.942\n",
      "x86           -2.6375      0.515     -5.123      0.000      -3.647      -1.628\n",
      "x87           -2.3721      0.595     -3.986      0.000      -3.538      -1.206\n",
      "x88           -3.1744      0.950     -3.343      0.001      -5.036      -1.313\n",
      "x89           -1.5359      0.568     -2.703      0.007      -2.650      -0.422\n",
      "x90           -1.3504      0.235     -5.748      0.000      -1.811      -0.890\n",
      "x91            3.6497      1.480      2.465      0.014       0.748       6.551\n",
      "x92            1.7930      0.457      3.921      0.000       0.897       2.689\n",
      "x93           -0.3935      0.048     -8.210      0.000      -0.487      -0.300\n",
      "x94            4.1023      1.583      2.592      0.010       1.000       7.205\n",
      "x95            0.6962      0.159      4.369      0.000       0.384       1.008\n",
      "x96            1.7826      0.256      6.960      0.000       1.281       2.285\n",
      "x97            0.9768      0.293      3.338      0.001       0.403       1.550\n",
      "x98            1.2718      0.326      3.907      0.000       0.634       1.910\n",
      "x99            0.8466      0.211      4.013      0.000       0.433       1.260\n",
      "x100           1.1281      0.464      2.431      0.015       0.218       2.038\n",
      "x101           1.1647      0.461      2.526      0.012       0.261       2.068\n",
      "x102           1.0261      0.179      5.733      0.000       0.675       1.377\n",
      "x103           0.8593      0.164      5.255      0.000       0.539       1.180\n",
      "x104           1.3253      0.254      5.226      0.000       0.828       1.822\n",
      "x105           0.6717      0.204      3.287      0.001       0.271       1.072\n",
      "x106           2.3758      0.469      5.066      0.000       1.457       3.295\n",
      "x107           1.5755      0.472      3.340      0.001       0.651       2.500\n",
      "x108           0.7173      0.237      3.032      0.002       0.254       1.181\n",
      "x109           1.8628      0.578      3.221      0.001       0.729       2.997\n",
      "x110          -3.7104      1.109     -3.346      0.001      -5.884      -1.537\n",
      "x111           0.8112      0.187      4.339      0.000       0.445       1.178\n",
      "x112           0.2485      0.113      2.202      0.028       0.027       0.470\n",
      "x113           0.9613      0.198      4.857      0.000       0.573       1.349\n",
      "x114           1.1525      0.231      4.979      0.000       0.699       1.606\n",
      "x115           0.5197      0.124      4.205      0.000       0.277       0.762\n",
      "x116           1.5375      0.238      6.460      0.000       1.071       2.004\n",
      "x117          -3.8872      0.747     -5.202      0.000      -5.352      -2.423\n",
      "x118           0.7025      0.131      5.382      0.000       0.447       0.958\n",
      "x119           2.2479      0.607      3.704      0.000       1.058       3.437\n",
      "x120           1.3678      0.529      2.586      0.010       0.331       2.405\n",
      "x121           1.6117      0.312      5.158      0.000       0.999       2.224\n",
      "x122           0.7356      0.256      2.879      0.004       0.235       1.236\n",
      "x123           0.4999      0.187      2.676      0.007       0.134       0.866\n",
      "x124           0.4008      0.103      3.874      0.000       0.198       0.604\n",
      "x125           1.7884      0.227      7.892      0.000       1.344       2.233\n",
      "x126       -1.185e+12   4.11e+12     -0.288      0.773   -9.24e+12    6.87e+12\n",
      "x127       -1.185e+12   4.11e+12     -0.288      0.773   -9.24e+12    6.87e+12\n",
      "==============================================================================\n",
      "Omnibus:                    21565.688   Durbin-Watson:                   2.011\n",
      "Prob(Omnibus):                  0.000   Jarque-Bera (JB):            29828.708\n",
      "Skew:                           0.964   Prob(JB):                         0.00\n",
      "Kurtosis:                       3.073   Cond. No.                     1.25e+16\n",
      "==============================================================================\n",
      "\n",
      "Warnings:\n",
      "[1] Standard Errors assume that the covariance matrix of the errors is correctly specified.\n",
      "[2] The smallest eigenvalue is 3.58e-27. This might indicate that there are\n",
      "strong multicollinearity problems or that the design matrix is singular.\n"
     ]
    }
   ],
   "source": [
    "print(OLS_lin_reg_2.summary())"
   ]
  },
  {
   "cell_type": "code",
   "execution_count": 222,
   "metadata": {},
   "outputs": [
    {
     "data": {
      "text/plain": [
       "8.37"
      ]
     },
     "execution_count": 222,
     "metadata": {},
     "output_type": "execute_result"
    }
   ],
   "source": [
    "OLS_pred_2 = OLS_lin_reg_2.predict(autos_opt_2)\n",
    "OLS_lin_mse_2 = mean_squared_error(autos_label_m2_tr, OLS_pred_2)\n",
    "OLS_lin_rmse_2 = np.sqrt(OLS_lin_mse_2)\n",
    "OLS_lin_rmse_2.round(2)"
   ]
  },
  {
   "cell_type": "code",
   "execution_count": 223,
   "metadata": {},
   "outputs": [
    {
     "name": "stdout",
     "output_type": "stream",
     "text": [
      "Scores:  [8.3  8.38 8.44 8.35 8.4  8.4  8.39 8.41 8.35 8.31]\n",
      "Mean: 8.37\n",
      "Standard deviation: 0.04\n"
     ]
    }
   ],
   "source": [
    "OLS_lin_reg_scores_2 = cross_val_score(SMWrapper(sm.OLS), autos_opt_2, autos_label_m2_tr, \n",
    "                                 scoring=\"neg_mean_squared_error\", cv=10)\n",
    "OLS_lin_reg_rmse_scores_2 = np.sqrt(-OLS_lin_reg_scores_2)\n",
    "display_scores(OLS_lin_reg_rmse_scores_2)"
   ]
  },
  {
   "cell_type": "markdown",
   "metadata": {},
   "source": [
    "### Decision Tree"
   ]
  },
  {
   "cell_type": "code",
   "execution_count": 224,
   "metadata": {},
   "outputs": [
    {
     "data": {
      "text/plain": [
       "DecisionTreeRegressor(ccp_alpha=0.0, criterion='mse', max_depth=None,\n",
       "                      max_features=None, max_leaf_nodes=None,\n",
       "                      min_impurity_decrease=0.0, min_impurity_split=None,\n",
       "                      min_samples_leaf=1, min_samples_split=2,\n",
       "                      min_weight_fraction_leaf=0.0, presort='deprecated',\n",
       "                      random_state=24, splitter='best')"
      ]
     },
     "execution_count": 224,
     "metadata": {},
     "output_type": "execute_result"
    }
   ],
   "source": [
    "tree_2 = DecisionTreeRegressor(random_state=24)\n",
    "tree_2.fit(autos_features_prepared_m2_tr, autos_label_m2_tr)"
   ]
  },
  {
   "cell_type": "code",
   "execution_count": 225,
   "metadata": {},
   "outputs": [
    {
     "name": "stdout",
     "output_type": "stream",
     "text": [
      "2.2031\n"
     ]
    }
   ],
   "source": [
    "predictions_2 = tree_2.predict(autos_features_prepared_m2_tr)\n",
    "tree_mse_2 = mean_squared_error(autos_label_m2_tr, predictions_2)\n",
    "tree_rmse_2 = np.sqrt(tree_mse_2)\n",
    "print('%5.4f'%tree_rmse_2)"
   ]
  },
  {
   "cell_type": "code",
   "execution_count": 226,
   "metadata": {},
   "outputs": [],
   "source": [
    "scores_2 = cross_val_score(tree_2, autos_features_prepared_m2_tr, autos_label_m2_tr,\n",
    "                         scoring=\"neg_mean_squared_error\", cv=10)\n",
    "tree_rmse_scores_2 = np.sqrt(-scores_2)"
   ]
  },
  {
   "cell_type": "code",
   "execution_count": 227,
   "metadata": {},
   "outputs": [
    {
     "name": "stdout",
     "output_type": "stream",
     "text": [
      "Scores:  [11.1  11.21 11.17 11.14 11.19 11.13 11.09 11.24 11.21 11.1 ]\n",
      "Mean:11.16\n",
      "Standard deviation: 0.05\n"
     ]
    }
   ],
   "source": [
    "display_scores(tree_rmse_scores_2)"
   ]
  },
  {
   "cell_type": "markdown",
   "metadata": {},
   "source": [
    "### Random Forest"
   ]
  },
  {
   "cell_type": "code",
   "execution_count": 228,
   "metadata": {},
   "outputs": [
    {
     "data": {
      "text/plain": [
       "RandomForestRegressor(bootstrap=True, ccp_alpha=0.0, criterion='mse',\n",
       "                      max_depth=None, max_features='auto', max_leaf_nodes=None,\n",
       "                      max_samples=None, min_impurity_decrease=0.0,\n",
       "                      min_impurity_split=None, min_samples_leaf=1,\n",
       "                      min_samples_split=2, min_weight_fraction_leaf=0.0,\n",
       "                      n_estimators=10, n_jobs=None, oob_score=False,\n",
       "                      random_state=24, verbose=0, warm_start=False)"
      ]
     },
     "execution_count": 228,
     "metadata": {},
     "output_type": "execute_result"
    }
   ],
   "source": [
    "forest_2 = RandomForestRegressor(random_state=24, n_estimators=10) #n_estimators = number of trees\n",
    "forest_2.fit(autos_features_prepared_m2_tr, autos_label_m2_tr)"
   ]
  },
  {
   "cell_type": "code",
   "execution_count": 229,
   "metadata": {},
   "outputs": [
    {
     "name": "stdout",
     "output_type": "stream",
     "text": [
      "rmse =  4.0753\n",
      "Predictions:  [ 4.73  2.67  4.28 10.78 11.88 10.06 10.19 21.81 12.21  6.72]\n",
      "Labels:  [4.72, 2.95, 2.97, 11.39, 9.95, 11.78, 2.74, 23.91, 7.7, 7.68]\n"
     ]
    }
   ],
   "source": [
    "predictions_2 = forest_2.predict(autos_features_prepared_m2_tr)\n",
    "forest_mse_2 = mean_squared_error(autos_label_m2_tr, predictions_2)\n",
    "forest_rmse_2 = np.sqrt(forest_mse_2)\n",
    "print(\"rmse = \", '%5.4f'%forest_rmse_2)\n",
    "\n",
    "some_data = autos_features_m2_tr.iloc[:10]\n",
    "some_labels = autos_label_m2_tr[:10]\n",
    "some_data_prepared = full_pipeline_2.transform(some_data)\n",
    "print(\"Predictions: \", forest_2.predict(some_data_prepared).round(2))\n",
    "print(\"Labels: \", list(some_labels.round(2)))"
   ]
  },
  {
   "cell_type": "code",
   "execution_count": 230,
   "metadata": {},
   "outputs": [
    {
     "name": "stdout",
     "output_type": "stream",
     "text": [
      "Scores:  [8.74 8.82 8.81 8.82 8.83 8.8  8.79 8.92 8.83 8.73]\n",
      "Mean: 8.81\n",
      "Standard deviation: 0.05\n"
     ]
    }
   ],
   "source": [
    "forest_scores_2 = cross_val_score(forest_2, autos_features_prepared_m2_tr, autos_label_m2_tr,\n",
    "                                scoring=\"neg_mean_squared_error\", cv=10)\n",
    "forest_rmse_scores_2 = np.sqrt(-forest_scores_2)\n",
    "display_scores(forest_rmse_scores_2)"
   ]
  },
  {
   "cell_type": "markdown",
   "metadata": {},
   "source": [
    "### Regression Deep Neural Network (MLP)"
   ]
  },
  {
   "cell_type": "code",
   "execution_count": 270,
   "metadata": {},
   "outputs": [],
   "source": [
    "X_train_2, X_valid_2, y_train_2, y_valid_2 = train_test_split(autos_features_prepared_m2_tr, autos_label_m2_tr,\n",
    "                                                     test_size = 0.2, random_state=24)"
   ]
  },
  {
   "cell_type": "code",
   "execution_count": 271,
   "metadata": {},
   "outputs": [
    {
     "name": "stdout",
     "output_type": "stream",
     "text": [
      "(153978, 309)\n",
      "(38495, 309)\n",
      "(153978,)\n",
      "(38495,)\n"
     ]
    }
   ],
   "source": [
    "print(X_train_2.shape)\n",
    "print(X_valid_2.shape)\n",
    "print(y_train_2.shape)\n",
    "print(y_valid_2.shape)"
   ]
  },
  {
   "cell_type": "code",
   "execution_count": 233,
   "metadata": {},
   "outputs": [],
   "source": [
    "dnn_2 = keras.models.Sequential([\n",
    "    keras.layers.Dense(30, activation=\"relu\", input_shape=X_train_2.shape[1:]),\n",
    "    keras.layers.Dense(1)\n",
    "])"
   ]
  },
  {
   "cell_type": "code",
   "execution_count": 234,
   "metadata": {},
   "outputs": [],
   "source": [
    "dnn_opt_2 = keras.optimizers.Adam(lr=0.001, beta_1=0.9, beta_2=0.999)\n",
    "dnn_2.compile(loss=\"mean_squared_error\", \n",
    "            optimizer=dnn_opt_2)"
   ]
  },
  {
   "cell_type": "code",
   "execution_count": 235,
   "metadata": {},
   "outputs": [
    {
     "name": "stdout",
     "output_type": "stream",
     "text": [
      "Train on 153978 samples, validate on 38495 samples\n",
      "Epoch 1/40\n",
      "153978/153978 [==============================] - 13s 87us/sample - loss: 72.0432 - val_loss: 70.2704\n",
      "Epoch 2/40\n",
      "153978/153978 [==============================] - 13s 82us/sample - loss: 69.0406 - val_loss: 69.7712\n",
      "Epoch 3/40\n",
      "153978/153978 [==============================] - 13s 82us/sample - loss: 68.6482 - val_loss: 69.4734\n",
      "Epoch 4/40\n",
      "153978/153978 [==============================] - 13s 86us/sample - loss: 68.4245 - val_loss: 69.3600\n",
      "Epoch 5/40\n",
      "153978/153978 [==============================] - 13s 82us/sample - loss: 68.2756 - val_loss: 69.3489\n",
      "Epoch 6/40\n",
      "153978/153978 [==============================] - 13s 83us/sample - loss: 68.1648 - val_loss: 69.4323\n",
      "Epoch 7/40\n",
      "153978/153978 [==============================] - 12s 81us/sample - loss: 68.0991 - val_loss: 69.2689\n",
      "Epoch 8/40\n",
      "153978/153978 [==============================] - 13s 82us/sample - loss: 68.0218 - val_loss: 69.3363\n",
      "Epoch 9/40\n",
      "153978/153978 [==============================] - 13s 81us/sample - loss: 67.9480 - val_loss: 69.2709\n",
      "Epoch 10/40\n",
      "153978/153978 [==============================] - 13s 81us/sample - loss: 67.8874 - val_loss: 69.1698\n",
      "Epoch 11/40\n",
      "153978/153978 [==============================] - 13s 83us/sample - loss: 67.8380 - val_loss: 69.3087\n",
      "Epoch 12/40\n",
      "153978/153978 [==============================] - 12s 81us/sample - loss: 67.7542 - val_loss: 69.2814\n",
      "Epoch 13/40\n",
      "153978/153978 [==============================] - 13s 82us/sample - loss: 67.7266 - val_loss: 69.3532\n",
      "Epoch 14/40\n",
      "153978/153978 [==============================] - 13s 81us/sample - loss: 67.6785 - val_loss: 69.2555\n",
      "Epoch 15/40\n",
      "153978/153978 [==============================] - 13s 83us/sample - loss: 67.6433 - val_loss: 69.2419\n",
      "Epoch 16/40\n",
      "153978/153978 [==============================] - 13s 82us/sample - loss: 67.5881 - val_loss: 69.2045\n",
      "Epoch 17/40\n",
      "153978/153978 [==============================] - 13s 83us/sample - loss: 67.5609 - val_loss: 69.2540\n",
      "Epoch 18/40\n",
      "153978/153978 [==============================] - 13s 81us/sample - loss: 67.5345 - val_loss: 69.2624\n",
      "Epoch 19/40\n",
      "153978/153978 [==============================] - 13s 82us/sample - loss: 67.5003 - val_loss: 69.2592\n",
      "Epoch 20/40\n",
      "153978/153978 [==============================] - 12s 81us/sample - loss: 67.4780 - val_loss: 69.2182\n",
      "Epoch 21/40\n",
      "153978/153978 [==============================] - 12s 81us/sample - loss: 67.4310 - val_loss: 69.2236\n",
      "Epoch 22/40\n",
      "153978/153978 [==============================] - 13s 84us/sample - loss: 67.4198 - val_loss: 69.6777\n",
      "Epoch 23/40\n",
      "153978/153978 [==============================] - 13s 84us/sample - loss: 67.3839 - val_loss: 69.4787\n",
      "Epoch 24/40\n",
      "153978/153978 [==============================] - 13s 82us/sample - loss: 67.3478 - val_loss: 69.2897\n",
      "Epoch 25/40\n",
      "153978/153978 [==============================] - 13s 85us/sample - loss: 67.3450 - val_loss: 69.3914\n",
      "Epoch 26/40\n",
      "153978/153978 [==============================] - 13s 83us/sample - loss: 67.3247 - val_loss: 69.3649\n",
      "Epoch 27/40\n",
      "153978/153978 [==============================] - 13s 83us/sample - loss: 67.2940 - val_loss: 69.5818\n",
      "Epoch 28/40\n",
      "153978/153978 [==============================] - 13s 83us/sample - loss: 67.2709 - val_loss: 69.3312\n",
      "Epoch 29/40\n",
      "153978/153978 [==============================] - 13s 87us/sample - loss: 67.2443 - val_loss: 69.2675\n",
      "Epoch 30/40\n",
      "153978/153978 [==============================] - 13s 83us/sample - loss: 67.2212 - val_loss: 69.4822\n",
      "Epoch 31/40\n",
      "153978/153978 [==============================] - 13s 83us/sample - loss: 67.2199 - val_loss: 69.3372\n",
      "Epoch 32/40\n",
      "153978/153978 [==============================] - 13s 84us/sample - loss: 67.2038 - val_loss: 69.3860\n",
      "Epoch 33/40\n",
      "153978/153978 [==============================] - 12s 81us/sample - loss: 67.1745 - val_loss: 69.3646\n",
      "Epoch 34/40\n",
      "153978/153978 [==============================] - 14s 90us/sample - loss: 67.1654 - val_loss: 69.3645\n",
      "Epoch 35/40\n",
      "153978/153978 [==============================] - 13s 84us/sample - loss: 67.1524 - val_loss: 69.1796\n",
      "Epoch 36/40\n",
      "153978/153978 [==============================] - 13s 84us/sample - loss: 67.1318 - val_loss: 69.3009\n",
      "Epoch 37/40\n",
      "153978/153978 [==============================] - 13s 82us/sample - loss: 67.1289 - val_loss: 69.2801\n",
      "Epoch 38/40\n",
      "153978/153978 [==============================] - 13s 83us/sample - loss: 67.1210 - val_loss: 69.3307\n",
      "Epoch 39/40\n",
      "153978/153978 [==============================] - 12s 81us/sample - loss: 67.0958 - val_loss: 69.3116\n",
      "Epoch 40/40\n",
      "153978/153978 [==============================] - 13s 83us/sample - loss: 67.0861 - val_loss: 69.3999\n"
     ]
    }
   ],
   "source": [
    "history_2 = dnn_2.fit(X_train_2, y_train_2, epochs=40,\n",
    "                 validation_data=(X_valid_2, y_valid_2))"
   ]
  },
  {
   "cell_type": "code",
   "execution_count": 498,
   "metadata": {},
   "outputs": [
    {
     "name": "stdout",
     "output_type": "stream",
     "text": [
      "192473/192473 [==============================] - 4s 23us/sample - loss: 67.3771\n",
      "8.208352968161794\n"
     ]
    }
   ],
   "source": [
    "mse_dnn_2 = dnn_2.evaluate(autos_features_prepared_m2_tr, autos_label_m2_tr)\n",
    "rmse_dnn_2 = np.sqrt(mse_dnn_2)\n",
    "print(rmse_dnn_2)"
   ]
  },
  {
   "cell_type": "code",
   "execution_count": 499,
   "metadata": {},
   "outputs": [
    {
     "name": "stdout",
     "output_type": "stream",
     "text": [
      "[[ 8.672572 ]\n",
      " [ 7.5951567]\n",
      " [ 8.236292 ]\n",
      " [13.593553 ]\n",
      " [11.277749 ]]\n",
      "[ 4.72083333  2.94756944  2.97079861 11.38695602  9.94912037]\n"
     ]
    }
   ],
   "source": [
    "X_new_2 = autos_features_prepared_m2_tr[:5]\n",
    "y_pred_2 = dnn_2.predict(X_new_2)\n",
    "print(y_pred_2)\n",
    "print(autos_label_m2_tr[:5])"
   ]
  },
  {
   "cell_type": "markdown",
   "metadata": {},
   "source": [
    "Of all models tested herein, __Neural Network__ is the one yielding the smallest *rmse*. Thus, in the next section we will aim to optimize our hyperparameters for better results. "
   ]
  },
  {
   "cell_type": "markdown",
   "metadata": {},
   "source": [
    "## 7. FINE-TUNNING OUR MODEL"
   ]
  },
  {
   "cell_type": "markdown",
   "metadata": {},
   "source": [
    "### Model 1"
   ]
  },
  {
   "cell_type": "markdown",
   "metadata": {},
   "source": [
    "__Fine-Tuning Random Forest:__"
   ]
  },
  {
   "cell_type": "code",
   "execution_count": 503,
   "metadata": {},
   "outputs": [
    {
     "data": {
      "text/plain": [
       "GridSearchCV(cv=5, error_score=nan,\n",
       "             estimator=RandomForestRegressor(bootstrap=True, ccp_alpha=0.0,\n",
       "                                             criterion='mse', max_depth=None,\n",
       "                                             max_features='auto',\n",
       "                                             max_leaf_nodes=None,\n",
       "                                             max_samples=None,\n",
       "                                             min_impurity_decrease=0.0,\n",
       "                                             min_impurity_split=None,\n",
       "                                             min_samples_leaf=1,\n",
       "                                             min_samples_split=2,\n",
       "                                             min_weight_fraction_leaf=0.0,\n",
       "                                             n_estimators=100, n_jobs=None,\n",
       "                                             oob_score=False, random_state=None,\n",
       "                                             verbose=0, warm_start=False),\n",
       "             iid='deprecated', n_jobs=None,\n",
       "             param_grid=[{'n_estimators': [10, 100, 200]},\n",
       "                         {'bootstrap': [False], 'n_estimators': [200]}],\n",
       "             pre_dispatch='2*n_jobs', refit=True, return_train_score=True,\n",
       "             scoring='neg_mean_squared_error', verbose=0)"
      ]
     },
     "execution_count": 503,
     "metadata": {},
     "output_type": "execute_result"
    }
   ],
   "source": [
    "param_grid = [\n",
    "    {'n_estimators':[10, 100, 200]},\n",
    "    {'bootstrap': [False], 'n_estimators': [200]}\n",
    "]\n",
    "\n",
    "forest_opt = RandomForestRegressor()\n",
    "\n",
    "grid_search = GridSearchCV(forest_opt, param_grid, cv=5, scoring='neg_mean_squared_error', return_train_score=True, random_state=24)\n",
    "\n",
    "grid_search.fit(autos_features_prepared_m1_tr, autos_label_m1_tr)"
   ]
  },
  {
   "cell_type": "markdown",
   "metadata": {},
   "source": [
    "Now let's get the best combination of parameters:"
   ]
  },
  {
   "cell_type": "code",
   "execution_count": 515,
   "metadata": {},
   "outputs": [
    {
     "data": {
      "text/plain": [
       "{'n_estimators': 100}"
      ]
     },
     "execution_count": 515,
     "metadata": {},
     "output_type": "execute_result"
    }
   ],
   "source": [
    "grid_search.best_params_"
   ]
  },
  {
   "cell_type": "markdown",
   "metadata": {},
   "source": [
    "We cal also get the best estimator directly:"
   ]
  },
  {
   "cell_type": "code",
   "execution_count": 516,
   "metadata": {},
   "outputs": [
    {
     "data": {
      "text/plain": [
       "RandomForestRegressor(bootstrap=True, ccp_alpha=0.0, criterion='mse',\n",
       "                      max_depth=None, max_features='auto', max_leaf_nodes=None,\n",
       "                      max_samples=None, min_impurity_decrease=0.0,\n",
       "                      min_impurity_split=None, min_samples_leaf=1,\n",
       "                      min_samples_split=2, min_weight_fraction_leaf=0.0,\n",
       "                      n_estimators=100, n_jobs=None, oob_score=False,\n",
       "                      random_state=None, verbose=0, warm_start=False)"
      ]
     },
     "execution_count": 516,
     "metadata": {},
     "output_type": "execute_result"
    }
   ],
   "source": [
    "grid_search.best_estimator_"
   ]
  },
  {
   "cell_type": "code",
   "execution_count": 506,
   "metadata": {},
   "outputs": [
    {
     "name": "stdout",
     "output_type": "stream",
     "text": [
      "2268.6032649393246 {'n_estimators': 10}\n",
      "2217.5565227639554 {'n_estimators': 100}\n",
      "2218.651037216891 {'n_estimators': 200}\n",
      "2580.7653405554233 {'bootstrap': False, 'n_estimators': 200}\n"
     ]
    }
   ],
   "source": [
    "cvres = grid_search.cv_results_\n",
    "for mean_score, params in zip(cvres[\"mean_test_score\"], cvres[\"params\"]):\n",
    "    print(np.sqrt(-mean_score), params)"
   ]
  },
  {
   "cell_type": "markdown",
   "metadata": {},
   "source": [
    "Using the GridSearch results, we can see that the best model is obtained by setting the **n_estimators hyperparameter to 100 and bootstrap to TRUE (default)**. The RSME score for this combination is 2217.55, which is sligthly better than the score we got using the default hyperparameter value (2257.47). With this final step we have fine-tuned our model.\n",
    "\n",
    "We can often gain good insights on the problem by inspecting the best models. For example, the RandomForestRegressor can indicate the relative importance of each attribute for making accurate predictions.\n",
    "\n",
    "Each element of feature_importances_ corresponds to one feature of X_train (e.g: first element of feature_importances_ refers to the first feature/column of X_train).\n",
    "\n",
    "The higher the value of an element in feature_importances_, the more important is the feature in X_train."
   ]
  },
  {
   "cell_type": "code",
   "execution_count": 507,
   "metadata": {},
   "outputs": [
    {
     "data": {
      "text/plain": [
       "array([0.488, 0.329, 0.036, 0.   , 0.001, 0.007, 0.002, 0.002, 0.002,\n",
       "       0.002, 0.002, 0.004, 0.004, 0.   , 0.   , 0.   , 0.   , 0.   ,\n",
       "       0.   , 0.001, 0.   , 0.   , 0.   , 0.001, 0.   , 0.   , 0.   ,\n",
       "       0.001, 0.   , 0.   , 0.   , 0.   , 0.   , 0.   , 0.   , 0.   ,\n",
       "       0.   , 0.031, 0.   , 0.   , 0.001, 0.001, 0.001, 0.001, 0.   ,\n",
       "       0.   , 0.   , 0.   , 0.   , 0.   , 0.   , 0.   , 0.002, 0.   ,\n",
       "       0.   , 0.   , 0.   , 0.   , 0.   , 0.   , 0.   , 0.   , 0.   ,\n",
       "       0.   , 0.   , 0.   , 0.   , 0.   , 0.   , 0.   , 0.   , 0.   ,\n",
       "       0.001, 0.   , 0.   , 0.   , 0.   , 0.   , 0.   , 0.   , 0.   ,\n",
       "       0.   , 0.   , 0.   , 0.   , 0.   , 0.   , 0.   , 0.   , 0.   ,\n",
       "       0.   , 0.   , 0.   , 0.   , 0.   , 0.   , 0.   , 0.   , 0.   ,\n",
       "       0.   , 0.   , 0.   , 0.002, 0.   , 0.   , 0.   , 0.   , 0.   ,\n",
       "       0.   , 0.001, 0.   , 0.   , 0.   , 0.   , 0.   , 0.   , 0.   ,\n",
       "       0.   , 0.   , 0.   , 0.   , 0.   , 0.   , 0.   , 0.002, 0.   ,\n",
       "       0.   , 0.   , 0.   , 0.   , 0.001, 0.   , 0.   , 0.   , 0.   ,\n",
       "       0.   , 0.   , 0.   , 0.   , 0.   , 0.   , 0.   , 0.   , 0.   ,\n",
       "       0.   , 0.   , 0.   , 0.   , 0.   , 0.   , 0.   , 0.   , 0.   ,\n",
       "       0.   , 0.   , 0.   , 0.   , 0.   , 0.   , 0.001, 0.001, 0.   ,\n",
       "       0.   , 0.   , 0.   , 0.   , 0.   , 0.   , 0.   , 0.   , 0.   ,\n",
       "       0.   , 0.   , 0.   , 0.   , 0.   , 0.   , 0.   , 0.   , 0.   ,\n",
       "       0.   , 0.   , 0.   , 0.   , 0.   , 0.   , 0.   , 0.   , 0.   ,\n",
       "       0.   , 0.   , 0.001, 0.   , 0.   , 0.   , 0.   , 0.   , 0.   ,\n",
       "       0.   , 0.   , 0.   , 0.   , 0.   , 0.   , 0.   , 0.001, 0.   ,\n",
       "       0.   , 0.   , 0.   , 0.   , 0.   , 0.   , 0.   , 0.   , 0.   ,\n",
       "       0.   , 0.001, 0.   , 0.   , 0.   , 0.   , 0.   , 0.   , 0.   ,\n",
       "       0.   , 0.   , 0.   , 0.   , 0.   , 0.   , 0.   , 0.   , 0.   ,\n",
       "       0.01 , 0.   , 0.   , 0.   , 0.   , 0.   , 0.   , 0.   , 0.   ,\n",
       "       0.   , 0.   , 0.   , 0.001, 0.   , 0.   , 0.   , 0.   , 0.001,\n",
       "       0.   , 0.   , 0.   , 0.   , 0.   , 0.   , 0.001, 0.   , 0.   ,\n",
       "       0.003, 0.   , 0.004, 0.   , 0.   , 0.   , 0.   , 0.004, 0.003,\n",
       "       0.   , 0.   , 0.   , 0.   , 0.   , 0.   , 0.   , 0.001, 0.   ,\n",
       "       0.   , 0.   , 0.   , 0.   , 0.   , 0.   , 0.001, 0.   , 0.004,\n",
       "       0.001, 0.   , 0.   , 0.001, 0.   , 0.005, 0.001, 0.   , 0.   ,\n",
       "       0.   , 0.   , 0.   , 0.   , 0.   , 0.001, 0.   , 0.003, 0.   ,\n",
       "       0.003, 0.003])"
      ]
     },
     "execution_count": 507,
     "metadata": {},
     "output_type": "execute_result"
    }
   ],
   "source": [
    "feature_importances = grid_search.best_estimator_.feature_importances_\n",
    "feature_importances.round(3)"
   ]
  },
  {
   "cell_type": "code",
   "execution_count": 508,
   "metadata": {},
   "outputs": [
    {
     "name": "stdout",
     "output_type": "stream",
     "text": [
      "Scores:  [2262.03 2217.11 2228.14 2150.33 2297.15 2252.9  2120.17 2149.48 2116.72\n",
      " 2191.09]\n",
      "Mean:2198.51\n",
      "Standard deviation:59.63\n"
     ]
    }
   ],
   "source": [
    "#grid_search.best_params_\n",
    "#{'n_estimators': 100}\n",
    "\n",
    "forest_best = RandomForestRegressor(n_estimators=grid_search.best_params_[\"n_estimators\"], random_state=24)\n",
    "\n",
    "forest_scores_best = cross_val_score(forest_best, autos_features_prepared_m1_tr, autos_label_m1_tr,\n",
    "                                scoring=\"neg_mean_squared_error\", cv=10)\n",
    "forest_rmse_scores_best = np.sqrt(-forest_scores_best)\n",
    "display_scores(forest_rmse_scores_best)"
   ]
  },
  {
   "cell_type": "markdown",
   "metadata": {},
   "source": [
    "__Fine-Tuning Neural Network__:"
   ]
  },
  {
   "cell_type": "code",
   "execution_count": 100,
   "metadata": {},
   "outputs": [],
   "source": [
    "def build_model(n_hidden=1, n_neurons=30, learning_rate=3e-3, input_shape=[308]):\n",
    "    model = keras.models.Sequential()\n",
    "    model.add(keras.layers.InputLayer(input_shape=input_shape))\n",
    "    for layer in range (n_hidden):\n",
    "        model.add(keras.layers.Dense(n_neurons, activation=\"relu\"))\n",
    "        model.add(keras.layers.Dense(1))\n",
    "        optimizer = keras.optimizers.Adam(lr=learning_rate, beta_1=0.9, beta_2=0.999)\n",
    "        model.compile(loss=\"mean_squared_error\", optimizer=optimizer)\n",
    "    return model"
   ]
  },
  {
   "cell_type": "code",
   "execution_count": 101,
   "metadata": {},
   "outputs": [],
   "source": [
    "keras_reg = keras.wrappers.scikit_learn.KerasRegressor(build_model)"
   ]
  },
  {
   "cell_type": "code",
   "execution_count": 102,
   "metadata": {},
   "outputs": [],
   "source": [
    "dnn_1_hp = {\n",
    "    \"n_hidden\": [0, 1, 2, 3],\n",
    "    \"n_neurons\": np.arange(1, 100),\n",
    "    \"learning_rate\": reciprocal(3e-4, 3e-2),\n",
    "}"
   ]
  },
  {
   "cell_type": "code",
   "execution_count": 103,
   "metadata": {},
   "outputs": [],
   "source": [
    "rnd_search_cv = RandomizedSearchCV(keras_reg, dnn_1_hp, n_iter=10, cv=3)"
   ]
  },
  {
   "cell_type": "code",
   "execution_count": null,
   "metadata": {
    "scrolled": false
   },
   "outputs": [],
   "source": [
    "rnd_search_cv.fit(X_train, y_train, epochs=40,\n",
    "                  validation_data=(X_valid, y_valid),\n",
    "                  callbacks=[keras.callbacks.EarlyStopping(patience=10)])"
   ]
  },
  {
   "cell_type": "code",
   "execution_count": 105,
   "metadata": {},
   "outputs": [
    {
     "data": {
      "text/plain": [
       "{'learning_rate': 0.007881706347875165, 'n_hidden': 3, 'n_neurons': 51}"
      ]
     },
     "execution_count": 105,
     "metadata": {},
     "output_type": "execute_result"
    }
   ],
   "source": [
    "rnd_search_cv.best_params_"
   ]
  },
  {
   "cell_type": "code",
   "execution_count": 364,
   "metadata": {},
   "outputs": [
    {
     "name": "stdout",
     "output_type": "stream",
     "text": [
      "Train on 153978 samples, validate on 38495 samples\n",
      "Epoch 1/40\n",
      "153978/153978 [==============================] - 18s 117us/sample - loss: 9407317.0900 - val_loss: 6643134.7715\n",
      "Epoch 2/40\n",
      "153978/153978 [==============================] - 16s 103us/sample - loss: 6376893.1382 - val_loss: 5946151.6165\n",
      "Epoch 3/40\n",
      "153978/153978 [==============================] - 16s 103us/sample - loss: 5986544.4676 - val_loss: 5913095.4495\n",
      "Epoch 4/40\n",
      "153978/153978 [==============================] - 16s 107us/sample - loss: 5744794.6465 - val_loss: 5480989.1360\n",
      "Epoch 5/40\n",
      "153978/153978 [==============================] - 17s 110us/sample - loss: 5573622.6316 - val_loss: 5435339.9269\n",
      "Epoch 6/40\n",
      "153978/153978 [==============================] - 17s 108us/sample - loss: 5439348.0937 - val_loss: 5383773.5013\n",
      "Epoch 7/40\n",
      "153978/153978 [==============================] - 16s 104us/sample - loss: 5357009.4636 - val_loss: 5277064.2260\n",
      "Epoch 8/40\n",
      "153978/153978 [==============================] - 16s 101us/sample - loss: 5290594.5359 - val_loss: 5215642.9913\n",
      "Epoch 9/40\n",
      "153978/153978 [==============================] - 16s 103us/sample - loss: 5201188.4676 - val_loss: 5147750.4471\n",
      "Epoch 10/40\n",
      "153978/153978 [==============================] - 16s 101us/sample - loss: 5149956.4545 - val_loss: 5194948.1150\n",
      "Epoch 11/40\n",
      "153978/153978 [==============================] - 16s 103us/sample - loss: 5090284.6560 - val_loss: 5091273.9624\n",
      "Epoch 12/40\n",
      "153978/153978 [==============================] - 16s 102us/sample - loss: 5085798.5426 - val_loss: 5034409.1630\n",
      "Epoch 13/40\n",
      "153978/153978 [==============================] - 21s 135us/sample - loss: 5001485.4180 - val_loss: 5224947.0173\n",
      "Epoch 14/40\n",
      "153978/153978 [==============================] - 17s 109us/sample - loss: 4979271.0404 - val_loss: 5173962.2896\n",
      "Epoch 15/40\n",
      "153978/153978 [==============================] - 16s 102us/sample - loss: 4931670.5933 - val_loss: 5036374.1533\n",
      "Epoch 16/40\n",
      "153978/153978 [==============================] - 16s 101us/sample - loss: 4919605.4812 - val_loss: 4935154.5641\n",
      "Epoch 17/40\n",
      "153978/153978 [==============================] - 15s 100us/sample - loss: 4889982.7543 - val_loss: 5238138.8725\n",
      "Epoch 18/40\n",
      "153978/153978 [==============================] - 17s 108us/sample - loss: 4847150.9423 - val_loss: 4950676.1839\n",
      "Epoch 19/40\n",
      "153978/153978 [==============================] - 16s 105us/sample - loss: 4843299.2396 - val_loss: 5134038.3930\n",
      "Epoch 20/40\n",
      "153978/153978 [==============================] - 16s 106us/sample - loss: 4807499.9370 - val_loss: 5007637.1873\n",
      "Epoch 21/40\n",
      "153978/153978 [==============================] - 14s 94us/sample - loss: 4786814.5684 - val_loss: 5099563.4228\n",
      "Epoch 22/40\n",
      "153978/153978 [==============================] - 14s 93us/sample - loss: 4767861.2460 - val_loss: 4880025.5926\n",
      "Epoch 23/40\n",
      "153978/153978 [==============================] - 16s 101us/sample - loss: 4768164.4115 - val_loss: 5236882.1471\n",
      "Epoch 24/40\n",
      "153978/153978 [==============================] - 17s 109us/sample - loss: 4734193.4575 - val_loss: 5177494.5362\n",
      "Epoch 25/40\n",
      "153978/153978 [==============================] - 14s 93us/sample - loss: 4734761.9133 - val_loss: 4840003.4378\n",
      "Epoch 26/40\n",
      "153978/153978 [==============================] - 15s 95us/sample - loss: 4705357.6652 - val_loss: 4875503.4204\n",
      "Epoch 27/40\n",
      "153978/153978 [==============================] - 14s 93us/sample - loss: 4691595.6797 - val_loss: 4862828.4948\n",
      "Epoch 28/40\n",
      "153978/153978 [==============================] - 15s 96us/sample - loss: 4697058.9408 - val_loss: 4867031.4438\n",
      "Epoch 29/40\n",
      "153978/153978 [==============================] - 16s 102us/sample - loss: 4661301.5759 - val_loss: 4916547.0181\n",
      "Epoch 30/40\n",
      "153978/153978 [==============================] - 16s 105us/sample - loss: 4646118.6613 - val_loss: 5038610.4727\n",
      "Epoch 31/40\n",
      "153978/153978 [==============================] - 19s 122us/sample - loss: 4632477.5663 - val_loss: 5063608.2896\n",
      "Epoch 32/40\n",
      "153978/153978 [==============================] - 16s 104us/sample - loss: 4643311.8375 - val_loss: 4959760.7212\n",
      "Epoch 33/40\n",
      "153978/153978 [==============================] - 20s 130us/sample - loss: 4612459.9349 - val_loss: 4963199.5725\n",
      "Epoch 34/40\n",
      "153978/153978 [==============================] - 17s 109us/sample - loss: 4608330.9916 - val_loss: 4911484.5788\n",
      "Epoch 35/40\n",
      "153978/153978 [==============================] - 15s 99us/sample - loss: 4610925.8136 - val_loss: 4821170.0774\n",
      "Epoch 36/40\n",
      "153978/153978 [==============================] - 15s 100us/sample - loss: 4570005.6970 - val_loss: 4909374.5394\n",
      "Epoch 37/40\n",
      "153978/153978 [==============================] - 15s 96us/sample - loss: 4587233.3020 - val_loss: 4908282.2397\n",
      "Epoch 38/40\n",
      "153978/153978 [==============================] - 15s 95us/sample - loss: 4550341.7864 - val_loss: 4918930.6332\n",
      "Epoch 39/40\n",
      "153978/153978 [==============================] - 15s 95us/sample - loss: 4561618.5563 - val_loss: 4833959.8826\n",
      "Epoch 40/40\n",
      "153978/153978 [==============================] - 14s 92us/sample - loss: 4544159.5393 - val_loss: 4890768.1278\n"
     ]
    }
   ],
   "source": [
    "#rnd_search_cv.best_params_\n",
    "#{'learning_rate': 0.007881706347875165, 'n_hidden': 3, 'n_neurons': 51}\n",
    "\n",
    "dnn_best = keras.models.Sequential([\n",
    "    keras.layers.Dense(30, activation=\"relu\", input_shape=X_train.shape[1:]),\n",
    "    keras.layers.Dense(15, activation=\"relu\"),\n",
    "    keras.layers.Dense(5, activation=\"relu\"),\n",
    "    keras.layers.Dense(1),\n",
    "])\n",
    "dnn_best.compile(loss=\"mean_squared_error\",\n",
    "                optimizer = keras.optimizers.Adam(lr=0.0078817, beta_1=0.9, beta_2=0.999))\n",
    "history_best = dnn_best.fit(X_train, y_train, epochs=40,\n",
    "                 validation_data=(X_valid, y_valid))"
   ]
  },
  {
   "cell_type": "code",
   "execution_count": 492,
   "metadata": {},
   "outputs": [
    {
     "name": "stdout",
     "output_type": "stream",
     "text": [
      "192473/192473 [==============================] - 5s 26us/sample - loss: 4551705.6170\n",
      "rmse =  2133.47\n"
     ]
    }
   ],
   "source": [
    "mse_best = dnn_best.evaluate(autos_features_prepared_m1_tr, autos_label_m1_tr)\n",
    "rmse_best = np.sqrt(mse_best)\n",
    "print(\"rmse = \", rmse_best.round(2))"
   ]
  },
  {
   "cell_type": "markdown",
   "metadata": {},
   "source": [
    "### Model 2"
   ]
  },
  {
   "cell_type": "markdown",
   "metadata": {},
   "source": [
    "__Fine-Tunning Neural Network:__"
   ]
  },
  {
   "cell_type": "code",
   "execution_count": 447,
   "metadata": {},
   "outputs": [],
   "source": [
    "def build_model(n_hidden=1, n_neurons=30, learning_rate=3e-3, input_shape=[309]):\n",
    "    model = keras.models.Sequential()\n",
    "    model.add(keras.layers.InputLayer(input_shape=input_shape))\n",
    "    for layer in range (n_hidden):\n",
    "        model.add(keras.layers.Dense(n_neurons, activation=\"relu\"))\n",
    "        model.add(keras.layers.Dense(1))\n",
    "        optimizer = keras.optimizers.Adam(lr=learning_rate, beta_1=0.9, beta_2=0.999)\n",
    "        model.compile(loss=\"mean_squared_error\", optimizer=optimizer)\n",
    "    return model"
   ]
  },
  {
   "cell_type": "code",
   "execution_count": 448,
   "metadata": {},
   "outputs": [],
   "source": [
    "keras_reg_2 = keras.wrappers.scikit_learn.KerasRegressor(build_model)"
   ]
  },
  {
   "cell_type": "code",
   "execution_count": 449,
   "metadata": {},
   "outputs": [],
   "source": [
    "dnn_2_hp = {\n",
    "    \"n_hidden\": [0, 1, 2, 3],\n",
    "    \"n_neurons\": np.arange(1, 100),\n",
    "    \"learning_rate\": reciprocal(3e-4, 3e-2),\n",
    "}"
   ]
  },
  {
   "cell_type": "code",
   "execution_count": 450,
   "metadata": {},
   "outputs": [],
   "source": [
    "rnd_search_cv_2 = RandomizedSearchCV(keras_reg_2, dnn_2_hp, n_iter=10, cv=3)"
   ]
  },
  {
   "cell_type": "code",
   "execution_count": 451,
   "metadata": {},
   "outputs": [
    {
     "name": "stderr",
     "output_type": "stream",
     "text": [
      "C:\\Users\\igorm\\Anaconda3\\lib\\site-packages\\sklearn\\model_selection\\_validation.py:536: FitFailedWarning: Estimator fit failed. The score on this train-test partition for these parameters will be set to nan. Details: \n",
      "AttributeError: 'Sequential' object has no attribute 'loss'\n",
      "\n",
      "  FitFailedWarning)\n"
     ]
    },
    {
     "name": "stdout",
     "output_type": "stream",
     "text": [
      "Train on 102652 samples, validate on 38495 samples\n",
      "Epoch 1/40\n",
      "102652/102652 [==============================] - 11s 110us/sample - loss: 71.2925 - val_loss: 70.7575\n",
      "Epoch 2/40\n",
      "102652/102652 [==============================] - 10s 94us/sample - loss: 69.9140 - val_loss: 70.9011\n",
      "Epoch 3/40\n",
      "102652/102652 [==============================] - 11s 105us/sample - loss: 69.5639 - val_loss: 70.9052\n",
      "Epoch 4/40\n",
      "102652/102652 [==============================] - 10s 100us/sample - loss: 69.5198 - val_loss: 70.5954\n",
      "Epoch 5/40\n",
      "102652/102652 [==============================] - 10s 96us/sample - loss: 69.4743 - val_loss: 71.3073\n",
      "Epoch 6/40\n",
      "102652/102652 [==============================] - 10s 97us/sample - loss: 69.4149 - val_loss: 70.7067\n",
      "Epoch 7/40\n",
      "102652/102652 [==============================] - 10s 94us/sample - loss: 69.3250 - val_loss: 70.5166\n",
      "Epoch 8/40\n",
      "102652/102652 [==============================] - 10s 97us/sample - loss: 69.3673 - val_loss: 70.4804\n",
      "Epoch 9/40\n",
      "102652/102652 [==============================] - 10s 97us/sample - loss: 69.3063 - val_loss: 71.1845\n",
      "Epoch 10/40\n",
      "102652/102652 [==============================] - 10s 97us/sample - loss: 69.3057 - val_loss: 70.4101\n",
      "Epoch 11/40\n",
      "102652/102652 [==============================] - 10s 99us/sample - loss: 69.3063 - val_loss: 73.3457\n",
      "Epoch 12/40\n",
      "102652/102652 [==============================] - 10s 101us/sample - loss: 69.1795 - val_loss: 70.5808\n",
      "Epoch 13/40\n",
      "102652/102652 [==============================] - 12s 113us/sample - loss: 69.2260 - val_loss: 70.6751\n",
      "Epoch 14/40\n",
      "102652/102652 [==============================] - 10s 101us/sample - loss: 69.1820 - val_loss: 70.3582\n",
      "Epoch 15/40\n",
      "102652/102652 [==============================] - 10s 96us/sample - loss: 69.2261 - val_loss: 71.2446\n",
      "Epoch 16/40\n",
      "102652/102652 [==============================] - 11s 104us/sample - loss: 69.2217 - val_loss: 72.3255\n",
      "Epoch 17/40\n",
      "102652/102652 [==============================] - 10s 99us/sample - loss: 69.2161 - val_loss: 71.0543\n",
      "Epoch 18/40\n",
      "102652/102652 [==============================] - 10s 96us/sample - loss: 69.1455 - val_loss: 70.7155\n",
      "Epoch 19/40\n",
      "102652/102652 [==============================] - 11s 103us/sample - loss: 69.1671 - val_loss: 70.5585\n",
      "Epoch 20/40\n",
      "102652/102652 [==============================] - 10s 98us/sample - loss: 69.2111 - val_loss: 70.5819\n",
      "Epoch 21/40\n",
      "102652/102652 [==============================] - 10s 93us/sample - loss: 69.2019 - val_loss: 70.5443\n",
      "Epoch 22/40\n",
      "102652/102652 [==============================] - 10s 100us/sample - loss: 69.1420 - val_loss: 71.5283\n",
      "Epoch 23/40\n",
      "102652/102652 [==============================] - 10s 95us/sample - loss: 69.1648 - val_loss: 71.2403\n",
      "Epoch 24/40\n",
      "102652/102652 [==============================] - 11s 104us/sample - loss: 69.1390 - val_loss: 70.9574\n",
      "51326/51326 [==============================] - 1s 28us/sample - loss: 70.3953\n",
      "Train on 102652 samples, validate on 38495 samples\n",
      "Epoch 1/40\n",
      "102652/102652 [==============================] - 15s 144us/sample - loss: 71.4759 - val_loss: 71.3607\n",
      "Epoch 2/40\n",
      "102652/102652 [==============================] - 10s 98us/sample - loss: 70.1543 - val_loss: 70.8129\n",
      "Epoch 3/40\n",
      "102652/102652 [==============================] - 10s 102us/sample - loss: 69.8943 - val_loss: 72.6067\n",
      "Epoch 4/40\n",
      "102652/102652 [==============================] - 11s 105us/sample - loss: 69.8103 - val_loss: 71.3316\n",
      "Epoch 5/40\n",
      "102652/102652 [==============================] - 10s 100us/sample - loss: 69.7507 - val_loss: 70.9060\n",
      "Epoch 6/40\n",
      "102652/102652 [==============================] - 10s 95us/sample - loss: 69.6908 - val_loss: 70.4674\n",
      "Epoch 7/40\n",
      "102652/102652 [==============================] - 10s 96us/sample - loss: 69.6712 - val_loss: 70.6725\n",
      "Epoch 8/40\n",
      "102652/102652 [==============================] - 10s 98us/sample - loss: 69.6383 - val_loss: 70.5073\n",
      "Epoch 9/40\n",
      "102652/102652 [==============================] - 10s 102us/sample - loss: 69.5629 - val_loss: 70.5277\n",
      "Epoch 10/40\n",
      "102652/102652 [==============================] - 10s 102us/sample - loss: 69.6625 - val_loss: 70.9914\n",
      "Epoch 11/40\n",
      "102652/102652 [==============================] - 11s 110us/sample - loss: 69.5164 - val_loss: 71.4298\n",
      "Epoch 12/40\n",
      "102652/102652 [==============================] - 11s 107us/sample - loss: 69.5714 - val_loss: 70.7764\n",
      "Epoch 13/40\n",
      "102652/102652 [==============================] - 10s 99us/sample - loss: 69.5561 - val_loss: 70.8137\n",
      "Epoch 14/40\n",
      "102652/102652 [==============================] - 10s 95us/sample - loss: 69.4940 - val_loss: 70.5187\n",
      "Epoch 15/40\n",
      "102652/102652 [==============================] - 10s 94us/sample - loss: 69.4326 - val_loss: 70.6233\n",
      "Epoch 16/40\n",
      "102652/102652 [==============================] - 10s 96us/sample - loss: 69.4405 - val_loss: 70.8465\n",
      "51326/51326 [==============================] - 1s 26us/sample - loss: 69.9621\n",
      "Train on 102652 samples, validate on 38495 samples\n",
      "Epoch 1/40\n",
      "102652/102652 [==============================] - 10s 97us/sample - loss: 71.5651 - val_loss: 70.8957\n",
      "Epoch 2/40\n",
      "102652/102652 [==============================] - 10s 93us/sample - loss: 70.1887 - val_loss: 70.6756\n",
      "Epoch 3/40\n",
      "102652/102652 [==============================] - 10s 96us/sample - loss: 69.9978 - val_loss: 72.0465\n",
      "Epoch 4/40\n",
      "102652/102652 [==============================] - 9s 91us/sample - loss: 69.8742 - val_loss: 70.6166\n",
      "Epoch 5/40\n",
      "102652/102652 [==============================] - 10s 96us/sample - loss: 69.8257 - val_loss: 70.8456\n",
      "Epoch 6/40\n",
      "102652/102652 [==============================] - 10s 93us/sample - loss: 69.8279 - val_loss: 70.8350\n",
      "Epoch 7/40\n",
      "102652/102652 [==============================] - 10s 96us/sample - loss: 69.7455 - val_loss: 70.4579\n",
      "Epoch 8/40\n",
      "102652/102652 [==============================] - 10s 95us/sample - loss: 69.7220 - val_loss: 70.7130\n",
      "Epoch 9/40\n",
      "102652/102652 [==============================] - 9s 92us/sample - loss: 69.7647 - val_loss: 70.7005\n",
      "Epoch 10/40\n",
      "102652/102652 [==============================] - 10s 96us/sample - loss: 69.6951 - val_loss: 72.0024\n",
      "Epoch 11/40\n",
      "102652/102652 [==============================] - 10s 95us/sample - loss: 69.6583 - val_loss: 70.9632\n",
      "Epoch 12/40\n",
      "102652/102652 [==============================] - 10s 99us/sample - loss: 69.6225 - val_loss: 71.5878\n",
      "Epoch 13/40\n",
      "102652/102652 [==============================] - 10s 98us/sample - loss: 69.6689 - val_loss: 70.5186\n",
      "Epoch 14/40\n",
      "102652/102652 [==============================] - 10s 100us/sample - loss: 69.5487 - val_loss: 71.8398\n",
      "Epoch 15/40\n",
      "102652/102652 [==============================] - 11s 108us/sample - loss: 69.5936 - val_loss: 70.8983\n",
      "Epoch 16/40\n",
      "102652/102652 [==============================] - 11s 111us/sample - loss: 69.5348 - val_loss: 70.9693\n",
      "Epoch 17/40\n",
      "102652/102652 [==============================] - 11s 105us/sample - loss: 69.5442 - val_loss: 70.7681\n",
      "51326/51326 [==============================] - 1s 28us/sample - loss: 69.6764\n",
      "Train on 102652 samples, validate on 38495 samples\n",
      "Epoch 1/40\n",
      "102652/102652 [==============================] - 14s 132us/sample - loss: 70.5175 - val_loss: 70.3411\n",
      "Epoch 2/40\n",
      "102652/102652 [==============================] - 13s 123us/sample - loss: 68.9273 - val_loss: 69.6734\n",
      "Epoch 3/40\n",
      "102652/102652 [==============================] - 12s 117us/sample - loss: 68.5213 - val_loss: 69.4522\n",
      "Epoch 4/40\n",
      "102652/102652 [==============================] - 12s 117us/sample - loss: 68.2201 - val_loss: 69.5265\n",
      "Epoch 5/40\n",
      "102652/102652 [==============================] - 12s 121us/sample - loss: 68.0536 - val_loss: 69.4049\n",
      "Epoch 6/40\n",
      "102652/102652 [==============================] - 12s 121us/sample - loss: 67.8356 - val_loss: 69.5046\n",
      "Epoch 7/40\n",
      "102652/102652 [==============================] - 13s 125us/sample - loss: 67.6920 - val_loss: 69.3826\n",
      "Epoch 8/40\n",
      "102652/102652 [==============================] - 12s 121us/sample - loss: 67.5707 - val_loss: 69.3319\n",
      "Epoch 9/40\n",
      "102652/102652 [==============================] - 14s 133us/sample - loss: 67.4379 - val_loss: 69.3674\n",
      "Epoch 10/40\n",
      "102652/102652 [==============================] - 13s 127us/sample - loss: 67.2650 - val_loss: 70.2837\n",
      "Epoch 11/40\n",
      "102652/102652 [==============================] - 12s 121us/sample - loss: 67.1746 - val_loss: 69.5506\n",
      "Epoch 12/40\n",
      "102652/102652 [==============================] - 13s 125us/sample - loss: 67.0894 - val_loss: 70.1941\n",
      "Epoch 13/40\n",
      "102652/102652 [==============================] - 13s 123us/sample - loss: 66.9083 - val_loss: 69.6042\n",
      "Epoch 14/40\n",
      "102652/102652 [==============================] - 13s 123us/sample - loss: 66.8548 - val_loss: 69.5427\n",
      "Epoch 15/40\n",
      "102652/102652 [==============================] - 13s 130us/sample - loss: 66.7883 - val_loss: 69.5607\n",
      "Epoch 16/40\n",
      "102652/102652 [==============================] - 13s 126us/sample - loss: 66.7007 - val_loss: 70.0285\n",
      "Epoch 17/40\n",
      "102652/102652 [==============================] - 13s 125us/sample - loss: 66.6249 - val_loss: 69.6405\n",
      "Epoch 18/40\n",
      "102652/102652 [==============================] - 13s 125us/sample - loss: 66.5514 - val_loss: 69.5911\n",
      "51326/51326 [==============================] - 2s 34us/sample - loss: 68.9341\n",
      "Train on 102652 samples, validate on 38495 samples\n",
      "Epoch 1/40\n",
      "102652/102652 [==============================] - 13s 127us/sample - loss: 70.9207 - val_loss: 70.4353\n",
      "Epoch 2/40\n",
      "102652/102652 [==============================] - 12s 119us/sample - loss: 69.4302 - val_loss: 70.1648\n",
      "Epoch 3/40\n",
      "102652/102652 [==============================] - 13s 124us/sample - loss: 68.9370 - val_loss: 69.5459\n",
      "Epoch 4/40\n",
      "102652/102652 [==============================] - 12s 116us/sample - loss: 68.5374 - val_loss: 69.3463\n",
      "Epoch 5/40\n",
      "102652/102652 [==============================] - 12s 119us/sample - loss: 68.3633 - val_loss: 69.8016\n",
      "Epoch 6/40\n",
      "102652/102652 [==============================] - 15s 142us/sample - loss: 68.2026 - val_loss: 69.5640\n",
      "Epoch 7/40\n",
      "102652/102652 [==============================] - 12s 119us/sample - loss: 67.9897 - val_loss: 69.8969\n",
      "Epoch 8/40\n",
      "102652/102652 [==============================] - 13s 126us/sample - loss: 67.8401 - val_loss: 69.5197\n",
      "Epoch 9/40\n",
      "102652/102652 [==============================] - 12s 116us/sample - loss: 67.7543 - val_loss: 69.2871\n",
      "Epoch 10/40\n",
      "102652/102652 [==============================] - 13s 125us/sample - loss: 67.5920 - val_loss: 69.4574\n",
      "Epoch 11/40\n",
      "102652/102652 [==============================] - 12s 120us/sample - loss: 67.4389 - val_loss: 69.5109\n",
      "Epoch 12/40\n",
      "102652/102652 [==============================] - 13s 125us/sample - loss: 67.3494 - val_loss: 69.2893\n",
      "Epoch 13/40\n",
      "102652/102652 [==============================] - 13s 124us/sample - loss: 67.2434 - val_loss: 69.7511\n",
      "Epoch 14/40\n",
      "102652/102652 [==============================] - 13s 123us/sample - loss: 67.1831 - val_loss: 69.6759\n",
      "Epoch 15/40\n",
      "102652/102652 [==============================] - 13s 126us/sample - loss: 67.0024 - val_loss: 69.5207\n",
      "Epoch 16/40\n",
      "102652/102652 [==============================] - 12s 121us/sample - loss: 66.9824 - val_loss: 69.6211\n",
      "Epoch 17/40\n",
      "102652/102652 [==============================] - 12s 120us/sample - loss: 66.9234 - val_loss: 69.4231\n",
      "Epoch 18/40\n",
      "102652/102652 [==============================] - 12s 120us/sample - loss: 66.8655 - val_loss: 69.9441\n",
      "Epoch 19/40\n",
      "102652/102652 [==============================] - 12s 119us/sample - loss: 66.7602 - val_loss: 69.3390\n",
      "51326/51326 [==============================] - 2s 30us/sample - loss: 68.2634\n",
      "Train on 102652 samples, validate on 38495 samples\n",
      "Epoch 1/40\n",
      "102652/102652 [==============================] - 13s 128us/sample - loss: 71.0804 - val_loss: 70.0505\n",
      "Epoch 2/40\n",
      "102652/102652 [==============================] - 12s 118us/sample - loss: 69.4898 - val_loss: 69.6737\n",
      "Epoch 3/40\n",
      "102652/102652 [==============================] - 13s 122us/sample - loss: 69.0409 - val_loss: 70.8174\n",
      "Epoch 4/40\n",
      "102652/102652 [==============================] - 12s 120us/sample - loss: 68.8433 - val_loss: 69.4841\n",
      "Epoch 5/40\n",
      "102652/102652 [==============================] - 12s 119us/sample - loss: 68.5663 - val_loss: 69.7208\n",
      "Epoch 6/40\n",
      "102652/102652 [==============================] - 13s 123us/sample - loss: 68.4272 - val_loss: 70.3888\n",
      "Epoch 7/40\n",
      "102652/102652 [==============================] - 12s 121us/sample - loss: 68.2506 - val_loss: 69.2617\n",
      "Epoch 8/40\n",
      "102652/102652 [==============================] - 13s 123us/sample - loss: 68.0907 - val_loss: 69.4676\n",
      "Epoch 9/40\n",
      "102652/102652 [==============================] - 12s 121us/sample - loss: 67.9466 - val_loss: 69.6946\n",
      "Epoch 10/40\n",
      "102652/102652 [==============================] - 12s 121us/sample - loss: 67.9470 - val_loss: 69.7439\n",
      "Epoch 11/40\n",
      "102652/102652 [==============================] - 13s 124us/sample - loss: 67.7666 - val_loss: 69.5258\n",
      "Epoch 12/40\n",
      "102652/102652 [==============================] - 14s 140us/sample - loss: 67.6457 - val_loss: 70.0162\n",
      "Epoch 13/40\n",
      "102652/102652 [==============================] - 13s 131us/sample - loss: 67.5225 - val_loss: 69.4132\n",
      "Epoch 14/40\n",
      "102652/102652 [==============================] - 12s 115us/sample - loss: 67.4728 - val_loss: 69.6964\n",
      "Epoch 15/40\n",
      "102652/102652 [==============================] - 12s 116us/sample - loss: 67.3952 - val_loss: 69.7635\n",
      "Epoch 16/40\n",
      "102652/102652 [==============================] - 12s 117us/sample - loss: 67.3382 - val_loss: 69.9154\n",
      "Epoch 17/40\n",
      "102652/102652 [==============================] - 12s 117us/sample - loss: 67.1459 - val_loss: 69.5171\n",
      "51326/51326 [==============================] - 2s 30us/sample - loss: 68.4070\n",
      "Train on 102652 samples, validate on 38495 samples\n",
      "Epoch 1/40\n",
      "102652/102652 [==============================] - 11s 109us/sample - loss: 73.3395 - val_loss: 70.5399\n",
      "Epoch 2/40\n",
      "102652/102652 [==============================] - 11s 102us/sample - loss: 69.4349 - val_loss: 70.4943\n",
      "Epoch 3/40\n",
      "102652/102652 [==============================] - 11s 108us/sample - loss: 69.0430 - val_loss: 70.0495\n",
      "Epoch 4/40\n",
      "102652/102652 [==============================] - 11s 102us/sample - loss: 68.7232 - val_loss: 69.9728\n",
      "Epoch 5/40\n",
      "102652/102652 [==============================] - 10s 102us/sample - loss: 68.4847 - val_loss: 69.8146\n",
      "Epoch 6/40\n",
      "102652/102652 [==============================] - 11s 105us/sample - loss: 68.2802 - val_loss: 69.7181\n",
      "Epoch 7/40\n",
      "102652/102652 [==============================] - 11s 103us/sample - loss: 68.0971 - val_loss: 69.5775\n",
      "Epoch 8/40\n",
      "102652/102652 [==============================] - 11s 106us/sample - loss: 67.9493 - val_loss: 69.6676\n",
      "Epoch 9/40\n",
      "102652/102652 [==============================] - 11s 108us/sample - loss: 67.8392 - val_loss: 69.7339\n",
      "Epoch 10/40\n",
      "102652/102652 [==============================] - 11s 103us/sample - loss: 67.7428 - val_loss: 71.0818\n",
      "Epoch 11/40\n",
      "102652/102652 [==============================] - 11s 109us/sample - loss: 67.6926 - val_loss: 69.3907\n",
      "Epoch 12/40\n",
      "102652/102652 [==============================] - 12s 115us/sample - loss: 67.6262 - val_loss: 69.4555\n",
      "Epoch 13/40\n",
      "102652/102652 [==============================] - 10s 101us/sample - loss: 67.5620 - val_loss: 69.3928\n",
      "Epoch 14/40\n",
      "102652/102652 [==============================] - 10s 100us/sample - loss: 67.5054 - val_loss: 69.6579\n",
      "Epoch 15/40\n",
      "102652/102652 [==============================] - 11s 107us/sample - loss: 67.4483 - val_loss: 69.8075\n",
      "Epoch 16/40\n",
      "102652/102652 [==============================] - 10s 101us/sample - loss: 67.3895 - val_loss: 69.5729\n",
      "Epoch 17/40\n",
      "102652/102652 [==============================] - 10s 99us/sample - loss: 67.4263 - val_loss: 69.2778\n",
      "Epoch 18/40\n",
      "102652/102652 [==============================] - 11s 107us/sample - loss: 67.3447 - val_loss: 69.8390\n",
      "Epoch 19/40\n",
      "102652/102652 [==============================] - 11s 102us/sample - loss: 67.2966 - val_loss: 69.5326\n",
      "Epoch 20/40\n",
      "102652/102652 [==============================] - 11s 103us/sample - loss: 67.2651 - val_loss: 69.4917\n",
      "Epoch 21/40\n",
      "102652/102652 [==============================] - 12s 113us/sample - loss: 67.2063 - val_loss: 69.4404\n",
      "Epoch 22/40\n",
      "102652/102652 [==============================] - 11s 104us/sample - loss: 67.1673 - val_loss: 69.4788\n",
      "Epoch 23/40\n",
      "102652/102652 [==============================] - 11s 110us/sample - loss: 67.1439 - val_loss: 69.4915\n",
      "Epoch 24/40\n",
      "102652/102652 [==============================] - 12s 121us/sample - loss: 67.0876 - val_loss: 69.4511\n",
      "Epoch 25/40\n",
      "102652/102652 [==============================] - 12s 112us/sample - loss: 67.0696 - val_loss: 69.8460\n",
      "Epoch 26/40\n",
      "102652/102652 [==============================] - 10s 102us/sample - loss: 67.0733 - val_loss: 69.7483\n",
      "Epoch 27/40\n",
      "102652/102652 [==============================] - 11s 103us/sample - loss: 67.0114 - val_loss: 69.4896\n",
      "51326/51326 [==============================] - 1s 23us/sample - loss: 69.0030\n",
      "Train on 102652 samples, validate on 38495 samples\n",
      "Epoch 1/40\n",
      "102652/102652 [==============================] - 12s 116us/sample - loss: 72.1099 - val_loss: 70.2621\n",
      "Epoch 2/40\n",
      "102652/102652 [==============================] - 11s 108us/sample - loss: 69.4467 - val_loss: 69.9839\n",
      "Epoch 3/40\n",
      "102652/102652 [==============================] - 11s 106us/sample - loss: 69.0450 - val_loss: 69.7084\n",
      "Epoch 4/40\n",
      "102652/102652 [==============================] - 11s 105us/sample - loss: 68.7972 - val_loss: 69.5990\n",
      "Epoch 5/40\n",
      "102652/102652 [==============================] - 12s 112us/sample - loss: 68.4810 - val_loss: 69.5200\n",
      "Epoch 6/40\n",
      "102652/102652 [==============================] - 11s 104us/sample - loss: 68.3072 - val_loss: 69.6460\n",
      "Epoch 7/40\n",
      "102652/102652 [==============================] - 11s 106us/sample - loss: 68.1757 - val_loss: 69.3148\n",
      "Epoch 8/40\n",
      "102652/102652 [==============================] - 11s 105us/sample - loss: 68.0765 - val_loss: 69.4812\n",
      "Epoch 9/40\n",
      "102652/102652 [==============================] - 10s 101us/sample - loss: 67.9889 - val_loss: 69.3102\n",
      "Epoch 10/40\n",
      "102652/102652 [==============================] - 11s 109us/sample - loss: 67.8435 - val_loss: 69.5563\n",
      "Epoch 11/40\n",
      "102652/102652 [==============================] - 11s 106us/sample - loss: 67.8056 - val_loss: 69.3619\n",
      "Epoch 12/40\n",
      "102652/102652 [==============================] - 11s 105us/sample - loss: 67.7355 - val_loss: 69.5122\n",
      "Epoch 13/40\n",
      "102652/102652 [==============================] - 11s 108us/sample - loss: 67.6979 - val_loss: 69.9173\n",
      "Epoch 14/40\n",
      "102652/102652 [==============================] - 12s 120us/sample - loss: 67.5966 - val_loss: 69.5337\n",
      "Epoch 15/40\n",
      "102652/102652 [==============================] - 11s 109us/sample - loss: 67.5323 - val_loss: 69.3007\n",
      "Epoch 16/40\n",
      "102652/102652 [==============================] - 11s 105us/sample - loss: 67.4675 - val_loss: 69.3957\n",
      "Epoch 17/40\n",
      "102652/102652 [==============================] - 12s 113us/sample - loss: 67.4149 - val_loss: 69.6321\n",
      "Epoch 18/40\n",
      "102652/102652 [==============================] - 11s 108us/sample - loss: 67.3744 - val_loss: 69.3914\n",
      "Epoch 19/40\n",
      "102652/102652 [==============================] - 10s 102us/sample - loss: 67.3534 - val_loss: 69.3088\n",
      "Epoch 20/40\n",
      "102652/102652 [==============================] - 10s 102us/sample - loss: 67.2924 - val_loss: 69.4751\n",
      "Epoch 21/40\n",
      "102652/102652 [==============================] - 11s 103us/sample - loss: 67.2856 - val_loss: 69.3872\n",
      "Epoch 22/40\n",
      "102652/102652 [==============================] - 10s 99us/sample - loss: 67.2303 - val_loss: 69.4412\n",
      "Epoch 23/40\n",
      "102652/102652 [==============================] - 11s 103us/sample - loss: 67.1873 - val_loss: 69.5605\n",
      "Epoch 24/40\n",
      "102652/102652 [==============================] - 11s 105us/sample - loss: 67.1575 - val_loss: 70.4480\n",
      "Epoch 25/40\n",
      "102652/102652 [==============================] - 10s 101us/sample - loss: 67.1369 - val_loss: 69.3353\n",
      "51326/51326 [==============================] - 2s 29us/sample - loss: 68.4184\n",
      "Train on 102652 samples, validate on 38495 samples\n",
      "Epoch 1/40\n",
      "102652/102652 [==============================] - 13s 126us/sample - loss: 73.6879 - val_loss: 70.5169\n",
      "Epoch 2/40\n",
      "102652/102652 [==============================] - 10s 101us/sample - loss: 69.7206 - val_loss: 70.3248\n",
      "Epoch 3/40\n",
      "102652/102652 [==============================] - 10s 99us/sample - loss: 69.4179 - val_loss: 69.9608\n",
      "Epoch 4/40\n",
      "102652/102652 [==============================] - 10s 101us/sample - loss: 69.1769 - val_loss: 69.8685\n",
      "Epoch 5/40\n",
      "102652/102652 [==============================] - 10s 100us/sample - loss: 69.0427 - val_loss: 70.4451\n",
      "Epoch 6/40\n",
      "102652/102652 [==============================] - 10s 99us/sample - loss: 68.9129 - val_loss: 69.9443\n",
      "Epoch 7/40\n",
      "102652/102652 [==============================] - 10s 101us/sample - loss: 68.7743 - val_loss: 69.6535\n",
      "Epoch 8/40\n",
      "102652/102652 [==============================] - 10s 100us/sample - loss: 68.6399 - val_loss: 69.8585\n",
      "Epoch 9/40\n",
      "102652/102652 [==============================] - 11s 103us/sample - loss: 68.5328 - val_loss: 69.6218\n",
      "Epoch 10/40\n",
      "102652/102652 [==============================] - 10s 101us/sample - loss: 68.4106 - val_loss: 69.6164\n",
      "Epoch 11/40\n",
      "102652/102652 [==============================] - 10s 99us/sample - loss: 68.3255 - val_loss: 69.4429\n",
      "Epoch 12/40\n",
      "102652/102652 [==============================] - 10s 99us/sample - loss: 68.2283 - val_loss: 69.3689\n",
      "Epoch 13/40\n",
      "102652/102652 [==============================] - 10s 100us/sample - loss: 68.1510 - val_loss: 69.3045\n",
      "Epoch 14/40\n",
      "102652/102652 [==============================] - 10s 100us/sample - loss: 68.0769 - val_loss: 69.3732\n",
      "Epoch 15/40\n",
      "102652/102652 [==============================] - 10s 98us/sample - loss: 67.9978 - val_loss: 69.2583\n",
      "Epoch 16/40\n",
      "102652/102652 [==============================] - 11s 103us/sample - loss: 67.9599 - val_loss: 69.4362\n",
      "Epoch 17/40\n",
      "102652/102652 [==============================] - 10s 99us/sample - loss: 67.9238 - val_loss: 69.2317\n",
      "Epoch 18/40\n",
      "102652/102652 [==============================] - 10s 101us/sample - loss: 67.8549 - val_loss: 69.3173\n",
      "Epoch 19/40\n",
      "102652/102652 [==============================] - 10s 100us/sample - loss: 67.8442 - val_loss: 69.2244\n",
      "Epoch 20/40\n",
      "102652/102652 [==============================] - 10s 99us/sample - loss: 67.7994 - val_loss: 69.2417\n",
      "Epoch 21/40\n",
      "102652/102652 [==============================] - 10s 101us/sample - loss: 67.7412 - val_loss: 69.5565\n",
      "Epoch 22/40\n",
      "102652/102652 [==============================] - 15s 150us/sample - loss: 67.7342 - val_loss: 69.2646\n",
      "Epoch 23/40\n",
      "102652/102652 [==============================] - 12s 118us/sample - loss: 67.6841 - val_loss: 69.4257\n",
      "Epoch 24/40\n",
      "102652/102652 [==============================] - 11s 107us/sample - loss: 67.6670 - val_loss: 69.3066\n",
      "Epoch 25/40\n",
      "102652/102652 [==============================] - 11s 107us/sample - loss: 67.6199 - val_loss: 69.2622\n",
      "Epoch 26/40\n",
      "102652/102652 [==============================] - 11s 111us/sample - loss: 67.6033 - val_loss: 69.7726\n",
      "Epoch 27/40\n",
      "102652/102652 [==============================] - 11s 111us/sample - loss: 67.5675 - val_loss: 70.0066\n",
      "Epoch 28/40\n",
      "102652/102652 [==============================] - 11s 110us/sample - loss: 67.5640 - val_loss: 69.2091\n",
      "Epoch 29/40\n",
      "102652/102652 [==============================] - 11s 104us/sample - loss: 67.5410 - val_loss: 69.4313\n",
      "Epoch 30/40\n",
      "102652/102652 [==============================] - 14s 136us/sample - loss: 67.5012 - val_loss: 69.5043\n",
      "Epoch 31/40\n",
      "102652/102652 [==============================] - 12s 121us/sample - loss: 67.4982 - val_loss: 69.1803\n",
      "Epoch 32/40\n",
      "102652/102652 [==============================] - 14s 137us/sample - loss: 67.4527 - val_loss: 69.3199\n",
      "Epoch 33/40\n",
      "102652/102652 [==============================] - 12s 117us/sample - loss: 67.4340 - val_loss: 69.4479\n",
      "Epoch 34/40\n",
      "102652/102652 [==============================] - 12s 114us/sample - loss: 67.4146 - val_loss: 69.2410\n",
      "Epoch 35/40\n",
      "102652/102652 [==============================] - 11s 109us/sample - loss: 67.4041 - val_loss: 69.2264\n",
      "Epoch 36/40\n",
      "102652/102652 [==============================] - 11s 103us/sample - loss: 67.4131 - val_loss: 69.2250\n",
      "Epoch 37/40\n",
      "102652/102652 [==============================] - 11s 104us/sample - loss: 67.3772 - val_loss: 69.6356\n",
      "Epoch 38/40\n",
      "102652/102652 [==============================] - 10s 102us/sample - loss: 67.3777 - val_loss: 69.4707\n",
      "Epoch 39/40\n",
      "102652/102652 [==============================] - 11s 104us/sample - loss: 67.3309 - val_loss: 69.7876\n",
      "Epoch 40/40\n",
      "102652/102652 [==============================] - 10s 101us/sample - loss: 67.3267 - val_loss: 69.3800\n",
      "51326/51326 [==============================] - 1s 24us/sample - loss: 68.2656\n",
      "Train on 102652 samples, validate on 38495 samples\n",
      "Epoch 1/40\n",
      "102652/102652 [==============================] - 11s 105us/sample - loss: 70.9163 - val_loss: 70.3450\n",
      "Epoch 2/40\n",
      "102652/102652 [==============================] - 10s 98us/sample - loss: 69.1464 - val_loss: 70.1693\n",
      "Epoch 3/40\n",
      "102652/102652 [==============================] - 10s 97us/sample - loss: 68.8081 - val_loss: 69.9120\n",
      "Epoch 4/40\n",
      "102652/102652 [==============================] - 10s 100us/sample - loss: 68.5578 - val_loss: 69.9392\n",
      "Epoch 5/40\n",
      "102652/102652 [==============================] - 10s 99us/sample - loss: 68.4458 - val_loss: 70.0364\n",
      "Epoch 6/40\n",
      "102652/102652 [==============================] - 10s 98us/sample - loss: 68.3474 - val_loss: 69.7195\n",
      "Epoch 7/40\n",
      "102652/102652 [==============================] - 10s 96us/sample - loss: 68.2536 - val_loss: 69.7183\n",
      "Epoch 8/40\n",
      "102652/102652 [==============================] - 10s 97us/sample - loss: 68.2263 - val_loss: 70.6380\n",
      "Epoch 9/40\n",
      "102652/102652 [==============================] - 10s 101us/sample - loss: 68.0693 - val_loss: 69.9123\n",
      "Epoch 10/40\n",
      "102652/102652 [==============================] - 11s 104us/sample - loss: 68.0495 - val_loss: 69.5036\n",
      "Epoch 11/40\n",
      "102652/102652 [==============================] - 10s 96us/sample - loss: 67.9469 - val_loss: 69.6580\n",
      "Epoch 12/40\n",
      "102652/102652 [==============================] - 10s 99us/sample - loss: 67.9132 - val_loss: 69.4940\n",
      "Epoch 13/40\n",
      "102652/102652 [==============================] - 10s 99us/sample - loss: 67.8775 - val_loss: 69.7302\n",
      "Epoch 14/40\n",
      "102652/102652 [==============================] - 10s 96us/sample - loss: 67.8225 - val_loss: 69.5584\n",
      "Epoch 15/40\n",
      "102652/102652 [==============================] - 10s 96us/sample - loss: 67.7803 - val_loss: 69.7629\n",
      "Epoch 16/40\n",
      "102652/102652 [==============================] - 10s 98us/sample - loss: 67.7859 - val_loss: 69.6092\n",
      "Epoch 17/40\n",
      "102652/102652 [==============================] - 10s 97us/sample - loss: 67.7270 - val_loss: 69.8133\n",
      "Epoch 18/40\n",
      "102652/102652 [==============================] - 10s 94us/sample - loss: 67.6982 - val_loss: 69.4689\n",
      "Epoch 19/40\n",
      "102652/102652 [==============================] - 10s 96us/sample - loss: 67.6682 - val_loss: 69.5037\n",
      "Epoch 20/40\n",
      "102652/102652 [==============================] - 11s 103us/sample - loss: 67.6383 - val_loss: 69.4872\n",
      "Epoch 21/40\n",
      "102652/102652 [==============================] - 11s 103us/sample - loss: 67.6169 - val_loss: 69.5160\n",
      "Epoch 22/40\n",
      "102652/102652 [==============================] - 10s 100us/sample - loss: 67.5730 - val_loss: 69.9151\n",
      "Epoch 23/40\n",
      "102652/102652 [==============================] - 10s 99us/sample - loss: 67.5873 - val_loss: 69.7950\n",
      "Epoch 24/40\n",
      "102652/102652 [==============================] - 10s 99us/sample - loss: 67.5738 - val_loss: 69.4333\n",
      "Epoch 25/40\n",
      "102652/102652 [==============================] - 12s 122us/sample - loss: 67.5117 - val_loss: 69.8056\n",
      "Epoch 26/40\n",
      "102652/102652 [==============================] - 11s 102us/sample - loss: 67.4996 - val_loss: 69.5997\n",
      "Epoch 27/40\n",
      "102652/102652 [==============================] - 10s 96us/sample - loss: 67.5046 - val_loss: 69.6194\n",
      "Epoch 28/40\n",
      "102652/102652 [==============================] - 11s 105us/sample - loss: 67.4595 - val_loss: 69.6116\n",
      "Epoch 29/40\n",
      "102652/102652 [==============================] - 11s 105us/sample - loss: 67.4527 - val_loss: 69.4877\n",
      "Epoch 30/40\n",
      "102652/102652 [==============================] - 10s 98us/sample - loss: 67.4227 - val_loss: 69.5413\n",
      "Epoch 31/40\n",
      "102652/102652 [==============================] - 10s 100us/sample - loss: 67.4286 - val_loss: 69.4791\n",
      "Epoch 32/40\n",
      "102652/102652 [==============================] - 10s 95us/sample - loss: 67.4041 - val_loss: 69.6939\n",
      "Epoch 33/40\n",
      "102652/102652 [==============================] - 10s 95us/sample - loss: 67.3869 - val_loss: 69.5683\n",
      "Epoch 34/40\n",
      "102652/102652 [==============================] - 10s 96us/sample - loss: 67.3660 - val_loss: 69.6311\n",
      "51326/51326 [==============================] - 1s 24us/sample - loss: 69.1304\n",
      "Train on 102652 samples, validate on 38495 samples\n",
      "Epoch 1/40\n",
      "102652/102652 [==============================] - 10s 98us/sample - loss: 71.3998 - val_loss: 71.1530\n",
      "Epoch 2/40\n",
      "102652/102652 [==============================] - 10s 95us/sample - loss: 70.0174 - val_loss: 70.5800\n",
      "Epoch 3/40\n",
      "102652/102652 [==============================] - 10s 98us/sample - loss: 69.6753 - val_loss: 70.2368\n",
      "Epoch 4/40\n",
      "102652/102652 [==============================] - 10s 94us/sample - loss: 69.4398 - val_loss: 71.0885\n",
      "Epoch 5/40\n",
      "102652/102652 [==============================] - 10s 99us/sample - loss: 69.2942 - val_loss: 70.0644\n",
      "Epoch 6/40\n",
      "102652/102652 [==============================] - 10s 98us/sample - loss: 69.0739 - val_loss: 70.0296\n",
      "Epoch 7/40\n",
      "102652/102652 [==============================] - 10s 96us/sample - loss: 68.9091 - val_loss: 69.9511\n",
      "Epoch 8/40\n",
      "102652/102652 [==============================] - 10s 97us/sample - loss: 68.8136 - val_loss: 70.0532\n",
      "Epoch 9/40\n",
      "102652/102652 [==============================] - 10s 95us/sample - loss: 68.6731 - val_loss: 69.7724\n",
      "Epoch 10/40\n",
      "102652/102652 [==============================] - 10s 97us/sample - loss: 68.5794 - val_loss: 69.7385\n",
      "Epoch 11/40\n",
      "102652/102652 [==============================] - 10s 97us/sample - loss: 68.5254 - val_loss: 69.8086\n",
      "Epoch 12/40\n",
      "102652/102652 [==============================] - 10s 95us/sample - loss: 68.4750 - val_loss: 69.8833\n",
      "Epoch 13/40\n",
      "102652/102652 [==============================] - 10s 97us/sample - loss: 68.4586 - val_loss: 69.7708\n",
      "Epoch 14/40\n",
      "102652/102652 [==============================] - 10s 95us/sample - loss: 68.3836 - val_loss: 69.8150\n",
      "Epoch 15/40\n",
      "102652/102652 [==============================] - 10s 96us/sample - loss: 68.3615 - val_loss: 69.7756\n",
      "Epoch 16/40\n",
      "102652/102652 [==============================] - 10s 99us/sample - loss: 68.3129 - val_loss: 69.6796\n",
      "Epoch 17/40\n",
      "102652/102652 [==============================] - 10s 101us/sample - loss: 68.2841 - val_loss: 69.5469\n",
      "Epoch 18/40\n",
      "102652/102652 [==============================] - 11s 108us/sample - loss: 68.2475 - val_loss: 69.5174\n",
      "Epoch 19/40\n",
      "102652/102652 [==============================] - 10s 98us/sample - loss: 68.1931 - val_loss: 69.5780\n",
      "Epoch 20/40\n",
      "102652/102652 [==============================] - 11s 102us/sample - loss: 68.1604 - val_loss: 69.6024\n",
      "Epoch 21/40\n",
      "102652/102652 [==============================] - 10s 96us/sample - loss: 68.1269 - val_loss: 69.7697\n",
      "Epoch 22/40\n",
      "102652/102652 [==============================] - 10s 97us/sample - loss: 68.0972 - val_loss: 69.5935\n",
      "Epoch 23/40\n",
      "102652/102652 [==============================] - 10s 97us/sample - loss: 68.0405 - val_loss: 69.4857\n",
      "Epoch 24/40\n",
      "102652/102652 [==============================] - 10s 100us/sample - loss: 68.0234 - val_loss: 69.5378\n",
      "Epoch 25/40\n",
      "102652/102652 [==============================] - 10s 94us/sample - loss: 67.9783 - val_loss: 69.4245\n",
      "Epoch 26/40\n",
      "102652/102652 [==============================] - 9s 92us/sample - loss: 67.9455 - val_loss: 69.5796\n",
      "Epoch 27/40\n",
      "102652/102652 [==============================] - 10s 94us/sample - loss: 67.9404 - val_loss: 69.4625\n",
      "Epoch 28/40\n",
      "102652/102652 [==============================] - 9s 91us/sample - loss: 67.8792 - val_loss: 69.4505\n",
      "Epoch 29/40\n",
      "102652/102652 [==============================] - 10s 93us/sample - loss: 67.8216 - val_loss: 69.7984\n",
      "Epoch 30/40\n",
      "102652/102652 [==============================] - 10s 93us/sample - loss: 67.7641 - val_loss: 69.5410\n",
      "Epoch 31/40\n",
      "102652/102652 [==============================] - 9s 90us/sample - loss: 67.7802 - val_loss: 69.5204\n",
      "Epoch 32/40\n",
      "102652/102652 [==============================] - 10s 94us/sample - loss: 67.7720 - val_loss: 69.4282\n",
      "Epoch 33/40\n",
      "102652/102652 [==============================] - 10s 93us/sample - loss: 67.7179 - val_loss: 69.3570\n",
      "Epoch 34/40\n",
      "102652/102652 [==============================] - 11s 105us/sample - loss: 67.7186 - val_loss: 69.4740\n",
      "Epoch 35/40\n",
      "102652/102652 [==============================] - 12s 117us/sample - loss: 67.6884 - val_loss: 69.3081\n",
      "Epoch 36/40\n",
      "102652/102652 [==============================] - 11s 111us/sample - loss: 67.6585 - val_loss: 69.3342\n",
      "Epoch 37/40\n",
      "102652/102652 [==============================] - 12s 115us/sample - loss: 67.6651 - val_loss: 69.3443\n",
      "Epoch 38/40\n",
      "102652/102652 [==============================] - 12s 117us/sample - loss: 67.6226 - val_loss: 69.3835\n",
      "Epoch 39/40\n",
      "102652/102652 [==============================] - 10s 100us/sample - loss: 67.6178 - val_loss: 69.3773\n",
      "Epoch 40/40\n",
      "102652/102652 [==============================] - 10s 97us/sample - loss: 67.6201 - val_loss: 69.2786\n",
      "51326/51326 [==============================] - 1s 24us/sample - loss: 68.3665\n",
      "Train on 102652 samples, validate on 38495 samples\n",
      "Epoch 1/40\n",
      "102652/102652 [==============================] - 11s 105us/sample - loss: 72.2757 - val_loss: 70.8110\n",
      "Epoch 2/40\n",
      "102652/102652 [==============================] - 10s 93us/sample - loss: 69.8953 - val_loss: 70.5092\n",
      "Epoch 3/40\n",
      "102652/102652 [==============================] - 10s 95us/sample - loss: 69.5370 - val_loss: 70.0520\n",
      "Epoch 4/40\n",
      "102652/102652 [==============================] - 10s 101us/sample - loss: 69.2345 - val_loss: 70.6225\n",
      "Epoch 5/40\n",
      "102652/102652 [==============================] - 10s 96us/sample - loss: 69.0315 - val_loss: 69.8854\n",
      "Epoch 6/40\n",
      "102652/102652 [==============================] - 10s 101us/sample - loss: 68.8672 - val_loss: 69.6759\n",
      "Epoch 7/40\n",
      "102652/102652 [==============================] - 10s 102us/sample - loss: 68.7441 - val_loss: 69.6477\n",
      "Epoch 8/40\n",
      "102652/102652 [==============================] - 10s 101us/sample - loss: 68.6271 - val_loss: 69.4854\n",
      "Epoch 9/40\n",
      "102652/102652 [==============================] - 13s 126us/sample - loss: 68.5536 - val_loss: 69.4837\n",
      "Epoch 10/40\n",
      "102652/102652 [==============================] - 10s 102us/sample - loss: 68.4958 - val_loss: 69.4414\n",
      "Epoch 11/40\n",
      "102652/102652 [==============================] - 10s 98us/sample - loss: 68.4300 - val_loss: 69.3953\n",
      "Epoch 12/40\n",
      "102652/102652 [==============================] - 10s 101us/sample - loss: 68.4167 - val_loss: 69.6420\n",
      "Epoch 13/40\n",
      "102652/102652 [==============================] - 10s 96us/sample - loss: 68.3720 - val_loss: 69.6740\n",
      "Epoch 14/40\n",
      "102652/102652 [==============================] - 10s 102us/sample - loss: 68.3641 - val_loss: 69.4171\n",
      "Epoch 15/40\n",
      "102652/102652 [==============================] - 11s 103us/sample - loss: 68.2827 - val_loss: 69.8137\n",
      "Epoch 16/40\n",
      "102652/102652 [==============================] - 10s 101us/sample - loss: 68.2419 - val_loss: 69.4735\n",
      "Epoch 17/40\n",
      "102652/102652 [==============================] - 10s 98us/sample - loss: 68.2239 - val_loss: 69.9118\n",
      "Epoch 18/40\n",
      "102652/102652 [==============================] - 10s 97us/sample - loss: 68.2032 - val_loss: 69.3687\n",
      "Epoch 19/40\n",
      "102652/102652 [==============================] - 10s 99us/sample - loss: 68.1976 - val_loss: 69.3625\n",
      "Epoch 20/40\n",
      "102652/102652 [==============================] - 10s 95us/sample - loss: 68.1376 - val_loss: 69.3985\n",
      "Epoch 21/40\n",
      "102652/102652 [==============================] - 10s 101us/sample - loss: 68.1333 - val_loss: 69.8391\n",
      "Epoch 22/40\n",
      "102652/102652 [==============================] - 10s 94us/sample - loss: 68.1167 - val_loss: 69.6064\n",
      "Epoch 23/40\n",
      "102652/102652 [==============================] - 10s 97us/sample - loss: 68.1024 - val_loss: 69.5204\n",
      "Epoch 24/40\n",
      "102652/102652 [==============================] - 10s 97us/sample - loss: 68.0616 - val_loss: 69.9355\n",
      "Epoch 25/40\n",
      "102652/102652 [==============================] - 10s 93us/sample - loss: 68.0618 - val_loss: 69.8225\n",
      "Epoch 26/40\n",
      "102652/102652 [==============================] - 10s 93us/sample - loss: 68.0396 - val_loss: 69.5385\n",
      "Epoch 27/40\n",
      "102652/102652 [==============================] - 10s 94us/sample - loss: 68.0894 - val_loss: 69.3528\n",
      "Epoch 28/40\n",
      "102652/102652 [==============================] - 10s 94us/sample - loss: 68.0170 - val_loss: 69.4892\n",
      "Epoch 29/40\n",
      "102652/102652 [==============================] - 10s 94us/sample - loss: 68.0039 - val_loss: 69.5573\n",
      "Epoch 30/40\n",
      "102652/102652 [==============================] - 9s 92us/sample - loss: 67.9901 - val_loss: 69.6546\n",
      "Epoch 31/40\n",
      "102652/102652 [==============================] - 10s 95us/sample - loss: 67.9698 - val_loss: 69.4802\n",
      "Epoch 32/40\n",
      "102652/102652 [==============================] - 9s 92us/sample - loss: 67.9782 - val_loss: 69.3761\n",
      "Epoch 33/40\n",
      "102652/102652 [==============================] - 10s 93us/sample - loss: 67.9854 - val_loss: 69.4787\n",
      "Epoch 34/40\n",
      "102652/102652 [==============================] - 10s 95us/sample - loss: 67.9442 - val_loss: 69.5058\n",
      "Epoch 35/40\n",
      "102652/102652 [==============================] - 10s 94us/sample - loss: 67.9239 - val_loss: 69.5419\n",
      "Epoch 36/40\n",
      "102652/102652 [==============================] - 10s 96us/sample - loss: 67.9402 - val_loss: 69.6926\n",
      "Epoch 37/40\n",
      "102652/102652 [==============================] - 10s 93us/sample - loss: 67.9200 - val_loss: 69.5091\n",
      "51326/51326 [==============================] - 1s 29us/sample - loss: 68.1858\n",
      "Train on 102652 samples, validate on 38495 samples\n",
      "Epoch 1/40\n",
      "102652/102652 [==============================] - 11s 104us/sample - loss: 70.7207 - val_loss: 70.6508\n",
      "Epoch 2/40\n",
      "102652/102652 [==============================] - 10s 99us/sample - loss: 69.4916 - val_loss: 70.5401\n",
      "Epoch 3/40\n",
      "102652/102652 [==============================] - 11s 107us/sample - loss: 68.9971 - val_loss: 70.0258\n",
      "Epoch 4/40\n",
      "102652/102652 [==============================] - 12s 113us/sample - loss: 68.5969 - val_loss: 69.8799\n",
      "Epoch 5/40\n",
      "102652/102652 [==============================] - 10s 102us/sample - loss: 68.3113 - val_loss: 69.8205\n",
      "Epoch 6/40\n",
      "102652/102652 [==============================] - 12s 118us/sample - loss: 68.1419 - val_loss: 69.9610\n",
      "Epoch 7/40\n",
      "102652/102652 [==============================] - 11s 103us/sample - loss: 67.9496 - val_loss: 69.9030\n",
      "Epoch 8/40\n",
      "102652/102652 [==============================] - 11s 103us/sample - loss: 67.8054 - val_loss: 70.0655\n",
      "Epoch 9/40\n",
      "102652/102652 [==============================] - 11s 108us/sample - loss: 67.6864 - val_loss: 69.8442\n",
      "Epoch 10/40\n",
      "102652/102652 [==============================] - 10s 98us/sample - loss: 67.5439 - val_loss: 69.8180\n",
      "Epoch 11/40\n",
      "102652/102652 [==============================] - 10s 102us/sample - loss: 67.4268 - val_loss: 69.9469\n",
      "Epoch 12/40\n",
      "102652/102652 [==============================] - 11s 105us/sample - loss: 67.2881 - val_loss: 69.9388\n",
      "Epoch 13/40\n",
      "102652/102652 [==============================] - 11s 104us/sample - loss: 67.2727 - val_loss: 70.0239\n",
      "Epoch 14/40\n",
      "102652/102652 [==============================] - 10s 101us/sample - loss: 67.1552 - val_loss: 69.8349\n",
      "Epoch 15/40\n",
      "102652/102652 [==============================] - 10s 101us/sample - loss: 67.0843 - val_loss: 70.2408\n",
      "Epoch 16/40\n",
      "102652/102652 [==============================] - 11s 103us/sample - loss: 67.0401 - val_loss: 69.9332\n",
      "Epoch 17/40\n",
      "102652/102652 [==============================] - 11s 111us/sample - loss: 66.9883 - val_loss: 70.1931\n",
      "Epoch 18/40\n",
      "102652/102652 [==============================] - 11s 104us/sample - loss: 66.8972 - val_loss: 70.1536\n",
      "Epoch 19/40\n",
      "102652/102652 [==============================] - 10s 101us/sample - loss: 66.7968 - val_loss: 69.9991\n",
      "Epoch 20/40\n",
      "102652/102652 [==============================] - 10s 99us/sample - loss: 66.7613 - val_loss: 70.0254\n",
      "51326/51326 [==============================] - 1s 24us/sample - loss: 69.7016\n",
      "Train on 102652 samples, validate on 38495 samples\n",
      "Epoch 1/40\n",
      "102652/102652 [==============================] - 11s 102us/sample - loss: 71.0617 - val_loss: 70.6318\n",
      "Epoch 2/40\n",
      "102652/102652 [==============================] - 10s 99us/sample - loss: 69.8477 - val_loss: 70.1411\n",
      "Epoch 3/40\n",
      "102652/102652 [==============================] - 11s 108us/sample - loss: 69.4680 - val_loss: 69.9989\n",
      "Epoch 4/40\n",
      "102652/102652 [==============================] - 10s 99us/sample - loss: 69.1881 - val_loss: 69.9670\n",
      "Epoch 5/40\n",
      "102652/102652 [==============================] - 10s 97us/sample - loss: 68.9446 - val_loss: 70.5233\n",
      "Epoch 6/40\n",
      "102652/102652 [==============================] - 11s 103us/sample - loss: 68.7261 - val_loss: 70.3344\n",
      "Epoch 7/40\n",
      "102652/102652 [==============================] - 11s 105us/sample - loss: 68.5328 - val_loss: 69.9638\n",
      "Epoch 8/40\n",
      "102652/102652 [==============================] - 13s 122us/sample - loss: 68.3426 - val_loss: 70.2091\n",
      "Epoch 9/40\n",
      "102652/102652 [==============================] - 10s 100us/sample - loss: 68.2090 - val_loss: 69.7637\n",
      "Epoch 10/40\n",
      "102652/102652 [==============================] - 11s 103us/sample - loss: 68.0184 - val_loss: 70.2791\n",
      "Epoch 11/40\n",
      "102652/102652 [==============================] - 10s 96us/sample - loss: 67.8662 - val_loss: 70.2414\n",
      "Epoch 12/40\n",
      "102652/102652 [==============================] - 10s 96us/sample - loss: 67.7476 - val_loss: 70.1731\n",
      "Epoch 13/40\n",
      "102652/102652 [==============================] - 12s 122us/sample - loss: 67.6955 - val_loss: 70.0939\n",
      "Epoch 14/40\n",
      "102652/102652 [==============================] - 14s 141us/sample - loss: 67.6039 - val_loss: 70.0798\n",
      "Epoch 15/40\n",
      "102652/102652 [==============================] - 10s 97us/sample - loss: 67.4585 - val_loss: 70.0607\n",
      "Epoch 16/40\n",
      "102652/102652 [==============================] - 10s 95us/sample - loss: 67.3955 - val_loss: 70.2029\n",
      "Epoch 17/40\n",
      "102652/102652 [==============================] - 10s 94us/sample - loss: 67.3028 - val_loss: 70.0474\n",
      "Epoch 18/40\n",
      "102652/102652 [==============================] - 10s 98us/sample - loss: 67.2167 - val_loss: 70.1394\n",
      "Epoch 19/40\n",
      "102652/102652 [==============================] - 13s 126us/sample - loss: 67.1462 - val_loss: 70.0825\n",
      "51326/51326 [==============================] - 1s 26us/sample - loss: 69.3128\n",
      "Train on 102652 samples, validate on 38495 samples\n",
      "Epoch 1/40\n",
      "102652/102652 [==============================] - 11s 107us/sample - loss: 71.0579 - val_loss: 70.8580\n",
      "Epoch 2/40\n",
      "102652/102652 [==============================] - 10s 100us/sample - loss: 70.0111 - val_loss: 70.5470\n",
      "Epoch 3/40\n",
      "102652/102652 [==============================] - 10s 98us/sample - loss: 69.6105 - val_loss: 70.1110\n",
      "Epoch 4/40\n",
      "102652/102652 [==============================] - 10s 101us/sample - loss: 69.3342 - val_loss: 70.1625\n",
      "Epoch 5/40\n",
      "102652/102652 [==============================] - 10s 99us/sample - loss: 69.0580 - val_loss: 70.1596\n",
      "Epoch 6/40\n",
      "102652/102652 [==============================] - 11s 105us/sample - loss: 68.7669 - val_loss: 70.2047\n",
      "Epoch 7/40\n",
      "102652/102652 [==============================] - 10s 95us/sample - loss: 68.6499 - val_loss: 69.8339\n",
      "Epoch 8/40\n",
      "102652/102652 [==============================] - 10s 99us/sample - loss: 68.4463 - val_loss: 70.2681\n",
      "Epoch 9/40\n",
      "102652/102652 [==============================] - 10s 101us/sample - loss: 68.2935 - val_loss: 70.1589\n",
      "Epoch 10/40\n",
      "102652/102652 [==============================] - 10s 101us/sample - loss: 68.0521 - val_loss: 70.0051\n",
      "Epoch 11/40\n",
      "102652/102652 [==============================] - 10s 99us/sample - loss: 67.9602 - val_loss: 69.8832\n",
      "Epoch 12/40\n",
      "102652/102652 [==============================] - 11s 103us/sample - loss: 67.7828 - val_loss: 69.8139\n",
      "Epoch 13/40\n",
      "102652/102652 [==============================] - 10s 99us/sample - loss: 67.6460 - val_loss: 70.5293\n",
      "Epoch 14/40\n",
      "102652/102652 [==============================] - 11s 103us/sample - loss: 67.5194 - val_loss: 70.0848\n",
      "Epoch 15/40\n",
      "102652/102652 [==============================] - 10s 100us/sample - loss: 67.3946 - val_loss: 70.7638\n",
      "Epoch 16/40\n",
      "102652/102652 [==============================] - 10s 101us/sample - loss: 67.2997 - val_loss: 70.2528\n",
      "Epoch 17/40\n",
      "102652/102652 [==============================] - 10s 102us/sample - loss: 67.1869 - val_loss: 70.2590\n",
      "Epoch 18/40\n",
      "102652/102652 [==============================] - 11s 103us/sample - loss: 67.0870 - val_loss: 70.0274\n",
      "Epoch 19/40\n",
      "102652/102652 [==============================] - 10s 101us/sample - loss: 67.0509 - val_loss: 69.8557\n",
      "Epoch 20/40\n",
      "102652/102652 [==============================] - 11s 105us/sample - loss: 66.9144 - val_loss: 70.3783\n",
      "Epoch 21/40\n",
      "102652/102652 [==============================] - 11s 103us/sample - loss: 66.8436 - val_loss: 70.2574\n",
      "Epoch 22/40\n",
      "102652/102652 [==============================] - 10s 94us/sample - loss: 66.8040 - val_loss: 70.4081\n",
      "51326/51326 [==============================] - 1s 26us/sample - loss: 69.3403\n",
      "Train on 102652 samples, validate on 38495 samples\n",
      "Epoch 1/40\n",
      "102652/102652 [==============================] - 10s 100us/sample - loss: 71.4195 - val_loss: 71.5293\n",
      "Epoch 2/40\n",
      "102652/102652 [==============================] - 11s 110us/sample - loss: 69.1531 - val_loss: 70.1019\n",
      "Epoch 3/40\n",
      "102652/102652 [==============================] - 11s 107us/sample - loss: 68.7562 - val_loss: 70.3051\n",
      "Epoch 4/40\n",
      "102652/102652 [==============================] - 12s 115us/sample - loss: 68.5301 - val_loss: 69.6807\n",
      "Epoch 5/40\n",
      "102652/102652 [==============================] - 10s 97us/sample - loss: 68.3762 - val_loss: 69.6165\n",
      "Epoch 6/40\n",
      "102652/102652 [==============================] - 10s 97us/sample - loss: 68.2507 - val_loss: 69.8120\n",
      "Epoch 7/40\n",
      "102652/102652 [==============================] - 10s 101us/sample - loss: 68.1939 - val_loss: 69.6745\n",
      "Epoch 8/40\n",
      "102652/102652 [==============================] - 10s 99us/sample - loss: 68.0940 - val_loss: 69.6141\n",
      "Epoch 9/40\n",
      "102652/102652 [==============================] - 10s 100us/sample - loss: 68.0223 - val_loss: 70.2868\n",
      "Epoch 10/40\n",
      "102652/102652 [==============================] - 11s 109us/sample - loss: 67.9683 - val_loss: 69.9814\n",
      "Epoch 11/40\n",
      "102652/102652 [==============================] - 10s 101us/sample - loss: 67.9353 - val_loss: 69.6508\n",
      "Epoch 12/40\n",
      "102652/102652 [==============================] - 10s 97us/sample - loss: 67.8682 - val_loss: 70.1041\n",
      "Epoch 13/40\n",
      "102652/102652 [==============================] - 11s 103us/sample - loss: 67.8471 - val_loss: 69.6368\n",
      "Epoch 14/40\n",
      "102652/102652 [==============================] - 11s 105us/sample - loss: 67.7838 - val_loss: 70.1138\n",
      "Epoch 15/40\n",
      "102652/102652 [==============================] - 10s 101us/sample - loss: 67.7286 - val_loss: 69.6214\n",
      "Epoch 16/40\n",
      "102652/102652 [==============================] - 11s 106us/sample - loss: 67.7132 - val_loss: 69.5746\n",
      "Epoch 17/40\n",
      "102652/102652 [==============================] - 11s 105us/sample - loss: 67.6638 - val_loss: 69.9643\n",
      "Epoch 18/40\n",
      "102652/102652 [==============================] - 10s 99us/sample - loss: 67.6546 - val_loss: 69.5631\n",
      "Epoch 19/40\n",
      "102652/102652 [==============================] - 11s 108us/sample - loss: 67.5606 - val_loss: 69.7846\n",
      "Epoch 20/40\n",
      "102652/102652 [==============================] - 10s 96us/sample - loss: 67.5520 - val_loss: 69.5713\n",
      "Epoch 21/40\n",
      "102652/102652 [==============================] - 11s 103us/sample - loss: 67.5087 - val_loss: 69.5001\n",
      "Epoch 22/40\n",
      "102652/102652 [==============================] - 10s 100us/sample - loss: 67.4849 - val_loss: 69.6521\n",
      "Epoch 23/40\n",
      "102652/102652 [==============================] - 10s 96us/sample - loss: 67.4778 - val_loss: 69.5288\n",
      "Epoch 24/40\n",
      "102652/102652 [==============================] - 10s 100us/sample - loss: 67.4240 - val_loss: 69.5826\n",
      "Epoch 25/40\n",
      "102652/102652 [==============================] - 11s 102us/sample - loss: 67.3779 - val_loss: 69.7338\n",
      "Epoch 26/40\n",
      "102652/102652 [==============================] - 10s 97us/sample - loss: 67.3289 - val_loss: 69.5824\n",
      "Epoch 27/40\n",
      "102652/102652 [==============================] - 10s 100us/sample - loss: 67.2975 - val_loss: 69.7411\n",
      "Epoch 28/40\n",
      "102652/102652 [==============================] - 10s 96us/sample - loss: 67.2400 - val_loss: 69.6887\n",
      "Epoch 29/40\n",
      "102652/102652 [==============================] - 10s 100us/sample - loss: 67.2178 - val_loss: 69.7688\n",
      "Epoch 30/40\n",
      "102652/102652 [==============================] - 11s 104us/sample - loss: 67.1938 - val_loss: 69.7803\n",
      "Epoch 31/40\n",
      "102652/102652 [==============================] - 11s 105us/sample - loss: 67.1485 - val_loss: 69.9082\n",
      "51326/51326 [==============================] - 1s 22us/sample - loss: 69.3265\n",
      "Train on 102652 samples, validate on 38495 samples\n",
      "Epoch 1/40\n",
      "102652/102652 [==============================] - 11s 107us/sample - loss: 71.6840 - val_loss: 71.0727\n",
      "Epoch 2/40\n",
      "102652/102652 [==============================] - 12s 113us/sample - loss: 69.5193 - val_loss: 69.9806\n",
      "Epoch 3/40\n",
      "102652/102652 [==============================] - 12s 116us/sample - loss: 69.1326 - val_loss: 70.9126\n",
      "Epoch 4/40\n",
      "102652/102652 [==============================] - 11s 103us/sample - loss: 68.8920 - val_loss: 70.1155\n",
      "Epoch 5/40\n",
      "102652/102652 [==============================] - 10s 100us/sample - loss: 68.7375 - val_loss: 69.6038\n",
      "Epoch 6/40\n",
      "102652/102652 [==============================] - 10s 98us/sample - loss: 68.6070 - val_loss: 69.7222\n",
      "Epoch 7/40\n",
      "102652/102652 [==============================] - 10s 98us/sample - loss: 68.4741 - val_loss: 69.7965\n",
      "Epoch 8/40\n",
      "102652/102652 [==============================] - 10s 96us/sample - loss: 68.4153 - val_loss: 69.8853\n",
      "Epoch 9/40\n",
      "102652/102652 [==============================] - 10s 99us/sample - loss: 68.3221 - val_loss: 69.9773\n",
      "Epoch 10/40\n",
      "102652/102652 [==============================] - 10s 97us/sample - loss: 68.2907 - val_loss: 69.9453\n",
      "Epoch 11/40\n",
      "102652/102652 [==============================] - 11s 107us/sample - loss: 68.2542 - val_loss: 69.6589\n",
      "Epoch 12/40\n",
      "102652/102652 [==============================] - 11s 108us/sample - loss: 68.2156 - val_loss: 69.5151\n",
      "Epoch 13/40\n",
      "102652/102652 [==============================] - 10s 99us/sample - loss: 68.1585 - val_loss: 70.2160\n",
      "Epoch 14/40\n",
      "102652/102652 [==============================] - 10s 96us/sample - loss: 68.1060 - val_loss: 69.6457\n",
      "Epoch 15/40\n",
      "102652/102652 [==============================] - 10s 101us/sample - loss: 68.0262 - val_loss: 69.4481\n",
      "Epoch 16/40\n",
      "102652/102652 [==============================] - 10s 96us/sample - loss: 68.0389 - val_loss: 69.4827\n",
      "Epoch 17/40\n",
      "102652/102652 [==============================] - 10s 100us/sample - loss: 67.9455 - val_loss: 69.4423\n",
      "Epoch 18/40\n",
      "102652/102652 [==============================] - 11s 103us/sample - loss: 67.8915 - val_loss: 69.5971\n",
      "Epoch 19/40\n",
      "102652/102652 [==============================] - 10s 97us/sample - loss: 67.8727 - val_loss: 69.5752\n",
      "Epoch 20/40\n",
      "102652/102652 [==============================] - 10s 99us/sample - loss: 67.8440 - val_loss: 70.0777\n",
      "Epoch 21/40\n",
      "102652/102652 [==============================] - 11s 104us/sample - loss: 67.7607 - val_loss: 69.5757\n",
      "Epoch 22/40\n",
      "102652/102652 [==============================] - 10s 98us/sample - loss: 67.7417 - val_loss: 69.5554\n",
      "Epoch 23/40\n",
      "102652/102652 [==============================] - 10s 99us/sample - loss: 67.7083 - val_loss: 69.7859\n",
      "Epoch 24/40\n",
      "102652/102652 [==============================] - 10s 95us/sample - loss: 67.6904 - val_loss: 69.5127\n",
      "Epoch 25/40\n",
      "102652/102652 [==============================] - 10s 96us/sample - loss: 67.6482 - val_loss: 69.6527\n",
      "Epoch 26/40\n",
      "102652/102652 [==============================] - 10s 99us/sample - loss: 67.6317 - val_loss: 69.6768\n",
      "Epoch 27/40\n",
      "102652/102652 [==============================] - 10s 97us/sample - loss: 67.6151 - val_loss: 69.6018\n",
      "51326/51326 [==============================] - 1s 24us/sample - loss: 68.4847\n",
      "Train on 102652 samples, validate on 38495 samples\n",
      "Epoch 1/40\n",
      "102652/102652 [==============================] - 14s 132us/sample - loss: 71.3966 - val_loss: 70.5441\n",
      "Epoch 2/40\n",
      "102652/102652 [==============================] - 11s 104us/sample - loss: 69.8950 - val_loss: 70.6756\n",
      "Epoch 3/40\n",
      "102652/102652 [==============================] - 11s 110us/sample - loss: 69.6812 - val_loss: 71.5839\n",
      "Epoch 4/40\n",
      "102652/102652 [==============================] - 10s 100us/sample - loss: 69.5049 - val_loss: 70.2021\n",
      "Epoch 5/40\n",
      "102652/102652 [==============================] - 13s 125us/sample - loss: 69.3379 - val_loss: 69.9562\n",
      "Epoch 6/40\n",
      "102652/102652 [==============================] - 12s 113us/sample - loss: 69.1007 - val_loss: 69.9002\n",
      "Epoch 7/40\n",
      "102652/102652 [==============================] - 10s 97us/sample - loss: 68.8588 - val_loss: 69.7871\n",
      "Epoch 8/40\n",
      "102652/102652 [==============================] - 10s 100us/sample - loss: 68.7540 - val_loss: 69.6642\n",
      "Epoch 9/40\n",
      "102652/102652 [==============================] - 10s 99us/sample - loss: 68.6541 - val_loss: 69.7800\n",
      "Epoch 10/40\n",
      "102652/102652 [==============================] - 10s 102us/sample - loss: 68.5697 - val_loss: 69.6316\n",
      "Epoch 11/40\n",
      "102652/102652 [==============================] - 10s 101us/sample - loss: 68.5122 - val_loss: 70.5118\n",
      "Epoch 12/40\n",
      "102652/102652 [==============================] - 10s 100us/sample - loss: 68.4132 - val_loss: 69.6557\n",
      "Epoch 13/40\n",
      "102652/102652 [==============================] - 10s 99us/sample - loss: 68.3531 - val_loss: 69.5000\n",
      "Epoch 14/40\n",
      "102652/102652 [==============================] - 11s 105us/sample - loss: 68.2867 - val_loss: 69.8268\n",
      "Epoch 15/40\n",
      "102652/102652 [==============================] - 10s 101us/sample - loss: 68.2309 - val_loss: 69.2634\n",
      "Epoch 16/40\n",
      "102652/102652 [==============================] - 10s 95us/sample - loss: 68.1545 - val_loss: 69.4172\n",
      "Epoch 17/40\n",
      "102652/102652 [==============================] - 10s 101us/sample - loss: 68.1184 - val_loss: 69.3381\n",
      "Epoch 18/40\n",
      "102652/102652 [==============================] - 11s 103us/sample - loss: 68.0331 - val_loss: 69.6996\n",
      "Epoch 19/40\n",
      "102652/102652 [==============================] - 11s 102us/sample - loss: 68.0297 - val_loss: 69.2976\n",
      "Epoch 20/40\n",
      "102652/102652 [==============================] - 10s 101us/sample - loss: 67.9872 - val_loss: 69.5669\n",
      "Epoch 21/40\n",
      "102652/102652 [==============================] - 10s 99us/sample - loss: 67.9645 - val_loss: 69.5477\n",
      "Epoch 22/40\n",
      "102652/102652 [==============================] - 10s 98us/sample - loss: 67.9054 - val_loss: 69.2607\n",
      "Epoch 23/40\n",
      "102652/102652 [==============================] - 10s 97us/sample - loss: 67.8254 - val_loss: 69.5783\n",
      "Epoch 24/40\n",
      "102652/102652 [==============================] - 10s 98us/sample - loss: 67.7922 - val_loss: 69.2529\n",
      "Epoch 25/40\n",
      "102652/102652 [==============================] - 10s 102us/sample - loss: 67.7862 - val_loss: 69.3641\n",
      "Epoch 26/40\n",
      "102652/102652 [==============================] - 10s 99us/sample - loss: 67.7473 - val_loss: 69.4674\n",
      "Epoch 27/40\n",
      "102652/102652 [==============================] - 10s 96us/sample - loss: 67.6820 - val_loss: 69.7163\n",
      "Epoch 28/40\n",
      "102652/102652 [==============================] - 10s 100us/sample - loss: 67.6588 - val_loss: 69.4115\n",
      "Epoch 29/40\n",
      "102652/102652 [==============================] - 10s 99us/sample - loss: 67.6290 - val_loss: 69.4095\n",
      "Epoch 30/40\n",
      "102652/102652 [==============================] - 11s 104us/sample - loss: 67.5979 - val_loss: 69.6782\n",
      "Epoch 31/40\n",
      "102652/102652 [==============================] - 10s 96us/sample - loss: 67.5745 - val_loss: 69.2350\n",
      "Epoch 32/40\n",
      "102652/102652 [==============================] - 10s 93us/sample - loss: 67.5865 - val_loss: 70.0740\n",
      "Epoch 33/40\n",
      "102652/102652 [==============================] - 10s 96us/sample - loss: 67.5280 - val_loss: 69.7062\n",
      "Epoch 34/40\n",
      "102652/102652 [==============================] - 11s 102us/sample - loss: 67.4853 - val_loss: 69.3720\n",
      "Epoch 35/40\n",
      "102652/102652 [==============================] - 10s 98us/sample - loss: 67.4893 - val_loss: 69.3329\n",
      "Epoch 36/40\n",
      "102652/102652 [==============================] - 11s 106us/sample - loss: 67.4573 - val_loss: 69.2942\n",
      "Epoch 37/40\n",
      "102652/102652 [==============================] - 13s 123us/sample - loss: 67.5063 - val_loss: 69.3031\n",
      "Epoch 38/40\n",
      "102652/102652 [==============================] - 10s 98us/sample - loss: 67.4399 - val_loss: 69.5573\n",
      "Epoch 39/40\n",
      "102652/102652 [==============================] - 11s 105us/sample - loss: 67.4384 - val_loss: 69.4823\n",
      "Epoch 40/40\n",
      "102652/102652 [==============================] - 10s 102us/sample - loss: 67.4139 - val_loss: 69.4512\n",
      "51326/51326 [==============================] - 1s 22us/sample - loss: 68.1830\n",
      "Train on 102652 samples, validate on 38495 samples\n",
      "Epoch 1/40\n",
      "102652/102652 [==============================] - 10s 101us/sample - loss: 70.6081 - val_loss: 70.7993\n",
      "Epoch 2/40\n",
      "102652/102652 [==============================] - 10s 98us/sample - loss: 69.4627 - val_loss: 70.8772\n",
      "Epoch 3/40\n",
      "102652/102652 [==============================] - 10s 101us/sample - loss: 68.9759 - val_loss: 69.9797\n",
      "Epoch 4/40\n",
      "102652/102652 [==============================] - 11s 102us/sample - loss: 68.6961 - val_loss: 69.9325\n",
      "Epoch 5/40\n",
      "102652/102652 [==============================] - 10s 97us/sample - loss: 68.4121 - val_loss: 70.4731\n",
      "Epoch 6/40\n",
      "102652/102652 [==============================] - 10s 98us/sample - loss: 68.2240 - val_loss: 69.9027\n",
      "Epoch 7/40\n",
      "102652/102652 [==============================] - 10s 97us/sample - loss: 68.1287 - val_loss: 69.7708\n",
      "Epoch 8/40\n",
      "102652/102652 [==============================] - 10s 95us/sample - loss: 67.9915 - val_loss: 69.7608\n",
      "Epoch 9/40\n",
      "102652/102652 [==============================] - 10s 94us/sample - loss: 67.8587 - val_loss: 70.4481\n",
      "Epoch 10/40\n",
      "102652/102652 [==============================] - 10s 102us/sample - loss: 67.7457 - val_loss: 70.2547\n",
      "Epoch 11/40\n",
      "102652/102652 [==============================] - 10s 99us/sample - loss: 67.6819 - val_loss: 69.9304\n",
      "Epoch 12/40\n",
      "102652/102652 [==============================] - 10s 99us/sample - loss: 67.5824 - val_loss: 69.9371\n",
      "Epoch 13/40\n",
      "102652/102652 [==============================] - 10s 97us/sample - loss: 67.4974 - val_loss: 69.9582\n",
      "Epoch 14/40\n",
      "102652/102652 [==============================] - 10s 99us/sample - loss: 67.3461 - val_loss: 70.0405\n",
      "Epoch 15/40\n",
      "102652/102652 [==============================] - 10s 97us/sample - loss: 67.2757 - val_loss: 70.0417\n",
      "Epoch 16/40\n",
      "102652/102652 [==============================] - 10s 101us/sample - loss: 67.1697 - val_loss: 69.8137\n",
      "Epoch 17/40\n",
      "102652/102652 [==============================] - 11s 105us/sample - loss: 67.1039 - val_loss: 71.2241\n",
      "Epoch 18/40\n",
      "102652/102652 [==============================] - 11s 102us/sample - loss: 67.0574 - val_loss: 69.9989\n",
      "51326/51326 [==============================] - 1s 25us/sample - loss: 69.5425\n",
      "Train on 102652 samples, validate on 38495 samples\n",
      "Epoch 1/40\n",
      "102652/102652 [==============================] - 10s 100us/sample - loss: 70.8970 - val_loss: 70.4086\n",
      "Epoch 2/40\n",
      "102652/102652 [==============================] - 10s 98us/sample - loss: 69.8807 - val_loss: 70.3774\n",
      "Epoch 3/40\n",
      "102652/102652 [==============================] - 10s 96us/sample - loss: 69.4807 - val_loss: 69.9279\n",
      "Epoch 4/40\n",
      "102652/102652 [==============================] - 11s 105us/sample - loss: 69.2334 - val_loss: 70.0187\n",
      "Epoch 5/40\n",
      "102652/102652 [==============================] - 11s 108us/sample - loss: 68.9195 - val_loss: 70.4421\n",
      "Epoch 6/40\n",
      "102652/102652 [==============================] - 11s 107us/sample - loss: 68.6976 - val_loss: 70.0571\n",
      "Epoch 7/40\n",
      "102652/102652 [==============================] - 10s 100us/sample - loss: 68.5418 - val_loss: 69.9397\n",
      "Epoch 8/40\n",
      "102652/102652 [==============================] - 10s 102us/sample - loss: 68.3156 - val_loss: 70.0145\n",
      "Epoch 9/40\n",
      "102652/102652 [==============================] - 11s 105us/sample - loss: 68.1419 - val_loss: 69.8848\n",
      "Epoch 10/40\n",
      "102652/102652 [==============================] - 11s 107us/sample - loss: 67.9297 - val_loss: 70.0841\n",
      "Epoch 11/40\n",
      "102652/102652 [==============================] - 12s 113us/sample - loss: 67.8121 - val_loss: 69.7890\n",
      "Epoch 12/40\n",
      "102652/102652 [==============================] - 10s 98us/sample - loss: 67.6103 - val_loss: 70.1095\n",
      "Epoch 13/40\n",
      "102652/102652 [==============================] - 10s 101us/sample - loss: 67.4776 - val_loss: 70.9194\n",
      "Epoch 14/40\n",
      "102652/102652 [==============================] - 10s 100us/sample - loss: 67.4512 - val_loss: 69.8857\n",
      "Epoch 15/40\n",
      "102652/102652 [==============================] - 10s 97us/sample - loss: 67.2606 - val_loss: 70.1265\n",
      "Epoch 16/40\n",
      "102652/102652 [==============================] - 10s 100us/sample - loss: 67.1333 - val_loss: 69.9944\n",
      "Epoch 17/40\n",
      "102652/102652 [==============================] - 10s 97us/sample - loss: 67.0589 - val_loss: 70.2934\n",
      "Epoch 18/40\n",
      "102652/102652 [==============================] - 10s 98us/sample - loss: 66.9141 - val_loss: 70.0865\n",
      "Epoch 19/40\n",
      "102652/102652 [==============================] - 10s 97us/sample - loss: 66.8774 - val_loss: 70.4894\n",
      "Epoch 20/40\n",
      "102652/102652 [==============================] - 10s 95us/sample - loss: 66.8145 - val_loss: 70.6011\n",
      "Epoch 21/40\n",
      "102652/102652 [==============================] - 10s 97us/sample - loss: 66.6838 - val_loss: 70.2081\n",
      "51326/51326 [==============================] - 1s 26us/sample - loss: 69.5747\n",
      "Train on 102652 samples, validate on 38495 samples\n",
      "Epoch 1/40\n",
      "102652/102652 [==============================] - 10s 100us/sample - loss: 70.9440 - val_loss: 70.9519\n",
      "Epoch 2/40\n",
      "102652/102652 [==============================] - 10s 95us/sample - loss: 69.8998 - val_loss: 70.2843\n",
      "Epoch 3/40\n",
      "102652/102652 [==============================] - 10s 96us/sample - loss: 69.5403 - val_loss: 70.0797\n",
      "Epoch 4/40\n",
      "102652/102652 [==============================] - 10s 97us/sample - loss: 69.2325 - val_loss: 69.8942\n",
      "Epoch 5/40\n",
      "102652/102652 [==============================] - 10s 100us/sample - loss: 69.0125 - val_loss: 70.0651\n",
      "Epoch 6/40\n",
      "102652/102652 [==============================] - 10s 98us/sample - loss: 68.8369 - val_loss: 70.1821\n",
      "Epoch 7/40\n",
      "102652/102652 [==============================] - 10s 98us/sample - loss: 68.6400 - val_loss: 69.8081\n",
      "Epoch 8/40\n",
      "102652/102652 [==============================] - 10s 99us/sample - loss: 68.5075 - val_loss: 69.8331\n",
      "Epoch 9/40\n",
      "102652/102652 [==============================] - 10s 101us/sample - loss: 68.3526 - val_loss: 69.9515\n",
      "Epoch 10/40\n",
      "102652/102652 [==============================] - 10s 93us/sample - loss: 68.2564 - val_loss: 69.8804\n",
      "Epoch 11/40\n",
      "102652/102652 [==============================] - 10s 97us/sample - loss: 68.1442 - val_loss: 70.6029\n",
      "Epoch 12/40\n",
      "102652/102652 [==============================] - 11s 106us/sample - loss: 67.9411 - val_loss: 70.2124\n",
      "Epoch 13/40\n",
      "102652/102652 [==============================] - 10s 96us/sample - loss: 67.8585 - val_loss: 71.1079\n",
      "Epoch 14/40\n",
      "102652/102652 [==============================] - 10s 100us/sample - loss: 67.7735 - val_loss: 70.2641\n",
      "Epoch 15/40\n",
      "102652/102652 [==============================] - 10s 95us/sample - loss: 67.5969 - val_loss: 70.2658\n",
      "Epoch 16/40\n",
      "102652/102652 [==============================] - 10s 98us/sample - loss: 67.5560 - val_loss: 69.9528\n",
      "Epoch 17/40\n",
      "102652/102652 [==============================] - 10s 98us/sample - loss: 67.4263 - val_loss: 70.0404\n",
      "51326/51326 [==============================] - 1s 27us/sample - loss: 69.0481\n",
      "Train on 102652 samples, validate on 38495 samples\n",
      "Epoch 1/40\n",
      "102652/102652 [==============================] - 11s 104us/sample - loss: 70.8078 - val_loss: 70.3919\n",
      "Epoch 2/40\n",
      "102652/102652 [==============================] - 12s 116us/sample - loss: 69.3755 - val_loss: 70.3186\n",
      "Epoch 3/40\n",
      "102652/102652 [==============================] - 12s 118us/sample - loss: 68.9569 - val_loss: 71.1258\n",
      "Epoch 4/40\n",
      "102652/102652 [==============================] - 11s 103us/sample - loss: 68.7311 - val_loss: 69.8259\n",
      "Epoch 5/40\n",
      "102652/102652 [==============================] - 10s 99us/sample - loss: 68.3658 - val_loss: 69.7756\n",
      "Epoch 6/40\n",
      "102652/102652 [==============================] - 10s 101us/sample - loss: 68.1121 - val_loss: 69.7208\n",
      "Epoch 7/40\n",
      "102652/102652 [==============================] - 10s 98us/sample - loss: 67.9295 - val_loss: 69.6801\n",
      "Epoch 8/40\n",
      "102652/102652 [==============================] - 10s 95us/sample - loss: 67.7533 - val_loss: 69.6892\n",
      "Epoch 9/40\n",
      "102652/102652 [==============================] - 10s 100us/sample - loss: 67.5883 - val_loss: 69.9770\n",
      "Epoch 10/40\n",
      "102652/102652 [==============================] - 11s 107us/sample - loss: 67.4318 - val_loss: 69.7850\n",
      "Epoch 11/40\n",
      "102652/102652 [==============================] - 11s 104us/sample - loss: 67.2763 - val_loss: 69.8097\n",
      "Epoch 12/40\n",
      "102652/102652 [==============================] - 10s 100us/sample - loss: 67.2374 - val_loss: 69.8133\n",
      "Epoch 13/40\n",
      "102652/102652 [==============================] - 11s 104us/sample - loss: 67.0591 - val_loss: 70.0771\n",
      "Epoch 14/40\n",
      "102652/102652 [==============================] - 10s 99us/sample - loss: 66.9368 - val_loss: 69.9729\n",
      "Epoch 15/40\n",
      "102652/102652 [==============================] - 11s 104us/sample - loss: 66.8550 - val_loss: 70.1651\n",
      "Epoch 16/40\n",
      "102652/102652 [==============================] - 11s 107us/sample - loss: 66.7246 - val_loss: 69.9858\n",
      "Epoch 17/40\n",
      "102652/102652 [==============================] - 11s 105us/sample - loss: 66.6393 - val_loss: 70.3662\n",
      "51326/51326 [==============================] - 1s 24us/sample - loss: 69.7260\n",
      "Train on 102652 samples, validate on 38495 samples\n",
      "Epoch 1/40\n",
      "102652/102652 [==============================] - 11s 109us/sample - loss: 71.0550 - val_loss: 70.7881\n",
      "Epoch 2/40\n",
      "102652/102652 [==============================] - 11s 112us/sample - loss: 69.6426 - val_loss: 70.3526\n",
      "Epoch 3/40\n",
      "102652/102652 [==============================] - 11s 103us/sample - loss: 69.0676 - val_loss: 69.9164\n",
      "Epoch 4/40\n",
      "102652/102652 [==============================] - 11s 109us/sample - loss: 68.7334 - val_loss: 70.1176\n",
      "Epoch 5/40\n",
      "102652/102652 [==============================] - 11s 104us/sample - loss: 68.4967 - val_loss: 70.4517\n",
      "Epoch 6/40\n",
      "102652/102652 [==============================] - 11s 110us/sample - loss: 68.2486 - val_loss: 70.4321\n",
      "Epoch 7/40\n",
      "102652/102652 [==============================] - 11s 111us/sample - loss: 68.0439 - val_loss: 69.7284\n",
      "Epoch 8/40\n",
      "102652/102652 [==============================] - 11s 111us/sample - loss: 67.9028 - val_loss: 69.5610\n",
      "Epoch 9/40\n",
      "102652/102652 [==============================] - 11s 106us/sample - loss: 67.7532 - val_loss: 69.6736\n",
      "Epoch 10/40\n",
      "102652/102652 [==============================] - 10s 98us/sample - loss: 67.5975 - val_loss: 69.8323\n",
      "Epoch 11/40\n",
      "102652/102652 [==============================] - 11s 107us/sample - loss: 67.4523 - val_loss: 69.7765\n",
      "Epoch 12/40\n",
      "102652/102652 [==============================] - 10s 102us/sample - loss: 67.2434 - val_loss: 69.7681\n",
      "Epoch 13/40\n",
      "102652/102652 [==============================] - 11s 105us/sample - loss: 67.0666 - val_loss: 70.1171\n",
      "Epoch 14/40\n",
      "102652/102652 [==============================] - 12s 115us/sample - loss: 66.9134 - val_loss: 70.9154\n",
      "Epoch 15/40\n",
      "102652/102652 [==============================] - 14s 134us/sample - loss: 66.7685 - val_loss: 70.0743\n",
      "Epoch 16/40\n",
      "102652/102652 [==============================] - 11s 111us/sample - loss: 66.6400 - val_loss: 69.9493\n",
      "Epoch 17/40\n",
      "102652/102652 [==============================] - 10s 96us/sample - loss: 66.5209 - val_loss: 69.9869\n",
      "Epoch 18/40\n",
      "102652/102652 [==============================] - 11s 104us/sample - loss: 66.4050 - val_loss: 70.0486\n",
      "51326/51326 [==============================] - 1s 25us/sample - loss: 69.4381\n",
      "Train on 102652 samples, validate on 38495 samples\n",
      "Epoch 1/40\n",
      "102652/102652 [==============================] - 13s 122us/sample - loss: 71.0939 - val_loss: 70.4528\n",
      "Epoch 2/40\n",
      "102652/102652 [==============================] - 11s 105us/sample - loss: 69.6971 - val_loss: 70.1149\n",
      "Epoch 3/40\n",
      "102652/102652 [==============================] - 11s 104us/sample - loss: 69.2705 - val_loss: 70.8425\n",
      "Epoch 4/40\n",
      "102652/102652 [==============================] - 10s 101us/sample - loss: 68.9883 - val_loss: 70.6855\n",
      "Epoch 5/40\n",
      "102652/102652 [==============================] - 10s 102us/sample - loss: 68.6471 - val_loss: 69.6060\n",
      "Epoch 6/40\n",
      "102652/102652 [==============================] - 10s 100us/sample - loss: 68.4403 - val_loss: 69.7686\n",
      "Epoch 7/40\n",
      "102652/102652 [==============================] - 10s 99us/sample - loss: 68.2770 - val_loss: 69.6588\n",
      "Epoch 8/40\n",
      "102652/102652 [==============================] - 10s 96us/sample - loss: 68.1169 - val_loss: 69.7475\n",
      "Epoch 9/40\n",
      "102652/102652 [==============================] - 10s 96us/sample - loss: 67.9587 - val_loss: 70.1453\n",
      "Epoch 10/40\n",
      "102652/102652 [==============================] - 10s 96us/sample - loss: 67.8048 - val_loss: 69.6890\n",
      "Epoch 11/40\n",
      "102652/102652 [==============================] - 11s 105us/sample - loss: 67.6426 - val_loss: 69.8007\n",
      "Epoch 12/40\n",
      "102652/102652 [==============================] - 10s 101us/sample - loss: 67.4916 - val_loss: 69.6430\n",
      "Epoch 13/40\n",
      "102652/102652 [==============================] - 10s 98us/sample - loss: 67.3077 - val_loss: 69.7671\n",
      "Epoch 14/40\n",
      "102652/102652 [==============================] - 10s 98us/sample - loss: 67.1690 - val_loss: 69.8482\n",
      "Epoch 15/40\n",
      "102652/102652 [==============================] - 10s 102us/sample - loss: 67.0631 - val_loss: 69.8077\n",
      "51326/51326 [==============================] - 1s 24us/sample - loss: 68.7551\n",
      "Train on 102652 samples, validate on 38495 samples\n",
      "Epoch 1/40\n",
      "102652/102652 [==============================] - 10s 96us/sample - loss: 70.8193 - val_loss: 70.7255\n",
      "Epoch 2/40\n",
      "102652/102652 [==============================] - 9s 92us/sample - loss: 69.7266 - val_loss: 70.4461\n",
      "Epoch 3/40\n",
      "102652/102652 [==============================] - 9s 92us/sample - loss: 69.4622 - val_loss: 70.5025\n",
      "Epoch 4/40\n",
      "102652/102652 [==============================] - 9s 90us/sample - loss: 69.1753 - val_loss: 70.3119\n",
      "Epoch 5/40\n",
      "102652/102652 [==============================] - 10s 96us/sample - loss: 68.9496 - val_loss: 70.2857\n",
      "Epoch 6/40\n",
      "102652/102652 [==============================] - 9s 91us/sample - loss: 68.7617 - val_loss: 70.1687\n",
      "Epoch 7/40\n",
      "102652/102652 [==============================] - 10s 97us/sample - loss: 68.6293 - val_loss: 70.4387\n",
      "Epoch 8/40\n",
      "102652/102652 [==============================] - 10s 96us/sample - loss: 68.5740 - val_loss: 70.5181\n",
      "Epoch 9/40\n",
      "102652/102652 [==============================] - 10s 99us/sample - loss: 68.4681 - val_loss: 70.8457\n",
      "Epoch 10/40\n",
      "102652/102652 [==============================] - 10s 93us/sample - loss: 68.3828 - val_loss: 70.7609\n",
      "Epoch 11/40\n",
      "102652/102652 [==============================] - 9s 91us/sample - loss: 68.3273 - val_loss: 70.2028\n",
      "Epoch 12/40\n",
      "102652/102652 [==============================] - 10s 96us/sample - loss: 68.2813 - val_loss: 70.0477\n",
      "Epoch 13/40\n",
      "102652/102652 [==============================] - 11s 110us/sample - loss: 68.1868 - val_loss: 70.2150\n",
      "Epoch 14/40\n",
      "102652/102652 [==============================] - 10s 100us/sample - loss: 68.1784 - val_loss: 70.4692\n",
      "Epoch 15/40\n",
      "102652/102652 [==============================] - 11s 103us/sample - loss: 68.1390 - val_loss: 71.1794\n",
      "Epoch 16/40\n",
      "102652/102652 [==============================] - 11s 104us/sample - loss: 68.0672 - val_loss: 70.5008\n",
      "Epoch 17/40\n",
      "102652/102652 [==============================] - 9s 92us/sample - loss: 68.0280 - val_loss: 70.4413\n",
      "Epoch 18/40\n",
      "102652/102652 [==============================] - 10s 93us/sample - loss: 67.9638 - val_loss: 70.5052\n",
      "Epoch 19/40\n",
      "102652/102652 [==============================] - 10s 95us/sample - loss: 67.8655 - val_loss: 71.2030\n",
      "Epoch 20/40\n",
      "102652/102652 [==============================] - 10s 94us/sample - loss: 67.8753 - val_loss: 70.4290\n",
      "Epoch 21/40\n",
      "102652/102652 [==============================] - 10s 95us/sample - loss: 67.8301 - val_loss: 70.4551\n",
      "Epoch 22/40\n",
      "102652/102652 [==============================] - 10s 94us/sample - loss: 67.8147 - val_loss: 70.6068\n",
      "51326/51326 [==============================] - 1s 26us/sample - loss: 70.1557\n",
      "Train on 102652 samples, validate on 38495 samples\n",
      "Epoch 1/40\n",
      "102652/102652 [==============================] - 10s 97us/sample - loss: 71.2512 - val_loss: 70.7882\n",
      "Epoch 2/40\n",
      "102652/102652 [==============================] - 9s 92us/sample - loss: 69.9553 - val_loss: 70.3177\n",
      "Epoch 3/40\n",
      "102652/102652 [==============================] - 10s 93us/sample - loss: 69.6034 - val_loss: 70.3626\n",
      "Epoch 4/40\n",
      "102652/102652 [==============================] - 10s 100us/sample - loss: 69.3292 - val_loss: 70.1519\n",
      "Epoch 5/40\n",
      "102652/102652 [==============================] - 10s 102us/sample - loss: 69.2530 - val_loss: 70.0976\n",
      "Epoch 6/40\n",
      "102652/102652 [==============================] - 10s 101us/sample - loss: 69.0639 - val_loss: 70.4534\n",
      "Epoch 7/40\n",
      "102652/102652 [==============================] - 10s 93us/sample - loss: 68.9879 - val_loss: 70.2372\n",
      "Epoch 8/40\n",
      "102652/102652 [==============================] - 10s 93us/sample - loss: 68.9449 - val_loss: 70.5088\n",
      "Epoch 9/40\n",
      "102652/102652 [==============================] - 11s 104us/sample - loss: 68.7970 - val_loss: 70.0251\n",
      "Epoch 10/40\n",
      "102652/102652 [==============================] - 10s 93us/sample - loss: 68.8168 - val_loss: 70.2982\n",
      "Epoch 11/40\n",
      "102652/102652 [==============================] - 10s 98us/sample - loss: 68.6766 - val_loss: 70.0203\n",
      "Epoch 12/40\n",
      "102652/102652 [==============================] - 10s 94us/sample - loss: 68.6987 - val_loss: 70.5731\n",
      "Epoch 13/40\n",
      "102652/102652 [==============================] - 9s 91us/sample - loss: 68.6597 - val_loss: 70.0339\n",
      "Epoch 14/40\n",
      "102652/102652 [==============================] - 10s 93us/sample - loss: 68.5320 - val_loss: 70.6020\n",
      "Epoch 15/40\n",
      "102652/102652 [==============================] - 10s 95us/sample - loss: 68.5419 - val_loss: 70.0836\n",
      "Epoch 16/40\n",
      "102652/102652 [==============================] - 9s 92us/sample - loss: 68.4725 - val_loss: 70.3238\n",
      "Epoch 17/40\n",
      "102652/102652 [==============================] - 10s 94us/sample - loss: 68.5247 - val_loss: 70.4919\n",
      "Epoch 18/40\n",
      "102652/102652 [==============================] - 10s 93us/sample - loss: 68.4138 - val_loss: 70.0080\n",
      "Epoch 19/40\n",
      "102652/102652 [==============================] - 10s 99us/sample - loss: 68.3829 - val_loss: 70.1645\n",
      "Epoch 20/40\n",
      "102652/102652 [==============================] - 9s 92us/sample - loss: 68.3454 - val_loss: 70.7210\n",
      "Epoch 21/40\n",
      "102652/102652 [==============================] - 9s 90us/sample - loss: 68.3304 - val_loss: 70.6153\n",
      "Epoch 22/40\n",
      "102652/102652 [==============================] - 10s 94us/sample - loss: 68.3044 - val_loss: 70.0864\n",
      "Epoch 23/40\n",
      "102652/102652 [==============================] - 11s 104us/sample - loss: 68.2440 - val_loss: 70.3363\n",
      "Epoch 24/40\n",
      "102652/102652 [==============================] - 10s 101us/sample - loss: 68.2448 - val_loss: 70.0296\n",
      "Epoch 25/40\n",
      "102652/102652 [==============================] - 10s 96us/sample - loss: 68.2679 - val_loss: 70.5723\n",
      "Epoch 26/40\n",
      "102652/102652 [==============================] - 9s 91us/sample - loss: 68.1960 - val_loss: 70.1234\n",
      "Epoch 27/40\n",
      "102652/102652 [==============================] - 9s 92us/sample - loss: 68.2687 - val_loss: 70.5202\n",
      "Epoch 28/40\n",
      "102652/102652 [==============================] - 9s 92us/sample - loss: 68.2252 - val_loss: 70.5264\n",
      "51326/51326 [==============================] - 1s 24us/sample - loss: 69.7639\n",
      "Train on 102652 samples, validate on 38495 samples\n",
      "Epoch 1/40\n",
      "102652/102652 [==============================] - 10s 96us/sample - loss: 71.3629 - val_loss: 70.9404\n",
      "Epoch 2/40\n",
      "102652/102652 [==============================] - 10s 94us/sample - loss: 70.0550 - val_loss: 70.5244\n",
      "Epoch 3/40\n",
      "102652/102652 [==============================] - 9s 92us/sample - loss: 69.7248 - val_loss: 70.3567\n",
      "Epoch 4/40\n",
      "102652/102652 [==============================] - 10s 93us/sample - loss: 69.5528 - val_loss: 70.5666\n",
      "Epoch 5/40\n",
      "102652/102652 [==============================] - 10s 93us/sample - loss: 69.3972 - val_loss: 70.1418\n",
      "Epoch 6/40\n",
      "102652/102652 [==============================] - 9s 92us/sample - loss: 69.2172 - val_loss: 70.4794\n",
      "Epoch 7/40\n",
      "102652/102652 [==============================] - 9s 90us/sample - loss: 69.1889 - val_loss: 70.1748\n",
      "Epoch 8/40\n",
      "102652/102652 [==============================] - 10s 93us/sample - loss: 69.0383 - val_loss: 70.3668\n",
      "Epoch 9/40\n",
      "102652/102652 [==============================] - 10s 95us/sample - loss: 68.9107 - val_loss: 70.4351\n",
      "Epoch 10/40\n",
      "102652/102652 [==============================] - 9s 92us/sample - loss: 68.8190 - val_loss: 70.1609\n",
      "Epoch 11/40\n",
      "102652/102652 [==============================] - 11s 108us/sample - loss: 68.7417 - val_loss: 70.3554\n",
      "Epoch 12/40\n",
      "102652/102652 [==============================] - 10s 98us/sample - loss: 68.6712 - val_loss: 70.2160\n",
      "Epoch 13/40\n",
      "102652/102652 [==============================] - 10s 97us/sample - loss: 68.6354 - val_loss: 70.3198\n",
      "Epoch 14/40\n",
      "102652/102652 [==============================] - 10s 96us/sample - loss: 68.5548 - val_loss: 70.3051\n",
      "Epoch 15/40\n",
      "102652/102652 [==============================] - 10s 97us/sample - loss: 68.5211 - val_loss: 70.1971\n",
      "51326/51326 [==============================] - 1s 23us/sample - loss: 69.1426\n"
     ]
    },
    {
     "ename": "RuntimeError",
     "evalue": "Cannot clone object <tensorflow.python.keras.wrappers.scikit_learn.KerasRegressor object at 0x000001BA826EB208>, as the constructor either does not set or modifies parameter learning_rate",
     "output_type": "error",
     "traceback": [
      "\u001b[1;31m---------------------------------------------------------------------------\u001b[0m",
      "\u001b[1;31mRuntimeError\u001b[0m                              Traceback (most recent call last)",
      "\u001b[1;32m<ipython-input-451-45abab6fcc11>\u001b[0m in \u001b[0;36m<module>\u001b[1;34m\u001b[0m\n\u001b[0;32m      1\u001b[0m rnd_search_cv_2.fit(X_train_2, y_train_2, epochs=40,\n\u001b[0;32m      2\u001b[0m                   \u001b[0mvalidation_data\u001b[0m\u001b[1;33m=\u001b[0m\u001b[1;33m(\u001b[0m\u001b[0mX_valid_2\u001b[0m\u001b[1;33m,\u001b[0m \u001b[0my_valid_2\u001b[0m\u001b[1;33m)\u001b[0m\u001b[1;33m,\u001b[0m\u001b[1;33m\u001b[0m\u001b[1;33m\u001b[0m\u001b[0m\n\u001b[1;32m----> 3\u001b[1;33m                   callbacks=[keras.callbacks.EarlyStopping(patience=10)])\n\u001b[0m",
      "\u001b[1;32m~\\Anaconda3\\lib\\site-packages\\sklearn\\model_selection\\_search.py\u001b[0m in \u001b[0;36mfit\u001b[1;34m(self, X, y, groups, **fit_params)\u001b[0m\n\u001b[0;32m    734\u001b[0m             \u001b[1;31m# of the params are estimators as well.\u001b[0m\u001b[1;33m\u001b[0m\u001b[1;33m\u001b[0m\u001b[1;33m\u001b[0m\u001b[0m\n\u001b[0;32m    735\u001b[0m             self.best_estimator_ = clone(clone(base_estimator).set_params(\n\u001b[1;32m--> 736\u001b[1;33m                 **self.best_params_))\n\u001b[0m\u001b[0;32m    737\u001b[0m             \u001b[0mrefit_start_time\u001b[0m \u001b[1;33m=\u001b[0m \u001b[0mtime\u001b[0m\u001b[1;33m.\u001b[0m\u001b[0mtime\u001b[0m\u001b[1;33m(\u001b[0m\u001b[1;33m)\u001b[0m\u001b[1;33m\u001b[0m\u001b[1;33m\u001b[0m\u001b[0m\n\u001b[0;32m    738\u001b[0m             \u001b[1;32mif\u001b[0m \u001b[0my\u001b[0m \u001b[1;32mis\u001b[0m \u001b[1;32mnot\u001b[0m \u001b[1;32mNone\u001b[0m\u001b[1;33m:\u001b[0m\u001b[1;33m\u001b[0m\u001b[1;33m\u001b[0m\u001b[0m\n",
      "\u001b[1;32m~\\Anaconda3\\lib\\site-packages\\sklearn\\base.py\u001b[0m in \u001b[0;36mclone\u001b[1;34m(estimator, safe)\u001b[0m\n\u001b[0;32m     80\u001b[0m             raise RuntimeError('Cannot clone object %s, as the constructor '\n\u001b[0;32m     81\u001b[0m                                \u001b[1;34m'either does not set or modifies parameter %s'\u001b[0m \u001b[1;33m%\u001b[0m\u001b[1;33m\u001b[0m\u001b[1;33m\u001b[0m\u001b[0m\n\u001b[1;32m---> 82\u001b[1;33m                                (estimator, name))\n\u001b[0m\u001b[0;32m     83\u001b[0m     \u001b[1;32mreturn\u001b[0m \u001b[0mnew_object\u001b[0m\u001b[1;33m\u001b[0m\u001b[1;33m\u001b[0m\u001b[0m\n\u001b[0;32m     84\u001b[0m \u001b[1;33m\u001b[0m\u001b[0m\n",
      "\u001b[1;31mRuntimeError\u001b[0m: Cannot clone object <tensorflow.python.keras.wrappers.scikit_learn.KerasRegressor object at 0x000001BA826EB208>, as the constructor either does not set or modifies parameter learning_rate"
     ]
    }
   ],
   "source": [
    "rnd_search_cv_2.fit(X_train_2, y_train_2, epochs=40,\n",
    "                  validation_data=(X_valid_2, y_valid_2),\n",
    "                  callbacks=[keras.callbacks.EarlyStopping(patience=10)])"
   ]
  },
  {
   "cell_type": "code",
   "execution_count": 453,
   "metadata": {},
   "outputs": [
    {
     "data": {
      "text/plain": [
       "{'learning_rate': 0.009053223355340026, 'n_hidden': 3, 'n_neurons': 83}"
      ]
     },
     "execution_count": 453,
     "metadata": {},
     "output_type": "execute_result"
    }
   ],
   "source": [
    "rnd_search_cv_2.best_params_"
   ]
  },
  {
   "cell_type": "code",
   "execution_count": 455,
   "metadata": {},
   "outputs": [
    {
     "name": "stdout",
     "output_type": "stream",
     "text": [
      "Train on 153978 samples, validate on 38495 samples\n",
      "Epoch 1/40\n",
      "153978/153978 [==============================] - 16s 106us/sample - loss: 70.6926 - val_loss: 70.4116\n",
      "Epoch 2/40\n",
      "153978/153978 [==============================] - 17s 110us/sample - loss: 69.5621 - val_loss: 69.9554\n",
      "Epoch 3/40\n",
      "153978/153978 [==============================] - 16s 106us/sample - loss: 68.9776 - val_loss: 69.8935\n",
      "Epoch 4/40\n",
      "153978/153978 [==============================] - 17s 111us/sample - loss: 68.6507 - val_loss: 69.4286\n",
      "Epoch 5/40\n",
      "153978/153978 [==============================] - 21s 139us/sample - loss: 68.4215 - val_loss: 70.3918\n",
      "Epoch 6/40\n",
      "153978/153978 [==============================] - 21s 135us/sample - loss: 68.3156 - val_loss: 69.2703\n",
      "Epoch 7/40\n",
      "153978/153978 [==============================] - 17s 113us/sample - loss: 68.1307 - val_loss: 69.3543\n",
      "Epoch 8/40\n",
      "153978/153978 [==============================] - 15s 98us/sample - loss: 68.0204 - val_loss: 69.4301\n",
      "Epoch 9/40\n",
      "153978/153978 [==============================] - 15s 97us/sample - loss: 67.9537 - val_loss: 69.4354\n",
      "Epoch 10/40\n",
      "153978/153978 [==============================] - 14s 93us/sample - loss: 67.8561 - val_loss: 69.3840\n",
      "Epoch 11/40\n",
      "153978/153978 [==============================] - 15s 95us/sample - loss: 67.7668 - val_loss: 69.7356\n",
      "Epoch 12/40\n",
      "153978/153978 [==============================] - 14s 93us/sample - loss: 67.6886 - val_loss: 69.8982\n",
      "Epoch 13/40\n",
      "153978/153978 [==============================] - 14s 92us/sample - loss: 67.5628 - val_loss: 69.4456\n",
      "Epoch 14/40\n",
      "153978/153978 [==============================] - 15s 95us/sample - loss: 67.5248 - val_loss: 69.3722\n",
      "Epoch 15/40\n",
      "153978/153978 [==============================] - 15s 95us/sample - loss: 67.4382 - val_loss: 69.5594\n",
      "Epoch 16/40\n",
      "153978/153978 [==============================] - 14s 93us/sample - loss: 67.4223 - val_loss: 70.4326\n",
      "Epoch 17/40\n",
      "153978/153978 [==============================] - 14s 92us/sample - loss: 67.3750 - val_loss: 69.4805\n",
      "Epoch 18/40\n",
      "153978/153978 [==============================] - 14s 93us/sample - loss: 67.3235 - val_loss: 69.6360\n",
      "Epoch 19/40\n",
      "153978/153978 [==============================] - 14s 94us/sample - loss: 67.2957 - val_loss: 69.5932\n",
      "Epoch 20/40\n",
      "153978/153978 [==============================] - 15s 98us/sample - loss: 67.1592 - val_loss: 70.2281\n",
      "Epoch 21/40\n",
      "153978/153978 [==============================] - 15s 97us/sample - loss: 67.1146 - val_loss: 69.3685\n",
      "Epoch 22/40\n",
      "153978/153978 [==============================] - 14s 94us/sample - loss: 67.0760 - val_loss: 69.4410\n",
      "Epoch 23/40\n",
      "153978/153978 [==============================] - 15s 100us/sample - loss: 66.9981 - val_loss: 69.6190\n",
      "Epoch 24/40\n",
      "153978/153978 [==============================] - 14s 94us/sample - loss: 66.9588 - val_loss: 69.7789\n",
      "Epoch 25/40\n",
      "153978/153978 [==============================] - 14s 93us/sample - loss: 66.9133 - val_loss: 69.8684\n",
      "Epoch 26/40\n",
      "153978/153978 [==============================] - 15s 95us/sample - loss: 66.8675 - val_loss: 69.9372\n",
      "Epoch 27/40\n",
      "153978/153978 [==============================] - 15s 96us/sample - loss: 66.8115 - val_loss: 69.9213\n",
      "Epoch 28/40\n",
      "153978/153978 [==============================] - 16s 106us/sample - loss: 66.7626 - val_loss: 70.1532\n",
      "Epoch 29/40\n",
      "153978/153978 [==============================] - 15s 99us/sample - loss: 66.7785 - val_loss: 69.9797\n",
      "Epoch 30/40\n",
      "153978/153978 [==============================] - 15s 99us/sample - loss: 66.7493 - val_loss: 70.1407\n",
      "Epoch 31/40\n",
      "153978/153978 [==============================] - 15s 98us/sample - loss: 66.6943 - val_loss: 70.0319\n",
      "Epoch 32/40\n",
      "153978/153978 [==============================] - 16s 101us/sample - loss: 66.6809 - val_loss: 70.0333\n",
      "Epoch 33/40\n",
      "153978/153978 [==============================] - 15s 97us/sample - loss: 66.6504 - val_loss: 69.8640\n",
      "Epoch 34/40\n",
      "153978/153978 [==============================] - 16s 105us/sample - loss: 66.6274 - val_loss: 69.9261\n",
      "Epoch 35/40\n",
      "153978/153978 [==============================] - 16s 104us/sample - loss: 66.5916 - val_loss: 69.9651\n",
      "Epoch 36/40\n",
      "153978/153978 [==============================] - 15s 99us/sample - loss: 66.6207 - val_loss: 69.9550\n",
      "Epoch 37/40\n",
      "153978/153978 [==============================] - 15s 97us/sample - loss: 66.5370 - val_loss: 69.8857\n",
      "Epoch 38/40\n",
      "153978/153978 [==============================] - 15s 98us/sample - loss: 66.5500 - val_loss: 69.9808\n",
      "Epoch 39/40\n",
      "153978/153978 [==============================] - 15s 97us/sample - loss: 66.4778 - val_loss: 69.9100\n",
      "Epoch 40/40\n",
      "153978/153978 [==============================] - 15s 97us/sample - loss: 66.4778 - val_loss: 69.6061\n"
     ]
    }
   ],
   "source": [
    "#{'learning_rate': 0.009053223355340026, 'n_hidden': 3, 'n_neurons': 83}\n",
    "dnn_best_2 = keras.models.Sequential([\n",
    "    keras.layers.Dense(50, activation=\"relu\", input_shape=X_train_2.shape[1:]),\n",
    "    keras.layers.Dense(20, activation=\"relu\"),\n",
    "    keras.layers.Dense(12, activation=\"relu\"),\n",
    "    keras.layers.Dense(1),\n",
    "])\n",
    "dnn_best_2.compile(loss=\"mean_squared_error\",\n",
    "                optimizer = keras.optimizers.Adam(lr=0.00905322, beta_1=0.9, beta_2=0.999))\n",
    "history_best_2 = dnn_best_2.fit(X_train_2, y_train_2, epochs=40,\n",
    "                 validation_data=(X_valid_2, y_valid_2))"
   ]
  },
  {
   "cell_type": "code",
   "execution_count": 495,
   "metadata": {
    "scrolled": true
   },
   "outputs": [
    {
     "name": "stdout",
     "output_type": "stream",
     "text": [
      "192473/192473 [==============================] - 5s 27us/sample - loss: 66.7688\n",
      "rmse =  8.17\n"
     ]
    }
   ],
   "source": [
    "mse_best_2 = dnn_best_2.evaluate(autos_features_prepared_m2_tr, autos_label_m2_tr)\n",
    "rmse_best_2 = np.sqrt(mse_best_2)\n",
    "print(\"rmse = \", rmse_best_2.round(2))"
   ]
  },
  {
   "cell_type": "markdown",
   "metadata": {},
   "source": [
    "## 8. EVALUATING SYSTEM ON TEST SET"
   ]
  },
  {
   "cell_type": "markdown",
   "metadata": {},
   "source": [
    "### Model 1"
   ]
  },
  {
   "cell_type": "markdown",
   "metadata": {},
   "source": [
    "__Random Forest__"
   ]
  },
  {
   "cell_type": "code",
   "execution_count": 511,
   "metadata": {},
   "outputs": [],
   "source": [
    "X_test_prepared = full_pipeline.transform(autos_features_m1_test)\n",
    "rf_final_model = grid_search.best_estimator_\n",
    "rf_final_predictions = rf_final_model.predict(X_test_prepared)"
   ]
  },
  {
   "cell_type": "code",
   "execution_count": 514,
   "metadata": {},
   "outputs": [
    {
     "name": "stdout",
     "output_type": "stream",
     "text": [
      "2140.541129851844\n"
     ]
    }
   ],
   "source": [
    "final_mse = mean_squared_error(autos_label_m1_test, rf_final_predictions)\n",
    "final_rmse = np.sqrt(final_mse)\n",
    "print(final_rmse)"
   ]
  },
  {
   "cell_type": "markdown",
   "metadata": {},
   "source": [
    "__Neural Network__"
   ]
  },
  {
   "cell_type": "code",
   "execution_count": 493,
   "metadata": {},
   "outputs": [
    {
     "name": "stdout",
     "output_type": "stream",
     "text": [
      "48119/48119 [==============================] - 1s 23us/sample - loss: 4993563.4807\n",
      "rmse =  2234.63\n"
     ]
    }
   ],
   "source": [
    "mse_best_test = dnn_best.evaluate(full_pipeline.transform(autos_features_m1_test), autos_label_m1_test)\n",
    "rmse_best_test = np.sqrt(mse_best_test)\n",
    "print(\"rmse = \", rmse_best_test.round(2))"
   ]
  },
  {
   "cell_type": "code",
   "execution_count": 494,
   "metadata": {},
   "outputs": [
    {
     "name": "stdout",
     "output_type": "stream",
     "text": [
      "[[16030.778 ]\n",
      " [ 4226.353 ]\n",
      " [ 3896.884 ]\n",
      " [ 2159.7358]\n",
      " [ 1359.7623]\n",
      " [10113.175 ]\n",
      " [ 4189.4233]\n",
      " [ 9150.313 ]\n",
      " [ 4709.9326]\n",
      " [ 3538.2808]]\n",
      "[16800  5500  3650  1950  2400  9999  3999 14500  4600  3700]\n"
     ]
    }
   ],
   "source": [
    "X_new_best = full_pipeline.transform(autos_features_m1_test[:10])\n",
    "y_pred_best = dnn_best.predict(X_new_best)\n",
    "print(y_pred_best)\n",
    "print(autos_label_m1_test[:10])"
   ]
  },
  {
   "cell_type": "markdown",
   "metadata": {},
   "source": [
    "### Model 2"
   ]
  },
  {
   "cell_type": "markdown",
   "metadata": {},
   "source": [
    "__Neural Network__"
   ]
  },
  {
   "cell_type": "code",
   "execution_count": 496,
   "metadata": {},
   "outputs": [
    {
     "name": "stdout",
     "output_type": "stream",
     "text": [
      "48119/48119 [==============================] - 1s 22us/sample - loss: 68.2199\n",
      "rmse =  8.26\n"
     ]
    }
   ],
   "source": [
    "mse_best_test_2 = dnn_best_2.evaluate(full_pipeline_2.transform(autos_features_m2_test), autos_label_m2_test)\n",
    "rmse_best_test_2 = np.sqrt(mse_best_test_2)\n",
    "print(\"rmse = \", rmse_best_test_2.round(2))"
   ]
  },
  {
   "cell_type": "code",
   "execution_count": 497,
   "metadata": {},
   "outputs": [
    {
     "name": "stdout",
     "output_type": "stream",
     "text": [
      "[[11.809004]\n",
      " [11.698317]\n",
      " [10.295608]\n",
      " [ 9.261267]\n",
      " [ 9.474646]\n",
      " [11.782934]\n",
      " [10.790661]\n",
      " [12.03639 ]\n",
      " [11.407593]\n",
      " [ 8.095185]]\n",
      "[14.36594907 12.7625463   1.88564815  2.34427083 19.36438657  7.42753472\n",
      " 14.51150463 15.76107639  4.32453704 25.53219907]\n"
     ]
    }
   ],
   "source": [
    "X_new_best_2 = full_pipeline_2.transform(autos_features_m2_test[:10])\n",
    "y_pred_best_2 = dnn_best_2.predict(X_new_best_2)\n",
    "print(y_pred_best_2)\n",
    "print(autos_label_m2_test[:10])"
   ]
  },
  {
   "cell_type": "markdown",
   "metadata": {},
   "source": [
    "### References"
   ]
  },
  {
   "cell_type": "markdown",
   "metadata": {},
   "source": [
    "Géron, A., 2019. Hands-On Machine Learning with Scikit-Learn, Keras & TensorFlow. 2nd ed. Sebastopol: O'Reilly Media.\n"
   ]
  },
  {
   "cell_type": "markdown",
   "metadata": {},
   "source": [
    "Used cars database, Orges Leka - https://www.kaggle.com/orgesleka/used-cars-database/"
   ]
  }
 ],
 "metadata": {
  "kernelspec": {
   "display_name": "Python 3",
   "language": "python",
   "name": "python3"
  },
  "language_info": {
   "codemirror_mode": {
    "name": "ipython",
    "version": 3
   },
   "file_extension": ".py",
   "mimetype": "text/x-python",
   "name": "python",
   "nbconvert_exporter": "python",
   "pygments_lexer": "ipython3",
   "version": "3.7.3"
  }
 },
 "nbformat": 4,
 "nbformat_minor": 2
}
